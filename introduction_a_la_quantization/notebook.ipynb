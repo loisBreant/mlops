{
 "cells": [
  {
   "cell_type": "markdown",
   "id": "673fc1c8",
   "metadata": {},
   "source": [
    "# 2. Déploiement et quantization avec onnx"
   ]
  },
  {
   "cell_type": "markdown",
   "id": "da76f02e",
   "metadata": {},
   "source": [
    "## Partie 1"
   ]
  },
  {
   "cell_type": "markdown",
   "id": "f0de5a10",
   "metadata": {},
   "source": [
    "### 1. Entraîner un réseau de neurone convolutionnel de petite taille"
   ]
  },
  {
   "cell_type": "code",
   "execution_count": 993,
   "id": "2986dee4",
   "metadata": {},
   "outputs": [],
   "source": [
    "import torch\n",
    "import torch.nn as nn\n",
    "import torch.nn.functional as F\n",
    "import torch.optim as optim\n",
    "from torch.utils.data import DataLoader\n",
    "from torchvision import datasets, transforms\n",
    "import numpy as np\n",
    "\n",
    "transform = transforms.ToTensor()\n",
    "train_dataset = datasets.MNIST(root='data/', train=True, download=True, transform=transform)\n",
    "test_dataset  = datasets.MNIST(root='data/', train=False, download=True, transform=transform)\n",
    "\n",
    "train_loader  = DataLoader(train_dataset, batch_size=64, shuffle=True)\n",
    "test_loader   = DataLoader(test_dataset, batch_size=1000)"
   ]
  },
  {
   "cell_type": "code",
   "execution_count": 994,
   "id": "7a032fe2",
   "metadata": {},
   "outputs": [
    {
     "name": "stdout",
     "output_type": "stream",
     "text": [
      "Number of training samples: 60000\n",
      "Number of test samples: 10000\n",
      "Size images: 5\n",
      "Number of classes: 10\n"
     ]
    }
   ],
   "source": [
    "print(f\"Number of training samples: {len(train_dataset)}\")\n",
    "print(f\"Number of test samples: {len(test_dataset)}\")\n",
    "print(f\"Size images: {train_dataset[0][1]}\")\n",
    "print(f\"Number of classes: {len(train_dataset.classes)}\")"
   ]
  },
  {
   "cell_type": "code",
   "execution_count": 1020,
   "id": "59080527",
   "metadata": {},
   "outputs": [],
   "source": [
    "class MLP(nn.Module):\n",
    "\n",
    "    def __init__(self):\n",
    "        super().__init__()\n",
    "        self.fc1 = nn.Linear(28 * 28, 128)\n",
    "        self.fc2 = nn.Linear(128, 64)\n",
    "        self.fc3 = nn.Linear(64, 10)\n",
    "\n",
    "    def forward(self, x):\n",
    "        x = x.view(x.size(0), -1)\n",
    "        x = F.relu(self.fc1(x))\n",
    "        x = F.relu(self.fc2(x))\n",
    "        x = self.fc3(x)\n",
    "        return x\n",
    "\n",
    "    \n",
    "    def compile(self, optimizer, criterion):\n",
    "        self.optimizer = optimizer\n",
    "        self.criterion = criterion\n",
    "    \n",
    "    def fit(self, train_loader, epochs=1):\n",
    "        self.train()\n",
    "        for epoch in range(epochs):\n",
    "            running_loss = 0.0\n",
    "            for batch_idx, (data, target) in enumerate(train_loader):\n",
    "                self.optimizer.zero_grad()\n",
    "                output = self(data)\n",
    "                loss = self.criterion(output, target)\n",
    "                loss.backward()\n",
    "                self.optimizer.step()\n",
    "\n",
    "                running_loss += loss.item()\n",
    "            avg_loss = running_loss / len(train_loader)\n",
    "            print(f\"Epoch {epoch+1}/{epochs}, Loss: {avg_loss:.4f}\")\n",
    "\n",
    "    def evaluate(self, test_loader):\n",
    "        self.eval()\n",
    "        correct = 0\n",
    "        with torch.no_grad():\n",
    "            for data, target in test_loader:\n",
    "                output = self(data)\n",
    "                _, predicted = torch.max(output.data, 1)\n",
    "                correct += (predicted == target).sum().item()\n",
    "        return correct / len(test_loader.dataset)\n",
    "    \n",
    "    def export_onnx(self, file_name):\n",
    "        self.eval()\n",
    "        dummy_input = torch.randn(1, 1, 28, 28)\n",
    "\n",
    "        torch.onnx.export(\n",
    "            model,\n",
    "            dummy_input,\n",
    "            file_name,\n",
    "            input_names=[\"input\"],\n",
    "            output_names=[\"output\"],\n",
    "            opset_version=18,\n",
    "            dynamic_axes={\"input\": {0: \"batch_size\"}, \"output\": {0: \"batch_size\"}},\n",
    "        )\n",
    "\n",
    "model = MLP()\n",
    "optimizer = optim.Adam(model.parameters())\n",
    "criterion = nn.CrossEntropyLoss()\n",
    "model.compile(optimizer, criterion)"
   ]
  },
  {
   "cell_type": "code",
   "execution_count": 996,
   "id": "6bfe5814",
   "metadata": {},
   "outputs": [
    {
     "name": "stdout",
     "output_type": "stream",
     "text": [
      "Epoch 1/2, Loss: 0.3400\n",
      "Epoch 2/2, Loss: 0.1397\n"
     ]
    }
   ],
   "source": [
    "model.fit(train_loader, epochs=2)"
   ]
  },
  {
   "cell_type": "code",
   "execution_count": 997,
   "id": "6cb497b7",
   "metadata": {},
   "outputs": [
    {
     "name": "stdout",
     "output_type": "stream",
     "text": [
      "Accuracy: 0.9661\n"
     ]
    }
   ],
   "source": [
    "accuracy = model.evaluate(test_loader)\n",
    "print(\"Accuracy:\", accuracy)"
   ]
  },
  {
   "cell_type": "markdown",
   "id": "9a560a17",
   "metadata": {},
   "source": [
    "### 2. Faire en sorte d'exporter le modèle au format ONNX"
   ]
  },
  {
   "cell_type": "code",
   "execution_count": 998,
   "id": "3a3a2671",
   "metadata": {},
   "outputs": [
    {
     "name": "stdout",
     "output_type": "stream",
     "text": [
      "[torch.onnx] Obtain model graph for `SimpleMLP([...]` with `torch.export.export(..., strict=False)`...\n"
     ]
    },
    {
     "name": "stderr",
     "output_type": "stream",
     "text": [
      "/tmp/ipykernel_12252/1215903376.py:50: UserWarning: # 'dynamic_axes' is not recommended when dynamo=True, and may lead to 'torch._dynamo.exc.UserError: Constraints violated.' Supply the 'dynamic_shapes' argument instead if export is unsuccessful.\n",
      "  torch.onnx.export(\n"
     ]
    },
    {
     "name": "stdout",
     "output_type": "stream",
     "text": [
      "[torch.onnx] Obtain model graph for `SimpleMLP([...]` with `torch.export.export(..., strict=False)`... ✅\n",
      "[torch.onnx] Run decomposition...\n",
      "[torch.onnx] Run decomposition... ✅\n",
      "[torch.onnx] Translate the graph into ONNX...\n",
      "[torch.onnx] Translate the graph into ONNX... ✅\n",
      "Applied 1 of general pattern rewrite rules.\n"
     ]
    }
   ],
   "source": [
    "model.export_onnx(\"model/simple_mlp.onnx\")"
   ]
  },
  {
   "cell_type": "markdown",
   "id": "cc8c68a1",
   "metadata": {},
   "source": [
    "### 3. Faire un benchmark de votre modèle. il faudra mesurer le temps moyen de prédiction du modèle origianl et le modèle onnx CPU pour différente taille de batch.\n",
    "Modèle\tbatch-size = 1\tBatch size = 8\tBatch size = 32\tBatch size 128\n",
    "vitesse - modèle original\t \t \t \t \n",
    "vitesse onnx runtime\n",
    "\n",
    "### 4. Mesurer la test accuracy de votre modèle avec ONNX runtime et comparer les softpredictions sur plusieurs exemples. y-t-il des différences ?  "
   ]
  },
  {
   "cell_type": "code",
   "execution_count": 999,
   "id": "b4d20ff1",
   "metadata": {},
   "outputs": [],
   "source": [
    "import time\n",
    "import torch\n",
    "import onnx\n",
    "import onnxruntime as ort"
   ]
  },
  {
   "cell_type": "code",
   "execution_count": 1000,
   "id": "48aafd3f",
   "metadata": {},
   "outputs": [],
   "source": [
    "def benchmark_torch(mod, data_loader: DataLoader):\n",
    "    mod.eval()  \n",
    "    all_preds = []\n",
    "    correct = 0\n",
    "    times = []\n",
    "\n",
    "    with torch.no_grad():\n",
    "        for data, target in data_loader:\n",
    "            start = time.time()\n",
    "            outputs = mod(data)\n",
    "            end = time.time()\n",
    "\n",
    "            times.append(end - start)\n",
    "            preds = outputs.argmax(dim=1).cpu().numpy()\n",
    "            all_preds.append(preds)\n",
    "            correct += (preds == target.numpy()).sum()\n",
    "\n",
    "    avg_time_per_batch = np.mean(times)\n",
    "    all_preds = np.concatenate(all_preds)\n",
    "    return avg_time_per_batch, all_preds, correct / len(data_loader.dataset)\n",
    "\n",
    "\n",
    "def benchmark_onnx(ort_session, data_loader):\n",
    "    import numpy as np\n",
    "    all_preds = []\n",
    "    correct = 0\n",
    "    times = []\n",
    "\n",
    "\n",
    "    input_name = ort_session.get_inputs()[0].name\n",
    "\n",
    "    for data, target in data_loader:\n",
    "        data_np = data.numpy()\n",
    "        start = time.time()\n",
    "        outputs = ort_session.run(None, {input_name: data_np})\n",
    "        end = time.time()\n",
    "\n",
    "        times.append(end - start)\n",
    "        preds = np.argmax(outputs[0], axis=1)\n",
    "        all_preds.append(preds)\n",
    "        correct += (preds == target.numpy()).sum()\n",
    "\n",
    "    avg_time_per_batch = np.mean(times)\n",
    "    all_preds = np.concatenate(all_preds)\n",
    "    return avg_time_per_batch, all_preds, correct / len(data_loader.dataset)"
   ]
  },
  {
   "cell_type": "code",
   "execution_count": 1001,
   "id": "9523d4b2",
   "metadata": {},
   "outputs": [
    {
     "name": "stdout",
     "output_type": "stream",
     "text": [
      "     model   batch=1   batch=8  batch=32  batch=128  accuracy\n",
      "0  pytorch  0.000135  0.000178  0.000490   0.001830    0.9661\n",
      "1     onnx  0.000025  0.000051  0.000243   0.000159    0.9661\n"
     ]
    }
   ],
   "source": [
    "import pandas as pd\n",
    "ort_session = ort.InferenceSession(\"model/simple_mlp.onnx\")\n",
    "batch_sizes = [1, 8, 32, 128]\n",
    "\n",
    "def benchmark_models(models_bm, dataset):\n",
    "    results = {\"model\": [], \"batch=1\": [], \"batch=8\": [], \"batch=32\": [], \"batch=128\": [], \"accuracy\": []}\n",
    "    for model_name, m, bm_func in models_bm:\n",
    "        results[\"model\"].append(model_name)\n",
    "        times_per_batch = []\n",
    "        for batch_size in batch_sizes:\n",
    "            loader = DataLoader(dataset, batch_size=batch_size, shuffle=False)\n",
    "            avg_time_per_batch, all_preds, acc = zip(*[bm_func(m, loader) for _ in range(2)])\n",
    "            t = np.mean(avg_time_per_batch)\n",
    "            times_per_batch.append(t)\n",
    "        results[\"batch=1\"].append(times_per_batch[0])\n",
    "        results[\"batch=8\"].append(times_per_batch[1])\n",
    "        results[\"batch=32\"].append(times_per_batch[2])\n",
    "        results[\"batch=128\"].append(times_per_batch[3])\n",
    "        results[\"accuracy\"].append(np.mean(acc))\n",
    "\n",
    "    df = pd.DataFrame(results)\n",
    "    return df\n",
    "\n",
    "models_bm = [\n",
    "    (\"pytorch\", model, benchmark_torch), \n",
    "    (\"onnx\", ort_session, benchmark_onnx)\n",
    "]\n",
    "df = benchmark_models(models_bm, test_dataset)\n",
    "print(df)"
   ]
  },
  {
   "cell_type": "markdown",
   "id": "ab2a6712",
   "metadata": {},
   "source": [
    "Onnx est plus rapide sans perte de performance."
   ]
  },
  {
   "cell_type": "code",
   "execution_count": 1002,
   "id": "2c0ae508",
   "metadata": {},
   "outputs": [],
   "source": [
    "import torch\n",
    "import torch.nn.functional as F\n",
    "import numpy as np\n",
    "\n",
    "data, target = next(iter(DataLoader(test_dataset, batch_size=100, shuffle=False))) # take first 100 samples\n",
    "\n",
    "model.eval()\n",
    "with torch.no_grad():\n",
    "    logits_torch = model(data)\n",
    "    soft_torch = F.softmax(logits_torch, dim=1).numpy()\n",
    "\n",
    "input_name = ort_session.get_inputs()[0].name\n",
    "logits_onnx = ort_session.run(None, {input_name: data.numpy()})[0]\n",
    "soft_onnx = np.exp(logits_onnx) / np.sum(np.exp(logits_onnx), axis=1, keepdims=True)"
   ]
  },
  {
   "cell_type": "code",
   "execution_count": 1003,
   "id": "f5c9722a",
   "metadata": {},
   "outputs": [
    {
     "name": "stdout",
     "output_type": "stream",
     "text": [
      "Mean difference per element: 8.189887e-09\n",
      "Max difference per element: 2.3841858e-07\n"
     ]
    }
   ],
   "source": [
    "diff = np.abs(soft_torch - soft_onnx)\n",
    "print(\"Mean difference per element:\", np.mean(diff))\n",
    "print(\"Max difference per element:\", np.max(diff))"
   ]
  },
  {
   "cell_type": "markdown",
   "id": "fdaef11a",
   "metadata": {},
   "source": [
    "C'est tres proche donc onnx runtime est une bonne alternative pour deployer des modeles entraines avec pytorch. "
   ]
  },
  {
   "cell_type": "markdown",
   "id": "3a8eb313",
   "metadata": {},
   "source": [
    "## Partie 2"
   ]
  },
  {
   "cell_type": "markdown",
   "id": "389895bb",
   "metadata": {},
   "source": [
    "### 1. Quantifier le modèle et reprendre l'analyse de la partie 1. Comparer également la taille du modèle original et quantifié. "
   ]
  },
  {
   "cell_type": "code",
   "execution_count": 1057,
   "id": "51b1f51e",
   "metadata": {},
   "outputs": [],
   "source": [
    "import onnx\n",
    "from onnx import numpy_helper, shape_inference\n",
    "\n",
    "\n",
    "def _set_dynamic_batch_dim(model, dim_name=\"batch_size\"):\n",
    "    for tensor in list(model.graph.input) + list(model.graph.output):\n",
    "        tensor_shape = tensor.type.tensor_type.shape\n",
    "        if tensor_shape.dim:\n",
    "            tensor_shape.dim[0].dim_value = 0\n",
    "            tensor_shape.dim[0].dim_param = dim_name\n",
    "\n",
    "\n",
    "def correct_onnx(src, dst):\n",
    "    model = onnx.load(src)\n",
    "    for node in model.graph.node:\n",
    "        if node.op_type != \"Gemm\":\n",
    "            continue\n",
    "\n",
    "        transB_attr = next((attr for attr in node.attribute if attr.name == \"transB\"), None)\n",
    "        weight_name = node.input[1]\n",
    "\n",
    "        if transB_attr and transB_attr.i == 1:\n",
    "            weight_init = next((init for init in model.graph.initializer if init.name == weight_name), None)\n",
    "            if weight_init is None:\n",
    "                continue\n",
    "            weight_array = numpy_helper.to_array(weight_init)\n",
    "            weight_T = weight_array.T\n",
    "            new_weight_init = numpy_helper.from_array(weight_T, name=weight_name)\n",
    "\n",
    "            for idx, init in enumerate(model.graph.initializer):\n",
    "                if init.name == weight_name:\n",
    "                    model.graph.initializer[idx].CopyFrom(new_weight_init)\n",
    "                    break\n",
    "\n",
    "            transB_attr.i = 0\n",
    "\n",
    "    model.graph.value_info.clear()\n",
    "\n",
    "    model = shape_inference.infer_shapes(model, strict_mode=True)\n",
    "    _set_dynamic_batch_dim(model)\n",
    "    onnx.checker.check_model(model)\n",
    "    onnx.save(model, dst)\n",
    "\n",
    "\n",
    "src = \"model/simple_mlp.onnx\"\n",
    "dst = \"model/simple_mlp.cleaned.onnx\"\n",
    "correct_onnx(src, dst)"
   ]
  },
  {
   "cell_type": "code",
   "execution_count": 1058,
   "id": "5e36e3d6",
   "metadata": {},
   "outputs": [
    {
     "name": "stderr",
     "output_type": "stream",
     "text": [
      "WARNING:root:Please consider to run pre-processing before quantization. Refer to example: https://github.com/microsoft/onnxruntime-inference-examples/blob/main/quantization/image_classification/cpu/ReadMe.md \n"
     ]
    }
   ],
   "source": [
    "from onnxruntime.quantization import quantize_dynamic, QuantType\n",
    "quantize_dynamic(\n",
    "    model_input=\"model/simple_mlp.cleaned.onnx\",\n",
    "    model_output=\"model/simple_mlp.quant.onnx\",\n",
    "    weight_type=QuantType.QInt8,\n",
    "    per_channel=False,\n",
    "    reduce_range=False,\n",
    "    op_types_to_quantize=[\"MatMul\", \"Gemm\"],\n",
    ")"
   ]
  },
  {
   "cell_type": "code",
   "execution_count": 1059,
   "id": "0701e64b",
   "metadata": {},
   "outputs": [
    {
     "name": "stdout",
     "output_type": "stream",
     "text": [
      "Original model size: 433.65 KB\n",
      "Quantized model size: 113.65 KB\n"
     ]
    }
   ],
   "source": [
    "import os\n",
    "original_size = os.path.getsize(\"model/simple_mlp.cleaned.onnx\")\n",
    "quantized_size = os.path.getsize(\"model/simple_mlp.quant.onnx\")\n",
    "print(f\"Original model size: {original_size / 1024:.2f} KB\")\n",
    "print(f\"Quantized model size: {quantized_size / 1024:.2f} KB\")"
   ]
  },
  {
   "cell_type": "code",
   "execution_count": 1060,
   "id": "7df5666b",
   "metadata": {},
   "outputs": [
    {
     "name": "stdout",
     "output_type": "stream",
     "text": [
      "        model   batch=1   batch=8  batch=32  batch=128  accuracy\n",
      "0     pytorch  0.000135  0.000178  0.000490   0.001830    0.9661\n",
      "1        onnx  0.000025  0.000051  0.000243   0.000159    0.9661\n",
      "2  onnx_quant  0.000029  0.000038  0.000097   0.000160    0.9661\n"
     ]
    }
   ],
   "source": [
    "# Refaire le benchmark avec le modèle quantifié\n",
    "ort_session_quant = ort.InferenceSession(\"model/simple_mlp.quant.onnx\")\n",
    "\n",
    "models_bm = [(\"onnx_quant\", ort_session_quant, benchmark_onnx)]\n",
    "df_quant = benchmark_models(models_bm, test_dataset)\n",
    "df_quant = pd.concat([df, df_quant], ignore_index=True)\n",
    "print(df_quant)"
   ]
  },
  {
   "cell_type": "markdown",
   "id": "d1ec5ff9",
   "metadata": {},
   "source": [
    "### 2. Refaire la même analyse avec un dataset un peu plus complexe (cifar 10, cifar100, etc.) et / ou un modèle plus gros (par exemple issu d'un modèle pré-entraîné)"
   ]
  },
  {
   "cell_type": "code",
   "execution_count": null,
   "id": "896bafab",
   "metadata": {},
   "outputs": [],
   "source": [
    "import torchvision.datasets as datasets\n",
    "from torchvision import transforms\n",
    "\n",
    "# FIXME: calcul mean and std\n",
    "mean = (0.49139968, 0.48215827, 0.44653124)\n",
    "std = (0.24703233, 0.24348505, 0.26158768)\n",
    "cifar_transform = transforms.Compose([\n",
    "    transforms.ToTensor(),\n",
    "    transforms.Normalize(mean, std),\n",
    "])\n",
    "transform=transforms.Compose([transforms.ToTensor(), transforms.Normalize(mean, std)])\n",
    "\n",
    "cifar10_train = datasets.CIFAR10(root=\"data/\", train=True, download=True, transform=cifar_transform)\n",
    "cifar10_test = datasets.CIFAR10(root=\"data/\", train=False, download=True, transform=cifar_transform)\n",
    "\n",
    "train_cifar = torch.utils.data.DataLoader(cifar10_train, batch_size=64, shuffle=True)\n",
    "test_cifar = torch.utils.data.DataLoader(cifar10_test, batch_size=1000)"
   ]
  },
  {
   "cell_type": "code",
   "execution_count": 1062,
   "id": "242fe42c",
   "metadata": {},
   "outputs": [
    {
     "name": "stderr",
     "output_type": "stream",
     "text": [
      "Using cache found in /home/lois/.cache/torch/hub/chenyaofo_pytorch-cifar-models_master\n"
     ]
    }
   ],
   "source": [
    "# use pretrained model\n",
    "import torch\n",
    "model_cifar = torch.hub.load(\"chenyaofo/pytorch-cifar-models\", \"cifar10_resnet20\", pretrained=True)"
   ]
  },
  {
   "cell_type": "code",
   "execution_count": 1063,
   "id": "a5579f5a",
   "metadata": {},
   "outputs": [],
   "source": [
    "optimizer_cifar = optim.Adam(model_cifar.parameters())\n",
    "criterion_cifar = nn.CrossEntropyLoss()"
   ]
  },
  {
   "cell_type": "code",
   "execution_count": 1064,
   "id": "eb7e23a8",
   "metadata": {},
   "outputs": [
    {
     "name": "stderr",
     "output_type": "stream",
     "text": [
      "/tmp/ipykernel_12252/2266756794.py:5: UserWarning: # 'dynamic_axes' is not recommended when dynamo=True, and may lead to 'torch._dynamo.exc.UserError: Constraints violated.' Supply the 'dynamic_shapes' argument instead if export is unsuccessful.\n",
      "  torch.onnx.export(\n"
     ]
    },
    {
     "name": "stdout",
     "output_type": "stream",
     "text": [
      "[torch.onnx] Obtain model graph for `CifarResNet([...]` with `torch.export.export(..., strict=False)`...\n",
      "[torch.onnx] Obtain model graph for `CifarResNet([...]` with `torch.export.export(..., strict=False)`... ✅\n",
      "[torch.onnx] Run decomposition...\n",
      "[torch.onnx] Obtain model graph for `CifarResNet([...]` with `torch.export.export(..., strict=False)`... ✅\n",
      "[torch.onnx] Run decomposition...\n",
      "[torch.onnx] Run decomposition... ✅\n",
      "[torch.onnx] Translate the graph into ONNX...\n",
      "[torch.onnx] Translate the graph into ONNX... ✅\n",
      "Applied 1 of general pattern rewrite rules.\n",
      "[torch.onnx] Run decomposition... ✅\n",
      "[torch.onnx] Translate the graph into ONNX...\n",
      "[torch.onnx] Translate the graph into ONNX... ✅\n",
      "Applied 1 of general pattern rewrite rules.\n"
     ]
    },
    {
     "data": {
      "text/plain": [
       "ONNXProgram(\n",
       "    model=\n",
       "        <\n",
       "            ir_version=10,\n",
       "            opset_imports={'': 18},\n",
       "            producer_name='pytorch',\n",
       "            producer_version='2.9.0+cu128',\n",
       "            domain=None,\n",
       "            model_version=None,\n",
       "        >\n",
       "        graph(\n",
       "            name=main_graph,\n",
       "            inputs=(\n",
       "                %\"input\"<FLOAT,[s77,3,32,32]>\n",
       "            ),\n",
       "            outputs=(\n",
       "                %\"output\"<FLOAT,[1,10]>\n",
       "            ),\n",
       "            initializers=(\n",
       "                %\"conv1.weight\"<FLOAT,[16,3,3,3]>{TorchTensor(...)},\n",
       "                %\"bn1.weight\"<FLOAT,[16]>{TorchTensor(...)},\n",
       "                %\"bn1.bias\"<FLOAT,[16]>{TorchTensor(...)},\n",
       "                %\"layer1.0.conv1.weight\"<FLOAT,[16,16,3,3]>{TorchTensor(...)},\n",
       "                %\"layer1.0.bn1.weight\"<FLOAT,[16]>{TorchTensor(...)},\n",
       "                %\"layer1.0.bn1.bias\"<FLOAT,[16]>{TorchTensor(...)},\n",
       "                %\"layer1.0.conv2.weight\"<FLOAT,[16,16,3,3]>{TorchTensor(...)},\n",
       "                %\"layer1.0.bn2.weight\"<FLOAT,[16]>{TorchTensor(...)},\n",
       "                %\"layer1.0.bn2.bias\"<FLOAT,[16]>{TorchTensor(...)},\n",
       "                %\"layer1.1.conv1.weight\"<FLOAT,[16,16,3,3]>{TorchTensor(...)},\n",
       "                %\"layer1.1.bn1.weight\"<FLOAT,[16]>{TorchTensor(...)},\n",
       "                %\"layer1.1.bn1.bias\"<FLOAT,[16]>{TorchTensor(...)},\n",
       "                %\"layer1.1.conv2.weight\"<FLOAT,[16,16,3,3]>{TorchTensor(...)},\n",
       "                %\"layer1.1.bn2.weight\"<FLOAT,[16]>{TorchTensor(...)},\n",
       "                %\"layer1.1.bn2.bias\"<FLOAT,[16]>{TorchTensor(...)},\n",
       "                %\"layer1.2.conv1.weight\"<FLOAT,[16,16,3,3]>{TorchTensor(...)},\n",
       "                %\"layer1.2.bn1.weight\"<FLOAT,[16]>{TorchTensor(...)},\n",
       "                %\"layer1.2.bn1.bias\"<FLOAT,[16]>{TorchTensor(...)},\n",
       "                %\"layer1.2.conv2.weight\"<FLOAT,[16,16,3,3]>{TorchTensor(...)},\n",
       "                %\"layer1.2.bn2.weight\"<FLOAT,[16]>{TorchTensor(...)},\n",
       "                %\"layer1.2.bn2.bias\"<FLOAT,[16]>{TorchTensor(...)},\n",
       "                %\"layer2.0.conv1.weight\"<FLOAT,[32,16,3,3]>{TorchTensor(...)},\n",
       "                %\"layer2.0.bn1.weight\"<FLOAT,[32]>{TorchTensor(...)},\n",
       "                %\"layer2.0.bn1.bias\"<FLOAT,[32]>{TorchTensor(...)},\n",
       "                %\"layer2.0.conv2.weight\"<FLOAT,[32,32,3,3]>{TorchTensor(...)},\n",
       "                %\"layer2.0.bn2.weight\"<FLOAT,[32]>{TorchTensor(...)},\n",
       "                %\"layer2.0.bn2.bias\"<FLOAT,[32]>{TorchTensor(...)},\n",
       "                %\"layer2.0.downsample.0.weight\"<FLOAT,[32,16,1,1]>{TorchTensor(...)},\n",
       "                %\"layer2.0.downsample.1.weight\"<FLOAT,[32]>{TorchTensor(...)},\n",
       "                %\"layer2.1.conv1.weight\"<FLOAT,[32,32,3,3]>{TorchTensor(...)},\n",
       "                %\"layer2.1.bn1.weight\"<FLOAT,[32]>{TorchTensor(...)},\n",
       "                %\"layer2.1.bn1.bias\"<FLOAT,[32]>{TorchTensor(...)},\n",
       "                %\"layer2.1.conv2.weight\"<FLOAT,[32,32,3,3]>{TorchTensor(...)},\n",
       "                %\"layer2.1.bn2.weight\"<FLOAT,[32]>{TorchTensor(...)},\n",
       "                %\"layer2.1.bn2.bias\"<FLOAT,[32]>{TorchTensor(...)},\n",
       "                %\"layer2.2.conv1.weight\"<FLOAT,[32,32,3,3]>{TorchTensor(...)},\n",
       "                %\"layer2.2.bn1.weight\"<FLOAT,[32]>{TorchTensor(...)},\n",
       "                %\"layer2.2.bn1.bias\"<FLOAT,[32]>{TorchTensor(...)},\n",
       "                %\"layer2.2.conv2.weight\"<FLOAT,[32,32,3,3]>{TorchTensor(...)},\n",
       "                %\"layer2.2.bn2.weight\"<FLOAT,[32]>{TorchTensor(...)},\n",
       "                %\"layer2.2.bn2.bias\"<FLOAT,[32]>{TorchTensor(...)},\n",
       "                %\"layer3.0.conv1.weight\"<FLOAT,[64,32,3,3]>{TorchTensor(...)},\n",
       "                %\"layer3.0.bn1.weight\"<FLOAT,[64]>{TorchTensor(...)},\n",
       "                %\"layer3.0.bn1.bias\"<FLOAT,[64]>{TorchTensor(...)},\n",
       "                %\"layer3.0.conv2.weight\"<FLOAT,[64,64,3,3]>{TorchTensor(...)},\n",
       "                %\"layer3.0.bn2.weight\"<FLOAT,[64]>{TorchTensor(...)},\n",
       "                %\"layer3.0.bn2.bias\"<FLOAT,[64]>{TorchTensor(...)},\n",
       "                %\"layer3.0.downsample.0.weight\"<FLOAT,[64,32,1,1]>{TorchTensor(...)},\n",
       "                %\"layer3.0.downsample.1.weight\"<FLOAT,[64]>{TorchTensor(...)},\n",
       "                %\"layer3.1.conv1.weight\"<FLOAT,[64,64,3,3]>{TorchTensor(...)},\n",
       "                %\"layer3.1.bn1.weight\"<FLOAT,[64]>{TorchTensor(...)},\n",
       "                %\"layer3.1.bn1.bias\"<FLOAT,[64]>{TorchTensor(...)},\n",
       "                %\"layer3.1.conv2.weight\"<FLOAT,[64,64,3,3]>{TorchTensor(...)},\n",
       "                %\"layer3.1.bn2.weight\"<FLOAT,[64]>{TorchTensor(...)},\n",
       "                %\"layer3.1.bn2.bias\"<FLOAT,[64]>{TorchTensor(...)},\n",
       "                %\"layer3.2.conv1.weight\"<FLOAT,[64,64,3,3]>{TorchTensor(...)},\n",
       "                %\"layer3.2.bn1.weight\"<FLOAT,[64]>{TorchTensor(...)},\n",
       "                %\"layer3.2.bn1.bias\"<FLOAT,[64]>{TorchTensor(...)},\n",
       "                %\"layer3.2.conv2.weight\"<FLOAT,[64,64,3,3]>{TorchTensor(...)},\n",
       "                %\"layer3.2.bn2.weight\"<FLOAT,[64]>{TorchTensor(...)},\n",
       "                %\"layer3.2.bn2.bias\"<FLOAT,[64]>{TorchTensor(...)},\n",
       "                %\"fc.weight\"<FLOAT,[10,64]>{TorchTensor(...)},\n",
       "                %\"fc.bias\"<FLOAT,[10]>{TorchTensor<FLOAT,[10]>(Parameter containing: tensor([-0.0084, -0.0081,  0.0402,  0.0166,  0.0054, -0.0219,  0.0162, -0.0199, 0.0115, -0.0315], requires_grad=True), name='fc.bias')},\n",
       "                %\"bn1.running_mean\"<FLOAT,[16]>{TorchTensor(...)},\n",
       "                %\"bn1.running_var\"<FLOAT,[16]>{TorchTensor(...)},\n",
       "                %\"layer1.0.bn1.running_mean\"<FLOAT,[16]>{TorchTensor(...)},\n",
       "                %\"layer1.0.bn1.running_var\"<FLOAT,[16]>{TorchTensor(...)},\n",
       "                %\"layer1.0.bn2.running_mean\"<FLOAT,[16]>{TorchTensor(...)},\n",
       "                %\"layer1.0.bn2.running_var\"<FLOAT,[16]>{TorchTensor(...)},\n",
       "                %\"layer1.1.bn1.running_mean\"<FLOAT,[16]>{TorchTensor(...)},\n",
       "                %\"layer1.1.bn1.running_var\"<FLOAT,[16]>{TorchTensor(...)},\n",
       "                %\"layer1.1.bn2.running_mean\"<FLOAT,[16]>{TorchTensor(...)},\n",
       "                %\"layer1.1.bn2.running_var\"<FLOAT,[16]>{TorchTensor(...)},\n",
       "                %\"layer1.2.bn1.running_mean\"<FLOAT,[16]>{TorchTensor(...)},\n",
       "                %\"layer1.2.bn1.running_var\"<FLOAT,[16]>{TorchTensor(...)},\n",
       "                %\"layer1.2.bn2.running_mean\"<FLOAT,[16]>{TorchTensor(...)},\n",
       "                %\"layer1.2.bn2.running_var\"<FLOAT,[16]>{TorchTensor(...)},\n",
       "                %\"layer2.0.bn1.running_mean\"<FLOAT,[32]>{TorchTensor(...)},\n",
       "                %\"layer2.0.bn1.running_var\"<FLOAT,[32]>{TorchTensor(...)},\n",
       "                %\"layer2.0.bn2.running_mean\"<FLOAT,[32]>{TorchTensor(...)},\n",
       "                %\"layer2.0.bn2.running_var\"<FLOAT,[32]>{TorchTensor(...)},\n",
       "                %\"layer2.0.downsample.1.running_mean\"<FLOAT,[32]>{TorchTensor(...)},\n",
       "                %\"layer2.0.downsample.1.running_var\"<FLOAT,[32]>{TorchTensor(...)},\n",
       "                %\"layer2.1.bn1.running_mean\"<FLOAT,[32]>{TorchTensor(...)},\n",
       "                %\"layer2.1.bn1.running_var\"<FLOAT,[32]>{TorchTensor(...)},\n",
       "                %\"layer2.1.bn2.running_mean\"<FLOAT,[32]>{TorchTensor(...)},\n",
       "                %\"layer2.1.bn2.running_var\"<FLOAT,[32]>{TorchTensor(...)},\n",
       "                %\"layer2.2.bn1.running_mean\"<FLOAT,[32]>{TorchTensor(...)},\n",
       "                %\"layer2.2.bn1.running_var\"<FLOAT,[32]>{TorchTensor(...)},\n",
       "                %\"layer2.2.bn2.running_mean\"<FLOAT,[32]>{TorchTensor(...)},\n",
       "                %\"layer2.2.bn2.running_var\"<FLOAT,[32]>{TorchTensor(...)},\n",
       "                %\"layer3.0.bn1.running_mean\"<FLOAT,[64]>{TorchTensor(...)},\n",
       "                %\"layer3.0.bn1.running_var\"<FLOAT,[64]>{TorchTensor(...)},\n",
       "                %\"layer3.0.bn2.running_mean\"<FLOAT,[64]>{TorchTensor(...)},\n",
       "                %\"layer3.0.bn2.running_var\"<FLOAT,[64]>{TorchTensor(...)},\n",
       "                %\"layer3.0.downsample.1.running_mean\"<FLOAT,[64]>{TorchTensor(...)},\n",
       "                %\"layer3.0.downsample.1.running_var\"<FLOAT,[64]>{TorchTensor(...)},\n",
       "                %\"layer3.1.bn1.running_mean\"<FLOAT,[64]>{TorchTensor(...)},\n",
       "                %\"layer3.1.bn1.running_var\"<FLOAT,[64]>{TorchTensor(...)},\n",
       "                %\"layer3.1.bn2.running_mean\"<FLOAT,[64]>{TorchTensor(...)},\n",
       "                %\"layer3.1.bn2.running_var\"<FLOAT,[64]>{TorchTensor(...)},\n",
       "                %\"layer3.2.bn1.running_mean\"<FLOAT,[64]>{TorchTensor(...)},\n",
       "                %\"layer3.2.bn1.running_var\"<FLOAT,[64]>{TorchTensor(...)},\n",
       "                %\"layer3.2.bn2.running_mean\"<FLOAT,[64]>{TorchTensor(...)},\n",
       "                %\"layer3.2.bn2.running_var\"<FLOAT,[64]>{TorchTensor(...)},\n",
       "                %\"val_6\"<FLOAT,[16]>{Tensor(...)},\n",
       "                %\"val_71\"<FLOAT,[32]>{Tensor(...)},\n",
       "                %\"val_134\"<FLOAT,[64]>{Tensor(...)},\n",
       "                %\"val_195\"<INT64,[2]>{Tensor<INT64,[2]>(array([-1, -2]), name='val_195')},\n",
       "                %\"val_198\"<INT64,[1]>{Tensor<INT64,[1]>(array([-1]), name='val_198')}\n",
       "            ),\n",
       "        ) {\n",
       "             0 |  # node_Shape_0\n",
       "                  %\"val_0\"<INT64,[1]> ⬅️ ::Shape(%\"input\") {end=1, start=0}\n",
       "             1 |  # node_conv2d\n",
       "                  %\"conv2d\"<FLOAT,[s77,16,32,32]> ⬅️ ::Conv(%\"input\", %\"conv1.weight\"{...}, %\"val_6\"{...}) {group=1, pads=(1, 1, 1, 1), auto_pad='NOTSET', strides=(1, 1), dilations=(1, 1)}\n",
       "             2 |  # node__native_batch_norm_legit_no_training__0\n",
       "                  %\"getitem\"<FLOAT,[1,16,32,32]> ⬅️ ::BatchNormalization(%\"conv2d\", %\"bn1.weight\"{...}, %\"bn1.bias\"{...}, %\"bn1.running_mean\"{...}, %\"bn1.running_var\"{...}) {momentum=0.9, epsilon=1e-05}\n",
       "             3 |  # node_relu\n",
       "                  %\"relu\"<FLOAT,[1,16,32,32]> ⬅️ ::Relu(%\"getitem\")\n",
       "             4 |  # node_conv2d_1\n",
       "                  %\"conv2d_1\"<FLOAT,[1,16,32,32]> ⬅️ ::Conv(%\"relu\", %\"layer1.0.conv1.weight\"{...}, %\"val_6\"{...}) {group=1, pads=(1, 1, 1, 1), auto_pad='NOTSET', strides=(1, 1), dilations=(1, 1)}\n",
       "             5 |  # node__native_batch_norm_legit_no_training_1__0\n",
       "                  %\"getitem_3\"<FLOAT,[1,16,32,32]> ⬅️ ::BatchNormalization(%\"conv2d_1\", %\"layer1.0.bn1.weight\"{...}, %\"layer1.0.bn1.bias\"{...}, %\"layer1.0.bn1.running_mean\"{...}, %\"layer1.0.bn1.running_var\"{...}) {momentum=0.9, epsilon=1e-05}\n",
       "             6 |  # node_relu_1\n",
       "                  %\"relu_1\"<FLOAT,[1,16,32,32]> ⬅️ ::Relu(%\"getitem_3\")\n",
       "             7 |  # node_conv2d_2\n",
       "                  %\"conv2d_2\"<FLOAT,[1,16,32,32]> ⬅️ ::Conv(%\"relu_1\", %\"layer1.0.conv2.weight\"{...}, %\"val_6\"{...}) {group=1, pads=(1, 1, 1, 1), auto_pad='NOTSET', strides=(1, 1), dilations=(1, 1)}\n",
       "             8 |  # node__native_batch_norm_legit_no_training_2__0\n",
       "                  %\"getitem_6\"<FLOAT,[1,16,32,32]> ⬅️ ::BatchNormalization(%\"conv2d_2\", %\"layer1.0.bn2.weight\"{...}, %\"layer1.0.bn2.bias\"{...}, %\"layer1.0.bn2.running_mean\"{...}, %\"layer1.0.bn2.running_var\"{...}) {momentum=0.9, epsilon=1e-05}\n",
       "             9 |  # node_add_5\n",
       "                  %\"add_5\"<FLOAT,[1,16,32,32]> ⬅️ ::Add(%\"getitem_6\", %\"relu\")\n",
       "            10 |  # node_relu_2\n",
       "                  %\"relu_2\"<FLOAT,[1,16,32,32]> ⬅️ ::Relu(%\"add_5\")\n",
       "            11 |  # node_conv2d_3\n",
       "                  %\"conv2d_3\"<FLOAT,[1,16,32,32]> ⬅️ ::Conv(%\"relu_2\", %\"layer1.1.conv1.weight\"{...}, %\"val_6\"{...}) {group=1, pads=(1, 1, 1, 1), auto_pad='NOTSET', strides=(1, 1), dilations=(1, 1)}\n",
       "            12 |  # node__native_batch_norm_legit_no_training_3__0\n",
       "                  %\"getitem_9\"<FLOAT,[1,16,32,32]> ⬅️ ::BatchNormalization(%\"conv2d_3\", %\"layer1.1.bn1.weight\"{...}, %\"layer1.1.bn1.bias\"{...}, %\"layer1.1.bn1.running_mean\"{...}, %\"layer1.1.bn1.running_var\"{...}) {momentum=0.9, epsilon=1e-05}\n",
       "            13 |  # node_relu_3\n",
       "                  %\"relu_3\"<FLOAT,[1,16,32,32]> ⬅️ ::Relu(%\"getitem_9\")\n",
       "            14 |  # node_conv2d_4\n",
       "                  %\"conv2d_4\"<FLOAT,[1,16,32,32]> ⬅️ ::Conv(%\"relu_3\", %\"layer1.1.conv2.weight\"{...}, %\"val_6\"{...}) {group=1, pads=(1, 1, 1, 1), auto_pad='NOTSET', strides=(1, 1), dilations=(1, 1)}\n",
       "            15 |  # node__native_batch_norm_legit_no_training_4__0\n",
       "                  %\"getitem_12\"<FLOAT,[1,16,32,32]> ⬅️ ::BatchNormalization(%\"conv2d_4\", %\"layer1.1.bn2.weight\"{...}, %\"layer1.1.bn2.bias\"{...}, %\"layer1.1.bn2.running_mean\"{...}, %\"layer1.1.bn2.running_var\"{...}) {momentum=0.9, epsilon=1e-05}\n",
       "            16 |  # node_add_6\n",
       "                  %\"add_6\"<FLOAT,[1,16,32,32]> ⬅️ ::Add(%\"getitem_12\", %\"relu_2\")\n",
       "            17 |  # node_relu_4\n",
       "                  %\"relu_4\"<FLOAT,[1,16,32,32]> ⬅️ ::Relu(%\"add_6\")\n",
       "            18 |  # node_conv2d_5\n",
       "                  %\"conv2d_5\"<FLOAT,[1,16,32,32]> ⬅️ ::Conv(%\"relu_4\", %\"layer1.2.conv1.weight\"{...}, %\"val_6\"{...}) {group=1, pads=(1, 1, 1, 1), auto_pad='NOTSET', strides=(1, 1), dilations=(1, 1)}\n",
       "            19 |  # node__native_batch_norm_legit_no_training_5__0\n",
       "                  %\"getitem_15\"<FLOAT,[1,16,32,32]> ⬅️ ::BatchNormalization(%\"conv2d_5\", %\"layer1.2.bn1.weight\"{...}, %\"layer1.2.bn1.bias\"{...}, %\"layer1.2.bn1.running_mean\"{...}, %\"layer1.2.bn1.running_var\"{...}) {momentum=0.9, epsilon=1e-05}\n",
       "            20 |  # node_relu_5\n",
       "                  %\"relu_5\"<FLOAT,[1,16,32,32]> ⬅️ ::Relu(%\"getitem_15\")\n",
       "            21 |  # node_conv2d_6\n",
       "                  %\"conv2d_6\"<FLOAT,[1,16,32,32]> ⬅️ ::Conv(%\"relu_5\", %\"layer1.2.conv2.weight\"{...}, %\"val_6\"{...}) {group=1, pads=(1, 1, 1, 1), auto_pad='NOTSET', strides=(1, 1), dilations=(1, 1)}\n",
       "            22 |  # node__native_batch_norm_legit_no_training_6__0\n",
       "                  %\"getitem_18\"<FLOAT,[1,16,32,32]> ⬅️ ::BatchNormalization(%\"conv2d_6\", %\"layer1.2.bn2.weight\"{...}, %\"layer1.2.bn2.bias\"{...}, %\"layer1.2.bn2.running_mean\"{...}, %\"layer1.2.bn2.running_var\"{...}) {momentum=0.9, epsilon=1e-05}\n",
       "            23 |  # node_add_7\n",
       "                  %\"add_7\"<FLOAT,[1,16,32,32]> ⬅️ ::Add(%\"getitem_18\", %\"relu_4\")\n",
       "            24 |  # node_relu_6\n",
       "                  %\"relu_6\"<FLOAT,[1,16,32,32]> ⬅️ ::Relu(%\"add_7\")\n",
       "            25 |  # node_conv2d_7\n",
       "                  %\"conv2d_7\"<FLOAT,[1,32,16,16]> ⬅️ ::Conv(%\"relu_6\", %\"layer2.0.conv1.weight\"{...}, %\"val_71\"{...}) {group=1, pads=(1, 1, 1, 1), auto_pad='NOTSET', strides=(2, 2), dilations=(1, 1)}\n",
       "            26 |  # node__native_batch_norm_legit_no_training_7__0\n",
       "                  %\"getitem_21\"<FLOAT,[1,32,16,16]> ⬅️ ::BatchNormalization(%\"conv2d_7\", %\"layer2.0.bn1.weight\"{...}, %\"layer2.0.bn1.bias\"{...}, %\"layer2.0.bn1.running_mean\"{...}, %\"layer2.0.bn1.running_var\"{...}) {momentum=0.9, epsilon=1e-05}\n",
       "            27 |  # node_relu_7\n",
       "                  %\"relu_7\"<FLOAT,[1,32,16,16]> ⬅️ ::Relu(%\"getitem_21\")\n",
       "            28 |  # node_conv2d_8\n",
       "                  %\"conv2d_8\"<FLOAT,[1,32,16,16]> ⬅️ ::Conv(%\"relu_7\", %\"layer2.0.conv2.weight\"{...}, %\"val_71\"{...}) {group=1, pads=(1, 1, 1, 1), auto_pad='NOTSET', strides=(1, 1), dilations=(1, 1)}\n",
       "            29 |  # node__native_batch_norm_legit_no_training_8__0\n",
       "                  %\"getitem_24\"<FLOAT,[1,32,16,16]> ⬅️ ::BatchNormalization(%\"conv2d_8\", %\"layer2.0.bn2.weight\"{...}, %\"layer2.0.bn2.bias\"{...}, %\"layer2.0.bn2.running_mean\"{...}, %\"layer2.0.bn2.running_var\"{...}) {momentum=0.9, epsilon=1e-05}\n",
       "            30 |  # node_conv2d_9\n",
       "                  %\"conv2d_9\"<FLOAT,[1,32,16,16]> ⬅️ ::Conv(%\"relu_6\", %\"layer2.0.downsample.0.weight\"{...}, %\"val_71\"{...}) {group=1, pads=(0, 0, 0, 0), auto_pad='NOTSET', strides=(2, 2), dilations=(1, 1)}\n",
       "            31 |  # node__native_batch_norm_legit_no_training_9__0\n",
       "                  %\"getitem_27\"<FLOAT,[1,32,16,16]> ⬅️ ::BatchNormalization(%\"conv2d_9\", %\"layer2.0.downsample.1.weight\"{...}, %\"layer2.0.bn2.bias\"{...}, %\"layer2.0.downsample.1.running_mean\"{...}, %\"layer2.0.downsample.1.running_var\"{...}) {momentum=0.9, epsilon=1e-05}\n",
       "            32 |  # node_add_8\n",
       "                  %\"add_8\"<FLOAT,[1,32,16,16]> ⬅️ ::Add(%\"getitem_24\", %\"getitem_27\")\n",
       "            33 |  # node_relu_8\n",
       "                  %\"relu_8\"<FLOAT,[1,32,16,16]> ⬅️ ::Relu(%\"add_8\")\n",
       "            34 |  # node_conv2d_10\n",
       "                  %\"conv2d_10\"<FLOAT,[1,32,16,16]> ⬅️ ::Conv(%\"relu_8\", %\"layer2.1.conv1.weight\"{...}, %\"val_71\"{...}) {group=1, pads=(1, 1, 1, 1), auto_pad='NOTSET', strides=(1, 1), dilations=(1, 1)}\n",
       "            35 |  # node__native_batch_norm_legit_no_training_10__0\n",
       "                  %\"getitem_30\"<FLOAT,[1,32,16,16]> ⬅️ ::BatchNormalization(%\"conv2d_10\", %\"layer2.1.bn1.weight\"{...}, %\"layer2.1.bn1.bias\"{...}, %\"layer2.1.bn1.running_mean\"{...}, %\"layer2.1.bn1.running_var\"{...}) {momentum=0.9, epsilon=1e-05}\n",
       "            36 |  # node_relu_9\n",
       "                  %\"relu_9\"<FLOAT,[1,32,16,16]> ⬅️ ::Relu(%\"getitem_30\")\n",
       "            37 |  # node_conv2d_11\n",
       "                  %\"conv2d_11\"<FLOAT,[1,32,16,16]> ⬅️ ::Conv(%\"relu_9\", %\"layer2.1.conv2.weight\"{...}, %\"val_71\"{...}) {group=1, pads=(1, 1, 1, 1), auto_pad='NOTSET', strides=(1, 1), dilations=(1, 1)}\n",
       "            38 |  # node__native_batch_norm_legit_no_training_11__0\n",
       "                  %\"getitem_33\"<FLOAT,[1,32,16,16]> ⬅️ ::BatchNormalization(%\"conv2d_11\", %\"layer2.1.bn2.weight\"{...}, %\"layer2.1.bn2.bias\"{...}, %\"layer2.1.bn2.running_mean\"{...}, %\"layer2.1.bn2.running_var\"{...}) {momentum=0.9, epsilon=1e-05}\n",
       "            39 |  # node_add_9\n",
       "                  %\"add_9\"<FLOAT,[1,32,16,16]> ⬅️ ::Add(%\"getitem_33\", %\"relu_8\")\n",
       "            40 |  # node_relu_10\n",
       "                  %\"relu_10\"<FLOAT,[1,32,16,16]> ⬅️ ::Relu(%\"add_9\")\n",
       "            41 |  # node_conv2d_12\n",
       "                  %\"conv2d_12\"<FLOAT,[1,32,16,16]> ⬅️ ::Conv(%\"relu_10\", %\"layer2.2.conv1.weight\"{...}, %\"val_71\"{...}) {group=1, pads=(1, 1, 1, 1), auto_pad='NOTSET', strides=(1, 1), dilations=(1, 1)}\n",
       "            42 |  # node__native_batch_norm_legit_no_training_12__0\n",
       "                  %\"getitem_36\"<FLOAT,[1,32,16,16]> ⬅️ ::BatchNormalization(%\"conv2d_12\", %\"layer2.2.bn1.weight\"{...}, %\"layer2.2.bn1.bias\"{...}, %\"layer2.2.bn1.running_mean\"{...}, %\"layer2.2.bn1.running_var\"{...}) {momentum=0.9, epsilon=1e-05}\n",
       "            43 |  # node_relu_11\n",
       "                  %\"relu_11\"<FLOAT,[1,32,16,16]> ⬅️ ::Relu(%\"getitem_36\")\n",
       "            44 |  # node_conv2d_13\n",
       "                  %\"conv2d_13\"<FLOAT,[1,32,16,16]> ⬅️ ::Conv(%\"relu_11\", %\"layer2.2.conv2.weight\"{...}, %\"val_71\"{...}) {group=1, pads=(1, 1, 1, 1), auto_pad='NOTSET', strides=(1, 1), dilations=(1, 1)}\n",
       "            45 |  # node__native_batch_norm_legit_no_training_13__0\n",
       "                  %\"getitem_39\"<FLOAT,[1,32,16,16]> ⬅️ ::BatchNormalization(%\"conv2d_13\", %\"layer2.2.bn2.weight\"{...}, %\"layer2.2.bn2.bias\"{...}, %\"layer2.2.bn2.running_mean\"{...}, %\"layer2.2.bn2.running_var\"{...}) {momentum=0.9, epsilon=1e-05}\n",
       "            46 |  # node_add_10\n",
       "                  %\"add_10\"<FLOAT,[1,32,16,16]> ⬅️ ::Add(%\"getitem_39\", %\"relu_10\")\n",
       "            47 |  # node_relu_12\n",
       "                  %\"relu_12\"<FLOAT,[1,32,16,16]> ⬅️ ::Relu(%\"add_10\")\n",
       "            48 |  # node_conv2d_14\n",
       "                  %\"conv2d_14\"<FLOAT,[1,64,8,8]> ⬅️ ::Conv(%\"relu_12\", %\"layer3.0.conv1.weight\"{...}, %\"val_134\"{...}) {group=1, pads=(1, 1, 1, 1), auto_pad='NOTSET', strides=(2, 2), dilations=(1, 1)}\n",
       "            49 |  # node__native_batch_norm_legit_no_training_14__0\n",
       "                  %\"getitem_42\"<FLOAT,[1,64,8,8]> ⬅️ ::BatchNormalization(%\"conv2d_14\", %\"layer3.0.bn1.weight\"{...}, %\"layer3.0.bn1.bias\"{...}, %\"layer3.0.bn1.running_mean\"{...}, %\"layer3.0.bn1.running_var\"{...}) {momentum=0.9, epsilon=1e-05}\n",
       "            50 |  # node_relu_13\n",
       "                  %\"relu_13\"<FLOAT,[1,64,8,8]> ⬅️ ::Relu(%\"getitem_42\")\n",
       "            51 |  # node_conv2d_15\n",
       "                  %\"conv2d_15\"<FLOAT,[1,64,8,8]> ⬅️ ::Conv(%\"relu_13\", %\"layer3.0.conv2.weight\"{...}, %\"val_134\"{...}) {group=1, pads=(1, 1, 1, 1), auto_pad='NOTSET', strides=(1, 1), dilations=(1, 1)}\n",
       "            52 |  # node__native_batch_norm_legit_no_training_15__0\n",
       "                  %\"getitem_45\"<FLOAT,[1,64,8,8]> ⬅️ ::BatchNormalization(%\"conv2d_15\", %\"layer3.0.bn2.weight\"{...}, %\"layer3.0.bn2.bias\"{...}, %\"layer3.0.bn2.running_mean\"{...}, %\"layer3.0.bn2.running_var\"{...}) {momentum=0.9, epsilon=1e-05}\n",
       "            53 |  # node_conv2d_16\n",
       "                  %\"conv2d_16\"<FLOAT,[1,64,8,8]> ⬅️ ::Conv(%\"relu_12\", %\"layer3.0.downsample.0.weight\"{...}, %\"val_134\"{...}) {group=1, pads=(0, 0, 0, 0), auto_pad='NOTSET', strides=(2, 2), dilations=(1, 1)}\n",
       "            54 |  # node__native_batch_norm_legit_no_training_16__0\n",
       "                  %\"getitem_48\"<FLOAT,[1,64,8,8]> ⬅️ ::BatchNormalization(%\"conv2d_16\", %\"layer3.0.downsample.1.weight\"{...}, %\"layer3.0.bn2.bias\"{...}, %\"layer3.0.downsample.1.running_mean\"{...}, %\"layer3.0.downsample.1.running_var\"{...}) {momentum=0.9, epsilon=1e-05}\n",
       "            55 |  # node_add_11\n",
       "                  %\"add_11\"<FLOAT,[1,64,8,8]> ⬅️ ::Add(%\"getitem_45\", %\"getitem_48\")\n",
       "            56 |  # node_relu_14\n",
       "                  %\"relu_14\"<FLOAT,[1,64,8,8]> ⬅️ ::Relu(%\"add_11\")\n",
       "            57 |  # node_conv2d_17\n",
       "                  %\"conv2d_17\"<FLOAT,[1,64,8,8]> ⬅️ ::Conv(%\"relu_14\", %\"layer3.1.conv1.weight\"{...}, %\"val_134\"{...}) {group=1, pads=(1, 1, 1, 1), auto_pad='NOTSET', strides=(1, 1), dilations=(1, 1)}\n",
       "            58 |  # node__native_batch_norm_legit_no_training_17__0\n",
       "                  %\"getitem_51\"<FLOAT,[1,64,8,8]> ⬅️ ::BatchNormalization(%\"conv2d_17\", %\"layer3.1.bn1.weight\"{...}, %\"layer3.1.bn1.bias\"{...}, %\"layer3.1.bn1.running_mean\"{...}, %\"layer3.1.bn1.running_var\"{...}) {momentum=0.9, epsilon=1e-05}\n",
       "            59 |  # node_relu_15\n",
       "                  %\"relu_15\"<FLOAT,[1,64,8,8]> ⬅️ ::Relu(%\"getitem_51\")\n",
       "            60 |  # node_conv2d_18\n",
       "                  %\"conv2d_18\"<FLOAT,[1,64,8,8]> ⬅️ ::Conv(%\"relu_15\", %\"layer3.1.conv2.weight\"{...}, %\"val_134\"{...}) {group=1, pads=(1, 1, 1, 1), auto_pad='NOTSET', strides=(1, 1), dilations=(1, 1)}\n",
       "            61 |  # node__native_batch_norm_legit_no_training_18__0\n",
       "                  %\"getitem_54\"<FLOAT,[1,64,8,8]> ⬅️ ::BatchNormalization(%\"conv2d_18\", %\"layer3.1.bn2.weight\"{...}, %\"layer3.1.bn2.bias\"{...}, %\"layer3.1.bn2.running_mean\"{...}, %\"layer3.1.bn2.running_var\"{...}) {momentum=0.9, epsilon=1e-05}\n",
       "            62 |  # node_add_12\n",
       "                  %\"add_12\"<FLOAT,[1,64,8,8]> ⬅️ ::Add(%\"getitem_54\", %\"relu_14\")\n",
       "            63 |  # node_relu_16\n",
       "                  %\"relu_16\"<FLOAT,[1,64,8,8]> ⬅️ ::Relu(%\"add_12\")\n",
       "            64 |  # node_conv2d_19\n",
       "                  %\"conv2d_19\"<FLOAT,[1,64,8,8]> ⬅️ ::Conv(%\"relu_16\", %\"layer3.2.conv1.weight\"{...}, %\"val_134\"{...}) {group=1, pads=(1, 1, 1, 1), auto_pad='NOTSET', strides=(1, 1), dilations=(1, 1)}\n",
       "            65 |  # node__native_batch_norm_legit_no_training_19__0\n",
       "                  %\"getitem_57\"<FLOAT,[1,64,8,8]> ⬅️ ::BatchNormalization(%\"conv2d_19\", %\"layer3.2.bn1.weight\"{...}, %\"layer3.2.bn1.bias\"{...}, %\"layer3.2.bn1.running_mean\"{...}, %\"layer3.2.bn1.running_var\"{...}) {momentum=0.9, epsilon=1e-05}\n",
       "            66 |  # node_relu_17\n",
       "                  %\"relu_17\"<FLOAT,[1,64,8,8]> ⬅️ ::Relu(%\"getitem_57\")\n",
       "            67 |  # node_conv2d_20\n",
       "                  %\"conv2d_20\"<FLOAT,[1,64,8,8]> ⬅️ ::Conv(%\"relu_17\", %\"layer3.2.conv2.weight\"{...}, %\"val_134\"{...}) {group=1, pads=(1, 1, 1, 1), auto_pad='NOTSET', strides=(1, 1), dilations=(1, 1)}\n",
       "            68 |  # node__native_batch_norm_legit_no_training_20__0\n",
       "                  %\"getitem_60\"<FLOAT,[1,64,8,8]> ⬅️ ::BatchNormalization(%\"conv2d_20\", %\"layer3.2.bn2.weight\"{...}, %\"layer3.2.bn2.bias\"{...}, %\"layer3.2.bn2.running_mean\"{...}, %\"layer3.2.bn2.running_var\"{...}) {momentum=0.9, epsilon=1e-05}\n",
       "            69 |  # node_add_13\n",
       "                  %\"add_13\"<FLOAT,[1,64,8,8]> ⬅️ ::Add(%\"getitem_60\", %\"relu_16\")\n",
       "            70 |  # node_relu_18\n",
       "                  %\"relu_18\"<FLOAT,[1,64,8,8]> ⬅️ ::Relu(%\"add_13\")\n",
       "            71 |  # node_mean\n",
       "                  %\"mean\"<FLOAT,[1,64,1,1]> ⬅️ ::ReduceMean(%\"relu_18\", %\"val_195\"{[-1, -2]}) {noop_with_empty_axes=0, keepdims=1}\n",
       "            72 |  # node_Concat_199\n",
       "                  %\"val_199\"<INT64,[2]> ⬅️ ::Concat(%\"val_0\", %\"val_198\"{[-1]}) {axis=0}\n",
       "            73 |  # node_view\n",
       "                  %\"view\"<FLOAT,[1,64]> ⬅️ ::Reshape(%\"mean\", %\"val_199\") {allowzero=1}\n",
       "            74 |  # node_linear\n",
       "                  %\"output\"<FLOAT,[1,10]> ⬅️ ::Gemm(%\"view\", %\"fc.weight\"{...}, %\"fc.bias\"{[-0.008414060808718204, -0.008147068321704865, 0.040229786187410355, 0.0165706854313612, 0.005398356355726719, -0.021945152431726456, 0.01621832512319088, -0.019912585616111755, 0.011514868587255478, -0.03153958544135094]}) {beta=1.0, transB=1, alpha=1.0, transA=0}\n",
       "            return %\"output\"<FLOAT,[1,10]>\n",
       "        }\n",
       "\n",
       "\n",
       "    ,\n",
       "    exported_program=\n",
       "        ExportedProgram:\n",
       "            class GraphModule(torch.nn.Module):\n",
       "                def forward(self, p_conv1_weight: \"f32[16, 3, 3, 3]\", p_bn1_weight: \"f32[16]\", p_bn1_bias: \"f32[16]\", p_layer1_0_conv1_weight: \"f32[16, 16, 3, 3]\", p_layer1_0_bn1_weight: \"f32[16]\", p_layer1_0_bn1_bias: \"f32[16]\", p_layer1_0_conv2_weight: \"f32[16, 16, 3, 3]\", p_layer1_0_bn2_weight: \"f32[16]\", p_layer1_0_bn2_bias: \"f32[16]\", p_layer1_1_conv1_weight: \"f32[16, 16, 3, 3]\", p_layer1_1_bn1_weight: \"f32[16]\", p_layer1_1_bn1_bias: \"f32[16]\", p_layer1_1_conv2_weight: \"f32[16, 16, 3, 3]\", p_layer1_1_bn2_weight: \"f32[16]\", p_layer1_1_bn2_bias: \"f32[16]\", p_layer1_2_conv1_weight: \"f32[16, 16, 3, 3]\", p_layer1_2_bn1_weight: \"f32[16]\", p_layer1_2_bn1_bias: \"f32[16]\", p_layer1_2_conv2_weight: \"f32[16, 16, 3, 3]\", p_layer1_2_bn2_weight: \"f32[16]\", p_layer1_2_bn2_bias: \"f32[16]\", p_layer2_0_conv1_weight: \"f32[32, 16, 3, 3]\", p_layer2_0_bn1_weight: \"f32[32]\", p_layer2_0_bn1_bias: \"f32[32]\", p_layer2_0_conv2_weight: \"f32[32, 32, 3, 3]\", p_layer2_0_bn2_weight: \"f32[32]\", p_layer2_0_bn2_bias: \"f32[32]\", p_layer2_0_downsample_0_weight: \"f32[32, 16, 1, 1]\", p_layer2_0_downsample_1_weight: \"f32[32]\", p_layer2_0_downsample_1_bias: \"f32[32]\", p_layer2_1_conv1_weight: \"f32[32, 32, 3, 3]\", p_layer2_1_bn1_weight: \"f32[32]\", p_layer2_1_bn1_bias: \"f32[32]\", p_layer2_1_conv2_weight: \"f32[32, 32, 3, 3]\", p_layer2_1_bn2_weight: \"f32[32]\", p_layer2_1_bn2_bias: \"f32[32]\", p_layer2_2_conv1_weight: \"f32[32, 32, 3, 3]\", p_layer2_2_bn1_weight: \"f32[32]\", p_layer2_2_bn1_bias: \"f32[32]\", p_layer2_2_conv2_weight: \"f32[32, 32, 3, 3]\", p_layer2_2_bn2_weight: \"f32[32]\", p_layer2_2_bn2_bias: \"f32[32]\", p_layer3_0_conv1_weight: \"f32[64, 32, 3, 3]\", p_layer3_0_bn1_weight: \"f32[64]\", p_layer3_0_bn1_bias: \"f32[64]\", p_layer3_0_conv2_weight: \"f32[64, 64, 3, 3]\", p_layer3_0_bn2_weight: \"f32[64]\", p_layer3_0_bn2_bias: \"f32[64]\", p_layer3_0_downsample_0_weight: \"f32[64, 32, 1, 1]\", p_layer3_0_downsample_1_weight: \"f32[64]\", p_layer3_0_downsample_1_bias: \"f32[64]\", p_layer3_1_conv1_weight: \"f32[64, 64, 3, 3]\", p_layer3_1_bn1_weight: \"f32[64]\", p_layer3_1_bn1_bias: \"f32[64]\", p_layer3_1_conv2_weight: \"f32[64, 64, 3, 3]\", p_layer3_1_bn2_weight: \"f32[64]\", p_layer3_1_bn2_bias: \"f32[64]\", p_layer3_2_conv1_weight: \"f32[64, 64, 3, 3]\", p_layer3_2_bn1_weight: \"f32[64]\", p_layer3_2_bn1_bias: \"f32[64]\", p_layer3_2_conv2_weight: \"f32[64, 64, 3, 3]\", p_layer3_2_bn2_weight: \"f32[64]\", p_layer3_2_bn2_bias: \"f32[64]\", p_fc_weight: \"f32[10, 64]\", p_fc_bias: \"f32[10]\", b_bn1_running_mean: \"f32[16]\", b_bn1_running_var: \"f32[16]\", b_bn1_num_batches_tracked: \"i64[]\", b_layer1_0_bn1_running_mean: \"f32[16]\", b_layer1_0_bn1_running_var: \"f32[16]\", b_layer1_0_bn1_num_batches_tracked: \"i64[]\", b_layer1_0_bn2_running_mean: \"f32[16]\", b_layer1_0_bn2_running_var: \"f32[16]\", b_layer1_0_bn2_num_batches_tracked: \"i64[]\", b_layer1_1_bn1_running_mean: \"f32[16]\", b_layer1_1_bn1_running_var: \"f32[16]\", b_layer1_1_bn1_num_batches_tracked: \"i64[]\", b_layer1_1_bn2_running_mean: \"f32[16]\", b_layer1_1_bn2_running_var: \"f32[16]\", b_layer1_1_bn2_num_batches_tracked: \"i64[]\", b_layer1_2_bn1_running_mean: \"f32[16]\", b_layer1_2_bn1_running_var: \"f32[16]\", b_layer1_2_bn1_num_batches_tracked: \"i64[]\", b_layer1_2_bn2_running_mean: \"f32[16]\", b_layer1_2_bn2_running_var: \"f32[16]\", b_layer1_2_bn2_num_batches_tracked: \"i64[]\", b_layer2_0_bn1_running_mean: \"f32[32]\", b_layer2_0_bn1_running_var: \"f32[32]\", b_layer2_0_bn1_num_batches_tracked: \"i64[]\", b_layer2_0_bn2_running_mean: \"f32[32]\", b_layer2_0_bn2_running_var: \"f32[32]\", b_layer2_0_bn2_num_batches_tracked: \"i64[]\", b_layer2_0_downsample_1_running_mean: \"f32[32]\", b_layer2_0_downsample_1_running_var: \"f32[32]\", b_layer2_0_downsample_1_num_batches_tracked: \"i64[]\", b_layer2_1_bn1_running_mean: \"f32[32]\", b_layer2_1_bn1_running_var: \"f32[32]\", b_layer2_1_bn1_num_batches_tracked: \"i64[]\", b_layer2_1_bn2_running_mean: \"f32[32]\", b_layer2_1_bn2_running_var: \"f32[32]\", b_layer2_1_bn2_num_batches_tracked: \"i64[]\", b_layer2_2_bn1_running_mean: \"f32[32]\", b_layer2_2_bn1_running_var: \"f32[32]\", b_layer2_2_bn1_num_batches_tracked: \"i64[]\", b_layer2_2_bn2_running_mean: \"f32[32]\", b_layer2_2_bn2_running_var: \"f32[32]\", b_layer2_2_bn2_num_batches_tracked: \"i64[]\", b_layer3_0_bn1_running_mean: \"f32[64]\", b_layer3_0_bn1_running_var: \"f32[64]\", b_layer3_0_bn1_num_batches_tracked: \"i64[]\", b_layer3_0_bn2_running_mean: \"f32[64]\", b_layer3_0_bn2_running_var: \"f32[64]\", b_layer3_0_bn2_num_batches_tracked: \"i64[]\", b_layer3_0_downsample_1_running_mean: \"f32[64]\", b_layer3_0_downsample_1_running_var: \"f32[64]\", b_layer3_0_downsample_1_num_batches_tracked: \"i64[]\", b_layer3_1_bn1_running_mean: \"f32[64]\", b_layer3_1_bn1_running_var: \"f32[64]\", b_layer3_1_bn1_num_batches_tracked: \"i64[]\", b_layer3_1_bn2_running_mean: \"f32[64]\", b_layer3_1_bn2_running_var: \"f32[64]\", b_layer3_1_bn2_num_batches_tracked: \"i64[]\", b_layer3_2_bn1_running_mean: \"f32[64]\", b_layer3_2_bn1_running_var: \"f32[64]\", b_layer3_2_bn1_num_batches_tracked: \"i64[]\", b_layer3_2_bn2_running_mean: \"f32[64]\", b_layer3_2_bn2_running_var: \"f32[64]\", b_layer3_2_bn2_num_batches_tracked: \"i64[]\", x: \"f32[s77, 3, 32, 32]\"):\n",
       "                     # \n",
       "                    sym_size_int_1: \"Sym(s77)\" = torch.ops.aten.sym_size.int(x, 0)\n",
       "            \n",
       "                     # File: /home/lois/Documents/mlops/introduction_a_la_quantization/.venv/lib/python3.12/site-packages/torch/nn/modules/conv.py:548 in forward, code: return self._conv_forward(input, self.weight, self.bias)\n",
       "                    conv2d: \"f32[s77, 16, 32, 32]\" = torch.ops.aten.conv2d.default(x, p_conv1_weight, None, [1, 1], [1, 1]);  x = p_conv1_weight = None\n",
       "            \n",
       "                     # File: /home/lois/Documents/mlops/introduction_a_la_quantization/.venv/lib/python3.12/site-packages/torch/nn/modules/batchnorm.py:193 in forward, code: return F.batch_norm(\n",
       "                    _native_batch_norm_legit_no_training = torch.ops.aten._native_batch_norm_legit_no_training.default(conv2d, p_bn1_weight, p_bn1_bias, b_bn1_running_mean, b_bn1_running_var, 0.1, 1e-05);  conv2d = p_bn1_weight = p_bn1_bias = b_bn1_running_mean = b_bn1_running_var = None\n",
       "                    getitem: \"f32[1, 16, 32, 32]\" = _native_batch_norm_legit_no_training[0];  _native_batch_norm_legit_no_training = None\n",
       "            \n",
       "                     # File: /home/lois/Documents/mlops/introduction_a_la_quantization/.venv/lib/python3.12/site-packages/torch/nn/modules/activation.py:144 in forward, code: return F.relu(input, inplace=self.inplace)\n",
       "                    relu: \"f32[1, 16, 32, 32]\" = torch.ops.aten.relu.default(getitem);  getitem = None\n",
       "            \n",
       "                     # File: /home/lois/Documents/mlops/introduction_a_la_quantization/.venv/lib/python3.12/site-packages/torch/nn/modules/conv.py:548 in forward, code: return self._conv_forward(input, self.weight, self.bias)\n",
       "                    conv2d_1: \"f32[1, 16, 32, 32]\" = torch.ops.aten.conv2d.default(relu, p_layer1_0_conv1_weight, None, [1, 1], [1, 1]);  p_layer1_0_conv1_weight = None\n",
       "            \n",
       "                     # File: /home/lois/Documents/mlops/introduction_a_la_quantization/.venv/lib/python3.12/site-packages/torch/nn/modules/batchnorm.py:193 in forward, code: return F.batch_norm(\n",
       "                    _native_batch_norm_legit_no_training_1 = torch.ops.aten._native_batch_norm_legit_no_training.default(conv2d_1, p_layer1_0_bn1_weight, p_layer1_0_bn1_bias, b_layer1_0_bn1_running_mean, b_layer1_0_bn1_running_var, 0.1, 1e-05);  conv2d_1 = p_layer1_0_bn1_weight = p_layer1_0_bn1_bias = b_layer1_0_bn1_running_mean = b_layer1_0_bn1_running_var = None\n",
       "                    getitem_3: \"f32[1, 16, 32, 32]\" = _native_batch_norm_legit_no_training_1[0];  _native_batch_norm_legit_no_training_1 = None\n",
       "            \n",
       "                     # File: /home/lois/Documents/mlops/introduction_a_la_quantization/.venv/lib/python3.12/site-packages/torch/nn/modules/activation.py:144 in forward, code: return F.relu(input, inplace=self.inplace)\n",
       "                    relu_1: \"f32[1, 16, 32, 32]\" = torch.ops.aten.relu.default(getitem_3);  getitem_3 = None\n",
       "            \n",
       "                     # File: /home/lois/Documents/mlops/introduction_a_la_quantization/.venv/lib/python3.12/site-packages/torch/nn/modules/conv.py:548 in forward, code: return self._conv_forward(input, self.weight, self.bias)\n",
       "                    conv2d_2: \"f32[1, 16, 32, 32]\" = torch.ops.aten.conv2d.default(relu_1, p_layer1_0_conv2_weight, None, [1, 1], [1, 1]);  relu_1 = p_layer1_0_conv2_weight = None\n",
       "            \n",
       "                     # File: /home/lois/Documents/mlops/introduction_a_la_quantization/.venv/lib/python3.12/site-packages/torch/nn/modules/batchnorm.py:193 in forward, code: return F.batch_norm(\n",
       "                    _native_batch_norm_legit_no_training_2 = torch.ops.aten._native_batch_norm_legit_no_training.default(conv2d_2, p_layer1_0_bn2_weight, p_layer1_0_bn2_bias, b_layer1_0_bn2_running_mean, b_layer1_0_bn2_running_var, 0.1, 1e-05);  conv2d_2 = p_layer1_0_bn2_weight = p_layer1_0_bn2_bias = b_layer1_0_bn2_running_mean = b_layer1_0_bn2_running_var = None\n",
       "                    getitem_6: \"f32[1, 16, 32, 32]\" = _native_batch_norm_legit_no_training_2[0];  _native_batch_norm_legit_no_training_2 = None\n",
       "            \n",
       "                     # File: /home/lois/.cache/torch/hub/chenyaofo_pytorch-cifar-models_master/pytorch_cifar_models/resnet.py:96 in forward, code: out += identity\n",
       "                    add_5: \"f32[1, 16, 32, 32]\" = torch.ops.aten.add.Tensor(getitem_6, relu);  getitem_6 = relu = None\n",
       "            \n",
       "                     # File: /home/lois/Documents/mlops/introduction_a_la_quantization/.venv/lib/python3.12/site-packages/torch/nn/modules/activation.py:144 in forward, code: return F.relu(input, inplace=self.inplace)\n",
       "                    relu_2: \"f32[1, 16, 32, 32]\" = torch.ops.aten.relu.default(add_5);  add_5 = None\n",
       "            \n",
       "                     # File: /home/lois/Documents/mlops/introduction_a_la_quantization/.venv/lib/python3.12/site-packages/torch/nn/modules/conv.py:548 in forward, code: return self._conv_forward(input, self.weight, self.bias)\n",
       "                    conv2d_3: \"f32[1, 16, 32, 32]\" = torch.ops.aten.conv2d.default(relu_2, p_layer1_1_conv1_weight, None, [1, 1], [1, 1]);  p_layer1_1_conv1_weight = None\n",
       "            \n",
       "                     # File: /home/lois/Documents/mlops/introduction_a_la_quantization/.venv/lib/python3.12/site-packages/torch/nn/modules/batchnorm.py:193 in forward, code: return F.batch_norm(\n",
       "                    _native_batch_norm_legit_no_training_3 = torch.ops.aten._native_batch_norm_legit_no_training.default(conv2d_3, p_layer1_1_bn1_weight, p_layer1_1_bn1_bias, b_layer1_1_bn1_running_mean, b_layer1_1_bn1_running_var, 0.1, 1e-05);  conv2d_3 = p_layer1_1_bn1_weight = p_layer1_1_bn1_bias = b_layer1_1_bn1_running_mean = b_layer1_1_bn1_running_var = None\n",
       "                    getitem_9: \"f32[1, 16, 32, 32]\" = _native_batch_norm_legit_no_training_3[0];  _native_batch_norm_legit_no_training_3 = None\n",
       "            \n",
       "                     # File: /home/lois/Documents/mlops/introduction_a_la_quantization/.venv/lib/python3.12/site-packages/torch/nn/modules/activation.py:144 in forward, code: return F.relu(input, inplace=self.inplace)\n",
       "                    relu_3: \"f32[1, 16, 32, 32]\" = torch.ops.aten.relu.default(getitem_9);  getitem_9 = None\n",
       "            \n",
       "                     # File: /home/lois/Documents/mlops/introduction_a_la_quantization/.venv/lib/python3.12/site-packages/torch/nn/modules/conv.py:548 in forward, code: return self._conv_forward(input, self.weight, self.bias)\n",
       "                    conv2d_4: \"f32[1, 16, 32, 32]\" = torch.ops.aten.conv2d.default(relu_3, p_layer1_1_conv2_weight, None, [1, 1], [1, 1]);  relu_3 = p_layer1_1_conv2_weight = None\n",
       "            \n",
       "                     # File: /home/lois/Documents/mlops/introduction_a_la_quantization/.venv/lib/python3.12/site-packages/torch/nn/modules/batchnorm.py:193 in forward, code: return F.batch_norm(\n",
       "                    _native_batch_norm_legit_no_training_4 = torch.ops.aten._native_batch_norm_legit_no_training.default(conv2d_4, p_layer1_1_bn2_weight, p_layer1_1_bn2_bias, b_layer1_1_bn2_running_mean, b_layer1_1_bn2_running_var, 0.1, 1e-05);  conv2d_4 = p_layer1_1_bn2_weight = p_layer1_1_bn2_bias = b_layer1_1_bn2_running_mean = b_layer1_1_bn2_running_var = None\n",
       "                    getitem_12: \"f32[1, 16, 32, 32]\" = _native_batch_norm_legit_no_training_4[0];  _native_batch_norm_legit_no_training_4 = None\n",
       "            \n",
       "                     # File: /home/lois/.cache/torch/hub/chenyaofo_pytorch-cifar-models_master/pytorch_cifar_models/resnet.py:96 in forward, code: out += identity\n",
       "                    add_6: \"f32[1, 16, 32, 32]\" = torch.ops.aten.add.Tensor(getitem_12, relu_2);  getitem_12 = relu_2 = None\n",
       "            \n",
       "                     # File: /home/lois/Documents/mlops/introduction_a_la_quantization/.venv/lib/python3.12/site-packages/torch/nn/modules/activation.py:144 in forward, code: return F.relu(input, inplace=self.inplace)\n",
       "                    relu_4: \"f32[1, 16, 32, 32]\" = torch.ops.aten.relu.default(add_6);  add_6 = None\n",
       "            \n",
       "                     # File: /home/lois/Documents/mlops/introduction_a_la_quantization/.venv/lib/python3.12/site-packages/torch/nn/modules/conv.py:548 in forward, code: return self._conv_forward(input, self.weight, self.bias)\n",
       "                    conv2d_5: \"f32[1, 16, 32, 32]\" = torch.ops.aten.conv2d.default(relu_4, p_layer1_2_conv1_weight, None, [1, 1], [1, 1]);  p_layer1_2_conv1_weight = None\n",
       "            \n",
       "                     # File: /home/lois/Documents/mlops/introduction_a_la_quantization/.venv/lib/python3.12/site-packages/torch/nn/modules/batchnorm.py:193 in forward, code: return F.batch_norm(\n",
       "                    _native_batch_norm_legit_no_training_5 = torch.ops.aten._native_batch_norm_legit_no_training.default(conv2d_5, p_layer1_2_bn1_weight, p_layer1_2_bn1_bias, b_layer1_2_bn1_running_mean, b_layer1_2_bn1_running_var, 0.1, 1e-05);  conv2d_5 = p_layer1_2_bn1_weight = p_layer1_2_bn1_bias = b_layer1_2_bn1_running_mean = b_layer1_2_bn1_running_var = None\n",
       "                    getitem_15: \"f32[1, 16, 32, 32]\" = _native_batch_norm_legit_no_training_5[0];  _native_batch_norm_legit_no_training_5 = None\n",
       "            \n",
       "                     # File: /home/lois/Documents/mlops/introduction_a_la_quantization/.venv/lib/python3.12/site-packages/torch/nn/modules/activation.py:144 in forward, code: return F.relu(input, inplace=self.inplace)\n",
       "                    relu_5: \"f32[1, 16, 32, 32]\" = torch.ops.aten.relu.default(getitem_15);  getitem_15 = None\n",
       "            \n",
       "                     # File: /home/lois/Documents/mlops/introduction_a_la_quantization/.venv/lib/python3.12/site-packages/torch/nn/modules/conv.py:548 in forward, code: return self._conv_forward(input, self.weight, self.bias)\n",
       "                    conv2d_6: \"f32[1, 16, 32, 32]\" = torch.ops.aten.conv2d.default(relu_5, p_layer1_2_conv2_weight, None, [1, 1], [1, 1]);  relu_5 = p_layer1_2_conv2_weight = None\n",
       "            \n",
       "                     # File: /home/lois/Documents/mlops/introduction_a_la_quantization/.venv/lib/python3.12/site-packages/torch/nn/modules/batchnorm.py:193 in forward, code: return F.batch_norm(\n",
       "                    _native_batch_norm_legit_no_training_6 = torch.ops.aten._native_batch_norm_legit_no_training.default(conv2d_6, p_layer1_2_bn2_weight, p_layer1_2_bn2_bias, b_layer1_2_bn2_running_mean, b_layer1_2_bn2_running_var, 0.1, 1e-05);  conv2d_6 = p_layer1_2_bn2_weight = p_layer1_2_bn2_bias = b_layer1_2_bn2_running_mean = b_layer1_2_bn2_running_var = None\n",
       "                    getitem_18: \"f32[1, 16, 32, 32]\" = _native_batch_norm_legit_no_training_6[0];  _native_batch_norm_legit_no_training_6 = None\n",
       "            \n",
       "                     # File: /home/lois/.cache/torch/hub/chenyaofo_pytorch-cifar-models_master/pytorch_cifar_models/resnet.py:96 in forward, code: out += identity\n",
       "                    add_7: \"f32[1, 16, 32, 32]\" = torch.ops.aten.add.Tensor(getitem_18, relu_4);  getitem_18 = relu_4 = None\n",
       "            \n",
       "                     # File: /home/lois/Documents/mlops/introduction_a_la_quantization/.venv/lib/python3.12/site-packages/torch/nn/modules/activation.py:144 in forward, code: return F.relu(input, inplace=self.inplace)\n",
       "                    relu_6: \"f32[1, 16, 32, 32]\" = torch.ops.aten.relu.default(add_7);  add_7 = None\n",
       "            \n",
       "                     # File: /home/lois/Documents/mlops/introduction_a_la_quantization/.venv/lib/python3.12/site-packages/torch/nn/modules/conv.py:548 in forward, code: return self._conv_forward(input, self.weight, self.bias)\n",
       "                    conv2d_7: \"f32[1, 32, 16, 16]\" = torch.ops.aten.conv2d.default(relu_6, p_layer2_0_conv1_weight, None, [2, 2], [1, 1]);  p_layer2_0_conv1_weight = None\n",
       "            \n",
       "                     # File: /home/lois/Documents/mlops/introduction_a_la_quantization/.venv/lib/python3.12/site-packages/torch/nn/modules/batchnorm.py:193 in forward, code: return F.batch_norm(\n",
       "                    _native_batch_norm_legit_no_training_7 = torch.ops.aten._native_batch_norm_legit_no_training.default(conv2d_7, p_layer2_0_bn1_weight, p_layer2_0_bn1_bias, b_layer2_0_bn1_running_mean, b_layer2_0_bn1_running_var, 0.1, 1e-05);  conv2d_7 = p_layer2_0_bn1_weight = p_layer2_0_bn1_bias = b_layer2_0_bn1_running_mean = b_layer2_0_bn1_running_var = None\n",
       "                    getitem_21: \"f32[1, 32, 16, 16]\" = _native_batch_norm_legit_no_training_7[0];  _native_batch_norm_legit_no_training_7 = None\n",
       "            \n",
       "                     # File: /home/lois/Documents/mlops/introduction_a_la_quantization/.venv/lib/python3.12/site-packages/torch/nn/modules/activation.py:144 in forward, code: return F.relu(input, inplace=self.inplace)\n",
       "                    relu_7: \"f32[1, 32, 16, 16]\" = torch.ops.aten.relu.default(getitem_21);  getitem_21 = None\n",
       "            \n",
       "                     # File: /home/lois/Documents/mlops/introduction_a_la_quantization/.venv/lib/python3.12/site-packages/torch/nn/modules/conv.py:548 in forward, code: return self._conv_forward(input, self.weight, self.bias)\n",
       "                    conv2d_8: \"f32[1, 32, 16, 16]\" = torch.ops.aten.conv2d.default(relu_7, p_layer2_0_conv2_weight, None, [1, 1], [1, 1]);  relu_7 = p_layer2_0_conv2_weight = None\n",
       "            \n",
       "                     # File: /home/lois/Documents/mlops/introduction_a_la_quantization/.venv/lib/python3.12/site-packages/torch/nn/modules/batchnorm.py:193 in forward, code: return F.batch_norm(\n",
       "                    _native_batch_norm_legit_no_training_8 = torch.ops.aten._native_batch_norm_legit_no_training.default(conv2d_8, p_layer2_0_bn2_weight, p_layer2_0_bn2_bias, b_layer2_0_bn2_running_mean, b_layer2_0_bn2_running_var, 0.1, 1e-05);  conv2d_8 = p_layer2_0_bn2_weight = p_layer2_0_bn2_bias = b_layer2_0_bn2_running_mean = b_layer2_0_bn2_running_var = None\n",
       "                    getitem_24: \"f32[1, 32, 16, 16]\" = _native_batch_norm_legit_no_training_8[0];  _native_batch_norm_legit_no_training_8 = None\n",
       "            \n",
       "                     # File: /home/lois/Documents/mlops/introduction_a_la_quantization/.venv/lib/python3.12/site-packages/torch/nn/modules/conv.py:548 in forward, code: return self._conv_forward(input, self.weight, self.bias)\n",
       "                    conv2d_9: \"f32[1, 32, 16, 16]\" = torch.ops.aten.conv2d.default(relu_6, p_layer2_0_downsample_0_weight, None, [2, 2]);  relu_6 = p_layer2_0_downsample_0_weight = None\n",
       "            \n",
       "                     # File: /home/lois/Documents/mlops/introduction_a_la_quantization/.venv/lib/python3.12/site-packages/torch/nn/modules/batchnorm.py:193 in forward, code: return F.batch_norm(\n",
       "                    _native_batch_norm_legit_no_training_9 = torch.ops.aten._native_batch_norm_legit_no_training.default(conv2d_9, p_layer2_0_downsample_1_weight, p_layer2_0_downsample_1_bias, b_layer2_0_downsample_1_running_mean, b_layer2_0_downsample_1_running_var, 0.1, 1e-05);  conv2d_9 = p_layer2_0_downsample_1_weight = p_layer2_0_downsample_1_bias = b_layer2_0_downsample_1_running_mean = b_layer2_0_downsample_1_running_var = None\n",
       "                    getitem_27: \"f32[1, 32, 16, 16]\" = _native_batch_norm_legit_no_training_9[0];  _native_batch_norm_legit_no_training_9 = None\n",
       "            \n",
       "                     # File: /home/lois/.cache/torch/hub/chenyaofo_pytorch-cifar-models_master/pytorch_cifar_models/resnet.py:96 in forward, code: out += identity\n",
       "                    add_8: \"f32[1, 32, 16, 16]\" = torch.ops.aten.add.Tensor(getitem_24, getitem_27);  getitem_24 = getitem_27 = None\n",
       "            \n",
       "                     # File: /home/lois/Documents/mlops/introduction_a_la_quantization/.venv/lib/python3.12/site-packages/torch/nn/modules/activation.py:144 in forward, code: return F.relu(input, inplace=self.inplace)\n",
       "                    relu_8: \"f32[1, 32, 16, 16]\" = torch.ops.aten.relu.default(add_8);  add_8 = None\n",
       "            \n",
       "                     # File: /home/lois/Documents/mlops/introduction_a_la_quantization/.venv/lib/python3.12/site-packages/torch/nn/modules/conv.py:548 in forward, code: return self._conv_forward(input, self.weight, self.bias)\n",
       "                    conv2d_10: \"f32[1, 32, 16, 16]\" = torch.ops.aten.conv2d.default(relu_8, p_layer2_1_conv1_weight, None, [1, 1], [1, 1]);  p_layer2_1_conv1_weight = None\n",
       "            \n",
       "                     # File: /home/lois/Documents/mlops/introduction_a_la_quantization/.venv/lib/python3.12/site-packages/torch/nn/modules/batchnorm.py:193 in forward, code: return F.batch_norm(\n",
       "                    _native_batch_norm_legit_no_training_10 = torch.ops.aten._native_batch_norm_legit_no_training.default(conv2d_10, p_layer2_1_bn1_weight, p_layer2_1_bn1_bias, b_layer2_1_bn1_running_mean, b_layer2_1_bn1_running_var, 0.1, 1e-05);  conv2d_10 = p_layer2_1_bn1_weight = p_layer2_1_bn1_bias = b_layer2_1_bn1_running_mean = b_layer2_1_bn1_running_var = None\n",
       "                    getitem_30: \"f32[1, 32, 16, 16]\" = _native_batch_norm_legit_no_training_10[0];  _native_batch_norm_legit_no_training_10 = None\n",
       "            \n",
       "                     # File: /home/lois/Documents/mlops/introduction_a_la_quantization/.venv/lib/python3.12/site-packages/torch/nn/modules/activation.py:144 in forward, code: return F.relu(input, inplace=self.inplace)\n",
       "                    relu_9: \"f32[1, 32, 16, 16]\" = torch.ops.aten.relu.default(getitem_30);  getitem_30 = None\n",
       "            \n",
       "                     # File: /home/lois/Documents/mlops/introduction_a_la_quantization/.venv/lib/python3.12/site-packages/torch/nn/modules/conv.py:548 in forward, code: return self._conv_forward(input, self.weight, self.bias)\n",
       "                    conv2d_11: \"f32[1, 32, 16, 16]\" = torch.ops.aten.conv2d.default(relu_9, p_layer2_1_conv2_weight, None, [1, 1], [1, 1]);  relu_9 = p_layer2_1_conv2_weight = None\n",
       "            \n",
       "                     # File: /home/lois/Documents/mlops/introduction_a_la_quantization/.venv/lib/python3.12/site-packages/torch/nn/modules/batchnorm.py:193 in forward, code: return F.batch_norm(\n",
       "                    _native_batch_norm_legit_no_training_11 = torch.ops.aten._native_batch_norm_legit_no_training.default(conv2d_11, p_layer2_1_bn2_weight, p_layer2_1_bn2_bias, b_layer2_1_bn2_running_mean, b_layer2_1_bn2_running_var, 0.1, 1e-05);  conv2d_11 = p_layer2_1_bn2_weight = p_layer2_1_bn2_bias = b_layer2_1_bn2_running_mean = b_layer2_1_bn2_running_var = None\n",
       "                    getitem_33: \"f32[1, 32, 16, 16]\" = _native_batch_norm_legit_no_training_11[0];  _native_batch_norm_legit_no_training_11 = None\n",
       "            \n",
       "                     # File: /home/lois/.cache/torch/hub/chenyaofo_pytorch-cifar-models_master/pytorch_cifar_models/resnet.py:96 in forward, code: out += identity\n",
       "                    add_9: \"f32[1, 32, 16, 16]\" = torch.ops.aten.add.Tensor(getitem_33, relu_8);  getitem_33 = relu_8 = None\n",
       "            \n",
       "                     # File: /home/lois/Documents/mlops/introduction_a_la_quantization/.venv/lib/python3.12/site-packages/torch/nn/modules/activation.py:144 in forward, code: return F.relu(input, inplace=self.inplace)\n",
       "                    relu_10: \"f32[1, 32, 16, 16]\" = torch.ops.aten.relu.default(add_9);  add_9 = None\n",
       "            \n",
       "                     # File: /home/lois/Documents/mlops/introduction_a_la_quantization/.venv/lib/python3.12/site-packages/torch/nn/modules/conv.py:548 in forward, code: return self._conv_forward(input, self.weight, self.bias)\n",
       "                    conv2d_12: \"f32[1, 32, 16, 16]\" = torch.ops.aten.conv2d.default(relu_10, p_layer2_2_conv1_weight, None, [1, 1], [1, 1]);  p_layer2_2_conv1_weight = None\n",
       "            \n",
       "                     # File: /home/lois/Documents/mlops/introduction_a_la_quantization/.venv/lib/python3.12/site-packages/torch/nn/modules/batchnorm.py:193 in forward, code: return F.batch_norm(\n",
       "                    _native_batch_norm_legit_no_training_12 = torch.ops.aten._native_batch_norm_legit_no_training.default(conv2d_12, p_layer2_2_bn1_weight, p_layer2_2_bn1_bias, b_layer2_2_bn1_running_mean, b_layer2_2_bn1_running_var, 0.1, 1e-05);  conv2d_12 = p_layer2_2_bn1_weight = p_layer2_2_bn1_bias = b_layer2_2_bn1_running_mean = b_layer2_2_bn1_running_var = None\n",
       "                    getitem_36: \"f32[1, 32, 16, 16]\" = _native_batch_norm_legit_no_training_12[0];  _native_batch_norm_legit_no_training_12 = None\n",
       "            \n",
       "                     # File: /home/lois/Documents/mlops/introduction_a_la_quantization/.venv/lib/python3.12/site-packages/torch/nn/modules/activation.py:144 in forward, code: return F.relu(input, inplace=self.inplace)\n",
       "                    relu_11: \"f32[1, 32, 16, 16]\" = torch.ops.aten.relu.default(getitem_36);  getitem_36 = None\n",
       "            \n",
       "                     # File: /home/lois/Documents/mlops/introduction_a_la_quantization/.venv/lib/python3.12/site-packages/torch/nn/modules/conv.py:548 in forward, code: return self._conv_forward(input, self.weight, self.bias)\n",
       "                    conv2d_13: \"f32[1, 32, 16, 16]\" = torch.ops.aten.conv2d.default(relu_11, p_layer2_2_conv2_weight, None, [1, 1], [1, 1]);  relu_11 = p_layer2_2_conv2_weight = None\n",
       "            \n",
       "                     # File: /home/lois/Documents/mlops/introduction_a_la_quantization/.venv/lib/python3.12/site-packages/torch/nn/modules/batchnorm.py:193 in forward, code: return F.batch_norm(\n",
       "                    _native_batch_norm_legit_no_training_13 = torch.ops.aten._native_batch_norm_legit_no_training.default(conv2d_13, p_layer2_2_bn2_weight, p_layer2_2_bn2_bias, b_layer2_2_bn2_running_mean, b_layer2_2_bn2_running_var, 0.1, 1e-05);  conv2d_13 = p_layer2_2_bn2_weight = p_layer2_2_bn2_bias = b_layer2_2_bn2_running_mean = b_layer2_2_bn2_running_var = None\n",
       "                    getitem_39: \"f32[1, 32, 16, 16]\" = _native_batch_norm_legit_no_training_13[0];  _native_batch_norm_legit_no_training_13 = None\n",
       "            \n",
       "                     # File: /home/lois/.cache/torch/hub/chenyaofo_pytorch-cifar-models_master/pytorch_cifar_models/resnet.py:96 in forward, code: out += identity\n",
       "                    add_10: \"f32[1, 32, 16, 16]\" = torch.ops.aten.add.Tensor(getitem_39, relu_10);  getitem_39 = relu_10 = None\n",
       "            \n",
       "                     # File: /home/lois/Documents/mlops/introduction_a_la_quantization/.venv/lib/python3.12/site-packages/torch/nn/modules/activation.py:144 in forward, code: return F.relu(input, inplace=self.inplace)\n",
       "                    relu_12: \"f32[1, 32, 16, 16]\" = torch.ops.aten.relu.default(add_10);  add_10 = None\n",
       "            \n",
       "                     # File: /home/lois/Documents/mlops/introduction_a_la_quantization/.venv/lib/python3.12/site-packages/torch/nn/modules/conv.py:548 in forward, code: return self._conv_forward(input, self.weight, self.bias)\n",
       "                    conv2d_14: \"f32[1, 64, 8, 8]\" = torch.ops.aten.conv2d.default(relu_12, p_layer3_0_conv1_weight, None, [2, 2], [1, 1]);  p_layer3_0_conv1_weight = None\n",
       "            \n",
       "                     # File: /home/lois/Documents/mlops/introduction_a_la_quantization/.venv/lib/python3.12/site-packages/torch/nn/modules/batchnorm.py:193 in forward, code: return F.batch_norm(\n",
       "                    _native_batch_norm_legit_no_training_14 = torch.ops.aten._native_batch_norm_legit_no_training.default(conv2d_14, p_layer3_0_bn1_weight, p_layer3_0_bn1_bias, b_layer3_0_bn1_running_mean, b_layer3_0_bn1_running_var, 0.1, 1e-05);  conv2d_14 = p_layer3_0_bn1_weight = p_layer3_0_bn1_bias = b_layer3_0_bn1_running_mean = b_layer3_0_bn1_running_var = None\n",
       "                    getitem_42: \"f32[1, 64, 8, 8]\" = _native_batch_norm_legit_no_training_14[0];  _native_batch_norm_legit_no_training_14 = None\n",
       "            \n",
       "                     # File: /home/lois/Documents/mlops/introduction_a_la_quantization/.venv/lib/python3.12/site-packages/torch/nn/modules/activation.py:144 in forward, code: return F.relu(input, inplace=self.inplace)\n",
       "                    relu_13: \"f32[1, 64, 8, 8]\" = torch.ops.aten.relu.default(getitem_42);  getitem_42 = None\n",
       "            \n",
       "                     # File: /home/lois/Documents/mlops/introduction_a_la_quantization/.venv/lib/python3.12/site-packages/torch/nn/modules/conv.py:548 in forward, code: return self._conv_forward(input, self.weight, self.bias)\n",
       "                    conv2d_15: \"f32[1, 64, 8, 8]\" = torch.ops.aten.conv2d.default(relu_13, p_layer3_0_conv2_weight, None, [1, 1], [1, 1]);  relu_13 = p_layer3_0_conv2_weight = None\n",
       "            \n",
       "                     # File: /home/lois/Documents/mlops/introduction_a_la_quantization/.venv/lib/python3.12/site-packages/torch/nn/modules/batchnorm.py:193 in forward, code: return F.batch_norm(\n",
       "                    _native_batch_norm_legit_no_training_15 = torch.ops.aten._native_batch_norm_legit_no_training.default(conv2d_15, p_layer3_0_bn2_weight, p_layer3_0_bn2_bias, b_layer3_0_bn2_running_mean, b_layer3_0_bn2_running_var, 0.1, 1e-05);  conv2d_15 = p_layer3_0_bn2_weight = p_layer3_0_bn2_bias = b_layer3_0_bn2_running_mean = b_layer3_0_bn2_running_var = None\n",
       "                    getitem_45: \"f32[1, 64, 8, 8]\" = _native_batch_norm_legit_no_training_15[0];  _native_batch_norm_legit_no_training_15 = None\n",
       "            \n",
       "                     # File: /home/lois/Documents/mlops/introduction_a_la_quantization/.venv/lib/python3.12/site-packages/torch/nn/modules/conv.py:548 in forward, code: return self._conv_forward(input, self.weight, self.bias)\n",
       "                    conv2d_16: \"f32[1, 64, 8, 8]\" = torch.ops.aten.conv2d.default(relu_12, p_layer3_0_downsample_0_weight, None, [2, 2]);  relu_12 = p_layer3_0_downsample_0_weight = None\n",
       "            \n",
       "                     # File: /home/lois/Documents/mlops/introduction_a_la_quantization/.venv/lib/python3.12/site-packages/torch/nn/modules/batchnorm.py:193 in forward, code: return F.batch_norm(\n",
       "                    _native_batch_norm_legit_no_training_16 = torch.ops.aten._native_batch_norm_legit_no_training.default(conv2d_16, p_layer3_0_downsample_1_weight, p_layer3_0_downsample_1_bias, b_layer3_0_downsample_1_running_mean, b_layer3_0_downsample_1_running_var, 0.1, 1e-05);  conv2d_16 = p_layer3_0_downsample_1_weight = p_layer3_0_downsample_1_bias = b_layer3_0_downsample_1_running_mean = b_layer3_0_downsample_1_running_var = None\n",
       "                    getitem_48: \"f32[1, 64, 8, 8]\" = _native_batch_norm_legit_no_training_16[0];  _native_batch_norm_legit_no_training_16 = None\n",
       "            \n",
       "                     # File: /home/lois/.cache/torch/hub/chenyaofo_pytorch-cifar-models_master/pytorch_cifar_models/resnet.py:96 in forward, code: out += identity\n",
       "                    add_11: \"f32[1, 64, 8, 8]\" = torch.ops.aten.add.Tensor(getitem_45, getitem_48);  getitem_45 = getitem_48 = None\n",
       "            \n",
       "                     # File: /home/lois/Documents/mlops/introduction_a_la_quantization/.venv/lib/python3.12/site-packages/torch/nn/modules/activation.py:144 in forward, code: return F.relu(input, inplace=self.inplace)\n",
       "                    relu_14: \"f32[1, 64, 8, 8]\" = torch.ops.aten.relu.default(add_11);  add_11 = None\n",
       "            \n",
       "                     # File: /home/lois/Documents/mlops/introduction_a_la_quantization/.venv/lib/python3.12/site-packages/torch/nn/modules/conv.py:548 in forward, code: return self._conv_forward(input, self.weight, self.bias)\n",
       "                    conv2d_17: \"f32[1, 64, 8, 8]\" = torch.ops.aten.conv2d.default(relu_14, p_layer3_1_conv1_weight, None, [1, 1], [1, 1]);  p_layer3_1_conv1_weight = None\n",
       "            \n",
       "                     # File: /home/lois/Documents/mlops/introduction_a_la_quantization/.venv/lib/python3.12/site-packages/torch/nn/modules/batchnorm.py:193 in forward, code: return F.batch_norm(\n",
       "                    _native_batch_norm_legit_no_training_17 = torch.ops.aten._native_batch_norm_legit_no_training.default(conv2d_17, p_layer3_1_bn1_weight, p_layer3_1_bn1_bias, b_layer3_1_bn1_running_mean, b_layer3_1_bn1_running_var, 0.1, 1e-05);  conv2d_17 = p_layer3_1_bn1_weight = p_layer3_1_bn1_bias = b_layer3_1_bn1_running_mean = b_layer3_1_bn1_running_var = None\n",
       "                    getitem_51: \"f32[1, 64, 8, 8]\" = _native_batch_norm_legit_no_training_17[0];  _native_batch_norm_legit_no_training_17 = None\n",
       "            \n",
       "                     # File: /home/lois/Documents/mlops/introduction_a_la_quantization/.venv/lib/python3.12/site-packages/torch/nn/modules/activation.py:144 in forward, code: return F.relu(input, inplace=self.inplace)\n",
       "                    relu_15: \"f32[1, 64, 8, 8]\" = torch.ops.aten.relu.default(getitem_51);  getitem_51 = None\n",
       "            \n",
       "                     # File: /home/lois/Documents/mlops/introduction_a_la_quantization/.venv/lib/python3.12/site-packages/torch/nn/modules/conv.py:548 in forward, code: return self._conv_forward(input, self.weight, self.bias)\n",
       "                    conv2d_18: \"f32[1, 64, 8, 8]\" = torch.ops.aten.conv2d.default(relu_15, p_layer3_1_conv2_weight, None, [1, 1], [1, 1]);  relu_15 = p_layer3_1_conv2_weight = None\n",
       "            \n",
       "                     # File: /home/lois/Documents/mlops/introduction_a_la_quantization/.venv/lib/python3.12/site-packages/torch/nn/modules/batchnorm.py:193 in forward, code: return F.batch_norm(\n",
       "                    _native_batch_norm_legit_no_training_18 = torch.ops.aten._native_batch_norm_legit_no_training.default(conv2d_18, p_layer3_1_bn2_weight, p_layer3_1_bn2_bias, b_layer3_1_bn2_running_mean, b_layer3_1_bn2_running_var, 0.1, 1e-05);  conv2d_18 = p_layer3_1_bn2_weight = p_layer3_1_bn2_bias = b_layer3_1_bn2_running_mean = b_layer3_1_bn2_running_var = None\n",
       "                    getitem_54: \"f32[1, 64, 8, 8]\" = _native_batch_norm_legit_no_training_18[0];  _native_batch_norm_legit_no_training_18 = None\n",
       "            \n",
       "                     # File: /home/lois/.cache/torch/hub/chenyaofo_pytorch-cifar-models_master/pytorch_cifar_models/resnet.py:96 in forward, code: out += identity\n",
       "                    add_12: \"f32[1, 64, 8, 8]\" = torch.ops.aten.add.Tensor(getitem_54, relu_14);  getitem_54 = relu_14 = None\n",
       "            \n",
       "                     # File: /home/lois/Documents/mlops/introduction_a_la_quantization/.venv/lib/python3.12/site-packages/torch/nn/modules/activation.py:144 in forward, code: return F.relu(input, inplace=self.inplace)\n",
       "                    relu_16: \"f32[1, 64, 8, 8]\" = torch.ops.aten.relu.default(add_12);  add_12 = None\n",
       "            \n",
       "                     # File: /home/lois/Documents/mlops/introduction_a_la_quantization/.venv/lib/python3.12/site-packages/torch/nn/modules/conv.py:548 in forward, code: return self._conv_forward(input, self.weight, self.bias)\n",
       "                    conv2d_19: \"f32[1, 64, 8, 8]\" = torch.ops.aten.conv2d.default(relu_16, p_layer3_2_conv1_weight, None, [1, 1], [1, 1]);  p_layer3_2_conv1_weight = None\n",
       "            \n",
       "                     # File: /home/lois/Documents/mlops/introduction_a_la_quantization/.venv/lib/python3.12/site-packages/torch/nn/modules/batchnorm.py:193 in forward, code: return F.batch_norm(\n",
       "                    _native_batch_norm_legit_no_training_19 = torch.ops.aten._native_batch_norm_legit_no_training.default(conv2d_19, p_layer3_2_bn1_weight, p_layer3_2_bn1_bias, b_layer3_2_bn1_running_mean, b_layer3_2_bn1_running_var, 0.1, 1e-05);  conv2d_19 = p_layer3_2_bn1_weight = p_layer3_2_bn1_bias = b_layer3_2_bn1_running_mean = b_layer3_2_bn1_running_var = None\n",
       "                    getitem_57: \"f32[1, 64, 8, 8]\" = _native_batch_norm_legit_no_training_19[0];  _native_batch_norm_legit_no_training_19 = None\n",
       "            \n",
       "                     # File: /home/lois/Documents/mlops/introduction_a_la_quantization/.venv/lib/python3.12/site-packages/torch/nn/modules/activation.py:144 in forward, code: return F.relu(input, inplace=self.inplace)\n",
       "                    relu_17: \"f32[1, 64, 8, 8]\" = torch.ops.aten.relu.default(getitem_57);  getitem_57 = None\n",
       "            \n",
       "                     # File: /home/lois/Documents/mlops/introduction_a_la_quantization/.venv/lib/python3.12/site-packages/torch/nn/modules/conv.py:548 in forward, code: return self._conv_forward(input, self.weight, self.bias)\n",
       "                    conv2d_20: \"f32[1, 64, 8, 8]\" = torch.ops.aten.conv2d.default(relu_17, p_layer3_2_conv2_weight, None, [1, 1], [1, 1]);  relu_17 = p_layer3_2_conv2_weight = None\n",
       "            \n",
       "                     # File: /home/lois/Documents/mlops/introduction_a_la_quantization/.venv/lib/python3.12/site-packages/torch/nn/modules/batchnorm.py:193 in forward, code: return F.batch_norm(\n",
       "                    _native_batch_norm_legit_no_training_20 = torch.ops.aten._native_batch_norm_legit_no_training.default(conv2d_20, p_layer3_2_bn2_weight, p_layer3_2_bn2_bias, b_layer3_2_bn2_running_mean, b_layer3_2_bn2_running_var, 0.1, 1e-05);  conv2d_20 = p_layer3_2_bn2_weight = p_layer3_2_bn2_bias = b_layer3_2_bn2_running_mean = b_layer3_2_bn2_running_var = None\n",
       "                    getitem_60: \"f32[1, 64, 8, 8]\" = _native_batch_norm_legit_no_training_20[0];  _native_batch_norm_legit_no_training_20 = None\n",
       "            \n",
       "                     # File: /home/lois/.cache/torch/hub/chenyaofo_pytorch-cifar-models_master/pytorch_cifar_models/resnet.py:96 in forward, code: out += identity\n",
       "                    add_13: \"f32[1, 64, 8, 8]\" = torch.ops.aten.add.Tensor(getitem_60, relu_16);  getitem_60 = relu_16 = None\n",
       "            \n",
       "                     # File: /home/lois/Documents/mlops/introduction_a_la_quantization/.venv/lib/python3.12/site-packages/torch/nn/modules/activation.py:144 in forward, code: return F.relu(input, inplace=self.inplace)\n",
       "                    relu_18: \"f32[1, 64, 8, 8]\" = torch.ops.aten.relu.default(add_13);  add_13 = None\n",
       "            \n",
       "                     # File: /home/lois/Documents/mlops/introduction_a_la_quantization/.venv/lib/python3.12/site-packages/torch/nn/modules/pooling.py:1500 in forward, code: return F.adaptive_avg_pool2d(input, self.output_size)\n",
       "                    mean: \"f32[1, 64, 1, 1]\" = torch.ops.aten.mean.dim(relu_18, [-1, -2], True);  relu_18 = None\n",
       "            \n",
       "                     # File: /home/lois/.cache/torch/hub/chenyaofo_pytorch-cifar-models_master/pytorch_cifar_models/resnet.py:151 in forward, code: x = x.view(x.size(0), -1)\n",
       "                    view: \"f32[1, 64]\" = torch.ops.aten.view.default(mean, [sym_size_int_1, -1]);  mean = sym_size_int_1 = None\n",
       "            \n",
       "                     # File: /home/lois/Documents/mlops/introduction_a_la_quantization/.venv/lib/python3.12/site-packages/torch/nn/modules/linear.py:134 in forward, code: return F.linear(input, self.weight, self.bias)\n",
       "                    linear: \"f32[1, 10]\" = torch.ops.aten.linear.default(view, p_fc_weight, p_fc_bias);  view = p_fc_weight = p_fc_bias = None\n",
       "                    return (linear,)\n",
       "            \n",
       "        Graph signature: \n",
       "            # inputs\n",
       "            p_conv1_weight: PARAMETER target='conv1.weight'\n",
       "            p_bn1_weight: PARAMETER target='bn1.weight'\n",
       "            p_bn1_bias: PARAMETER target='bn1.bias'\n",
       "            p_layer1_0_conv1_weight: PARAMETER target='layer1.0.conv1.weight'\n",
       "            p_layer1_0_bn1_weight: PARAMETER target='layer1.0.bn1.weight'\n",
       "            p_layer1_0_bn1_bias: PARAMETER target='layer1.0.bn1.bias'\n",
       "            p_layer1_0_conv2_weight: PARAMETER target='layer1.0.conv2.weight'\n",
       "            p_layer1_0_bn2_weight: PARAMETER target='layer1.0.bn2.weight'\n",
       "            p_layer1_0_bn2_bias: PARAMETER target='layer1.0.bn2.bias'\n",
       "            p_layer1_1_conv1_weight: PARAMETER target='layer1.1.conv1.weight'\n",
       "            p_layer1_1_bn1_weight: PARAMETER target='layer1.1.bn1.weight'\n",
       "            p_layer1_1_bn1_bias: PARAMETER target='layer1.1.bn1.bias'\n",
       "            p_layer1_1_conv2_weight: PARAMETER target='layer1.1.conv2.weight'\n",
       "            p_layer1_1_bn2_weight: PARAMETER target='layer1.1.bn2.weight'\n",
       "            p_layer1_1_bn2_bias: PARAMETER target='layer1.1.bn2.bias'\n",
       "            p_layer1_2_conv1_weight: PARAMETER target='layer1.2.conv1.weight'\n",
       "            p_layer1_2_bn1_weight: PARAMETER target='layer1.2.bn1.weight'\n",
       "            p_layer1_2_bn1_bias: PARAMETER target='layer1.2.bn1.bias'\n",
       "            p_layer1_2_conv2_weight: PARAMETER target='layer1.2.conv2.weight'\n",
       "            p_layer1_2_bn2_weight: PARAMETER target='layer1.2.bn2.weight'\n",
       "            p_layer1_2_bn2_bias: PARAMETER target='layer1.2.bn2.bias'\n",
       "            p_layer2_0_conv1_weight: PARAMETER target='layer2.0.conv1.weight'\n",
       "            p_layer2_0_bn1_weight: PARAMETER target='layer2.0.bn1.weight'\n",
       "            p_layer2_0_bn1_bias: PARAMETER target='layer2.0.bn1.bias'\n",
       "            p_layer2_0_conv2_weight: PARAMETER target='layer2.0.conv2.weight'\n",
       "            p_layer2_0_bn2_weight: PARAMETER target='layer2.0.bn2.weight'\n",
       "            p_layer2_0_bn2_bias: PARAMETER target='layer2.0.bn2.bias'\n",
       "            p_layer2_0_downsample_0_weight: PARAMETER target='layer2.0.downsample.0.weight'\n",
       "            p_layer2_0_downsample_1_weight: PARAMETER target='layer2.0.downsample.1.weight'\n",
       "            p_layer2_0_downsample_1_bias: PARAMETER target='layer2.0.downsample.1.bias'\n",
       "            p_layer2_1_conv1_weight: PARAMETER target='layer2.1.conv1.weight'\n",
       "            p_layer2_1_bn1_weight: PARAMETER target='layer2.1.bn1.weight'\n",
       "            p_layer2_1_bn1_bias: PARAMETER target='layer2.1.bn1.bias'\n",
       "            p_layer2_1_conv2_weight: PARAMETER target='layer2.1.conv2.weight'\n",
       "            p_layer2_1_bn2_weight: PARAMETER target='layer2.1.bn2.weight'\n",
       "            p_layer2_1_bn2_bias: PARAMETER target='layer2.1.bn2.bias'\n",
       "            p_layer2_2_conv1_weight: PARAMETER target='layer2.2.conv1.weight'\n",
       "            p_layer2_2_bn1_weight: PARAMETER target='layer2.2.bn1.weight'\n",
       "            p_layer2_2_bn1_bias: PARAMETER target='layer2.2.bn1.bias'\n",
       "            p_layer2_2_conv2_weight: PARAMETER target='layer2.2.conv2.weight'\n",
       "            p_layer2_2_bn2_weight: PARAMETER target='layer2.2.bn2.weight'\n",
       "            p_layer2_2_bn2_bias: PARAMETER target='layer2.2.bn2.bias'\n",
       "            p_layer3_0_conv1_weight: PARAMETER target='layer3.0.conv1.weight'\n",
       "            p_layer3_0_bn1_weight: PARAMETER target='layer3.0.bn1.weight'\n",
       "            p_layer3_0_bn1_bias: PARAMETER target='layer3.0.bn1.bias'\n",
       "            p_layer3_0_conv2_weight: PARAMETER target='layer3.0.conv2.weight'\n",
       "            p_layer3_0_bn2_weight: PARAMETER target='layer3.0.bn2.weight'\n",
       "            p_layer3_0_bn2_bias: PARAMETER target='layer3.0.bn2.bias'\n",
       "            p_layer3_0_downsample_0_weight: PARAMETER target='layer3.0.downsample.0.weight'\n",
       "            p_layer3_0_downsample_1_weight: PARAMETER target='layer3.0.downsample.1.weight'\n",
       "            p_layer3_0_downsample_1_bias: PARAMETER target='layer3.0.downsample.1.bias'\n",
       "            p_layer3_1_conv1_weight: PARAMETER target='layer3.1.conv1.weight'\n",
       "            p_layer3_1_bn1_weight: PARAMETER target='layer3.1.bn1.weight'\n",
       "            p_layer3_1_bn1_bias: PARAMETER target='layer3.1.bn1.bias'\n",
       "            p_layer3_1_conv2_weight: PARAMETER target='layer3.1.conv2.weight'\n",
       "            p_layer3_1_bn2_weight: PARAMETER target='layer3.1.bn2.weight'\n",
       "            p_layer3_1_bn2_bias: PARAMETER target='layer3.1.bn2.bias'\n",
       "            p_layer3_2_conv1_weight: PARAMETER target='layer3.2.conv1.weight'\n",
       "            p_layer3_2_bn1_weight: PARAMETER target='layer3.2.bn1.weight'\n",
       "            p_layer3_2_bn1_bias: PARAMETER target='layer3.2.bn1.bias'\n",
       "            p_layer3_2_conv2_weight: PARAMETER target='layer3.2.conv2.weight'\n",
       "            p_layer3_2_bn2_weight: PARAMETER target='layer3.2.bn2.weight'\n",
       "            p_layer3_2_bn2_bias: PARAMETER target='layer3.2.bn2.bias'\n",
       "            p_fc_weight: PARAMETER target='fc.weight'\n",
       "            p_fc_bias: PARAMETER target='fc.bias'\n",
       "            b_bn1_running_mean: BUFFER target='bn1.running_mean' persistent=True\n",
       "            b_bn1_running_var: BUFFER target='bn1.running_var' persistent=True\n",
       "            b_bn1_num_batches_tracked: BUFFER target='bn1.num_batches_tracked' persistent=True\n",
       "            b_layer1_0_bn1_running_mean: BUFFER target='layer1.0.bn1.running_mean' persistent=True\n",
       "            b_layer1_0_bn1_running_var: BUFFER target='layer1.0.bn1.running_var' persistent=True\n",
       "            b_layer1_0_bn1_num_batches_tracked: BUFFER target='layer1.0.bn1.num_batches_tracked' persistent=True\n",
       "            b_layer1_0_bn2_running_mean: BUFFER target='layer1.0.bn2.running_mean' persistent=True\n",
       "            b_layer1_0_bn2_running_var: BUFFER target='layer1.0.bn2.running_var' persistent=True\n",
       "            b_layer1_0_bn2_num_batches_tracked: BUFFER target='layer1.0.bn2.num_batches_tracked' persistent=True\n",
       "            b_layer1_1_bn1_running_mean: BUFFER target='layer1.1.bn1.running_mean' persistent=True\n",
       "            b_layer1_1_bn1_running_var: BUFFER target='layer1.1.bn1.running_var' persistent=True\n",
       "            b_layer1_1_bn1_num_batches_tracked: BUFFER target='layer1.1.bn1.num_batches_tracked' persistent=True\n",
       "            b_layer1_1_bn2_running_mean: BUFFER target='layer1.1.bn2.running_mean' persistent=True\n",
       "            b_layer1_1_bn2_running_var: BUFFER target='layer1.1.bn2.running_var' persistent=True\n",
       "            b_layer1_1_bn2_num_batches_tracked: BUFFER target='layer1.1.bn2.num_batches_tracked' persistent=True\n",
       "            b_layer1_2_bn1_running_mean: BUFFER target='layer1.2.bn1.running_mean' persistent=True\n",
       "            b_layer1_2_bn1_running_var: BUFFER target='layer1.2.bn1.running_var' persistent=True\n",
       "            b_layer1_2_bn1_num_batches_tracked: BUFFER target='layer1.2.bn1.num_batches_tracked' persistent=True\n",
       "            b_layer1_2_bn2_running_mean: BUFFER target='layer1.2.bn2.running_mean' persistent=True\n",
       "            b_layer1_2_bn2_running_var: BUFFER target='layer1.2.bn2.running_var' persistent=True\n",
       "            b_layer1_2_bn2_num_batches_tracked: BUFFER target='layer1.2.bn2.num_batches_tracked' persistent=True\n",
       "            b_layer2_0_bn1_running_mean: BUFFER target='layer2.0.bn1.running_mean' persistent=True\n",
       "            b_layer2_0_bn1_running_var: BUFFER target='layer2.0.bn1.running_var' persistent=True\n",
       "            b_layer2_0_bn1_num_batches_tracked: BUFFER target='layer2.0.bn1.num_batches_tracked' persistent=True\n",
       "            b_layer2_0_bn2_running_mean: BUFFER target='layer2.0.bn2.running_mean' persistent=True\n",
       "            b_layer2_0_bn2_running_var: BUFFER target='layer2.0.bn2.running_var' persistent=True\n",
       "            b_layer2_0_bn2_num_batches_tracked: BUFFER target='layer2.0.bn2.num_batches_tracked' persistent=True\n",
       "            b_layer2_0_downsample_1_running_mean: BUFFER target='layer2.0.downsample.1.running_mean' persistent=True\n",
       "            b_layer2_0_downsample_1_running_var: BUFFER target='layer2.0.downsample.1.running_var' persistent=True\n",
       "            b_layer2_0_downsample_1_num_batches_tracked: BUFFER target='layer2.0.downsample.1.num_batches_tracked' persistent=True\n",
       "            b_layer2_1_bn1_running_mean: BUFFER target='layer2.1.bn1.running_mean' persistent=True\n",
       "            b_layer2_1_bn1_running_var: BUFFER target='layer2.1.bn1.running_var' persistent=True\n",
       "            b_layer2_1_bn1_num_batches_tracked: BUFFER target='layer2.1.bn1.num_batches_tracked' persistent=True\n",
       "            b_layer2_1_bn2_running_mean: BUFFER target='layer2.1.bn2.running_mean' persistent=True\n",
       "            b_layer2_1_bn2_running_var: BUFFER target='layer2.1.bn2.running_var' persistent=True\n",
       "            b_layer2_1_bn2_num_batches_tracked: BUFFER target='layer2.1.bn2.num_batches_tracked' persistent=True\n",
       "            b_layer2_2_bn1_running_mean: BUFFER target='layer2.2.bn1.running_mean' persistent=True\n",
       "            b_layer2_2_bn1_running_var: BUFFER target='layer2.2.bn1.running_var' persistent=True\n",
       "            b_layer2_2_bn1_num_batches_tracked: BUFFER target='layer2.2.bn1.num_batches_tracked' persistent=True\n",
       "            b_layer2_2_bn2_running_mean: BUFFER target='layer2.2.bn2.running_mean' persistent=True\n",
       "            b_layer2_2_bn2_running_var: BUFFER target='layer2.2.bn2.running_var' persistent=True\n",
       "            b_layer2_2_bn2_num_batches_tracked: BUFFER target='layer2.2.bn2.num_batches_tracked' persistent=True\n",
       "            b_layer3_0_bn1_running_mean: BUFFER target='layer3.0.bn1.running_mean' persistent=True\n",
       "            b_layer3_0_bn1_running_var: BUFFER target='layer3.0.bn1.running_var' persistent=True\n",
       "            b_layer3_0_bn1_num_batches_tracked: BUFFER target='layer3.0.bn1.num_batches_tracked' persistent=True\n",
       "            b_layer3_0_bn2_running_mean: BUFFER target='layer3.0.bn2.running_mean' persistent=True\n",
       "            b_layer3_0_bn2_running_var: BUFFER target='layer3.0.bn2.running_var' persistent=True\n",
       "            b_layer3_0_bn2_num_batches_tracked: BUFFER target='layer3.0.bn2.num_batches_tracked' persistent=True\n",
       "            b_layer3_0_downsample_1_running_mean: BUFFER target='layer3.0.downsample.1.running_mean' persistent=True\n",
       "            b_layer3_0_downsample_1_running_var: BUFFER target='layer3.0.downsample.1.running_var' persistent=True\n",
       "            b_layer3_0_downsample_1_num_batches_tracked: BUFFER target='layer3.0.downsample.1.num_batches_tracked' persistent=True\n",
       "            b_layer3_1_bn1_running_mean: BUFFER target='layer3.1.bn1.running_mean' persistent=True\n",
       "            b_layer3_1_bn1_running_var: BUFFER target='layer3.1.bn1.running_var' persistent=True\n",
       "            b_layer3_1_bn1_num_batches_tracked: BUFFER target='layer3.1.bn1.num_batches_tracked' persistent=True\n",
       "            b_layer3_1_bn2_running_mean: BUFFER target='layer3.1.bn2.running_mean' persistent=True\n",
       "            b_layer3_1_bn2_running_var: BUFFER target='layer3.1.bn2.running_var' persistent=True\n",
       "            b_layer3_1_bn2_num_batches_tracked: BUFFER target='layer3.1.bn2.num_batches_tracked' persistent=True\n",
       "            b_layer3_2_bn1_running_mean: BUFFER target='layer3.2.bn1.running_mean' persistent=True\n",
       "            b_layer3_2_bn1_running_var: BUFFER target='layer3.2.bn1.running_var' persistent=True\n",
       "            b_layer3_2_bn1_num_batches_tracked: BUFFER target='layer3.2.bn1.num_batches_tracked' persistent=True\n",
       "            b_layer3_2_bn2_running_mean: BUFFER target='layer3.2.bn2.running_mean' persistent=True\n",
       "            b_layer3_2_bn2_running_var: BUFFER target='layer3.2.bn2.running_var' persistent=True\n",
       "            b_layer3_2_bn2_num_batches_tracked: BUFFER target='layer3.2.bn2.num_batches_tracked' persistent=True\n",
       "            x: USER_INPUT\n",
       "    \n",
       "            # outputs\n",
       "            linear: USER_OUTPUT\n",
       "    \n",
       "        Range constraints: {s77: VR[0, int_oo]}\n",
       "\n",
       ")"
      ]
     },
     "execution_count": 1064,
     "metadata": {},
     "output_type": "execute_result"
    }
   ],
   "source": [
    "file_name = \"model/cifar.onnx\"\n",
    "\n",
    "model_cifar.eval()\n",
    "dummy_input = torch.randn(1, 3, 32, 32)\n",
    "torch.onnx.export(\n",
    "    model_cifar,\n",
    "    dummy_input,\n",
    "    file_name,\n",
    "    input_names=[\"input\"],\n",
    "    output_names=[\"output\"],\n",
    "    opset_version=18,\n",
    "    dynamic_axes={\"input\": {0: \"batch_size\"}, \"output\": {0: \"batch_size\"}},\n",
    ")"
   ]
  },
  {
   "cell_type": "code",
   "execution_count": 1065,
   "id": "181e7b9d",
   "metadata": {},
   "outputs": [
    {
     "name": "stderr",
     "output_type": "stream",
     "text": [
      "WARNING:root:Please consider to run pre-processing before quantization. Refer to example: https://github.com/microsoft/onnxruntime-inference-examples/blob/main/quantization/image_classification/cpu/ReadMe.md \n"
     ]
    }
   ],
   "source": [
    "correct_onnx(\"model/cifar.onnx\", \"model/cifar.cleaned.onnx\")\n",
    "quantize_dynamic(\n",
    "    model_input=\"model/cifar.cleaned.onnx\",\n",
    "    model_output=\"model/cifar.quant.onnx\",\n",
    "    weight_type=QuantType.QInt8,\n",
    "    per_channel=False,\n",
    "    reduce_range=False,\n",
    "    op_types_to_quantize=[\"MatMul\", \"Gemm\"],\n",
    ")\n"
   ]
  },
  {
   "cell_type": "code",
   "execution_count": 1067,
   "id": "266367df",
   "metadata": {},
   "outputs": [
    {
     "name": "stdout",
     "output_type": "stream",
     "text": [
      "        model   batch=1   batch=8  batch=32  batch=128  accuracy\n",
      "0     pytorch  0.002717  0.007248  0.016593   0.059894    0.9260\n",
      "1        onnx  0.000380  0.001936  0.007319   0.026405    0.9260\n",
      "2  onnx_quant  0.000417  0.001880  0.006753   0.026463    0.9257\n"
     ]
    }
   ],
   "source": [
    "import numpy as np\n",
    "import pandas as pd\n",
    "import time\n",
    "from torch.utils.data import DataLoader\n",
    "\n",
    "ort_session_cifar = ort.InferenceSession(\"model/cifar.cleaned.onnx\")\n",
    "ort_session_cifar_quant = ort.InferenceSession(\"model/cifar.quant.onnx\")\n",
    "\n",
    "model_cifar.eval()\n",
    "\n",
    "batch_sizes = [1, 8, 32, 128]\n",
    "\n",
    "models_bm = [\n",
    "    (\"pytorch\", model_cifar, benchmark_torch),\n",
    "    (\"onnx\", ort_session_cifar, benchmark_onnx),\n",
    "    (\"onnx_quant\", ort_session_cifar_quant, benchmark_onnx),\n",
    "]\n",
    "\n",
    "df_cifar = benchmark_models(models_bm, cifar10_test)\n",
    "print(df_cifar)"
   ]
  },
  {
   "cell_type": "markdown",
   "id": "b3649d63",
   "metadata": {},
   "source": [
    "Expliquer le principe du quantization aware training et la méthode Straight Through Estimator. \n",
    "\n",
    "Pour cela vous pouvez vous appuyer sur la lecture de la section G.1 (à partir de la fin de la page 8) de l'article suivante : https://arxiv.org/pdf/2103.13630.pdf"
   ]
  },
  {
   "cell_type": "markdown",
   "id": "906b693b",
   "metadata": {},
   "source": [
    "Le Quantization Aware Training consiste à entraîner un réseau en simulant la quantization pour qu’il s’y adapte, et la méthode du Straight Through Estimator permet de propager les gradients à travers la quantization en approximant la dérivée de l’opération de round par l’identité.\n"
   ]
  },
  {
   "cell_type": "code",
   "execution_count": 498,
   "id": "f18c7528",
   "metadata": {},
   "outputs": [],
   "source": [
    "import numpy as np\n",
    "import matplotlib.pyplot as plt"
   ]
  },
  {
   "cell_type": "code",
   "execution_count": 797,
   "id": "1e77886b",
   "metadata": {},
   "outputs": [],
   "source": [
    "def quantize(float_value, min_range, max_range,  zero = 0):\n",
    "    bits = 8\n",
    "    qmin = - (1 << (bits - 1))\n",
    "    qmax = (1 << (bits - 1)) - 1\n",
    "\n",
    "    S = (max_range - min_range) / (qmax - qmin)\n",
    "    zero_point = np.round(qmin - min_range / S).astype(np.int8)\n",
    "\n",
    "    Q = np.round(float_value / S + zero_point).astype(np.int8)\n",
    "    return Q\n"
   ]
  },
  {
   "cell_type": "code",
   "execution_count": 798,
   "id": "39f6338a",
   "metadata": {},
   "outputs": [
    {
     "name": "stdout",
     "output_type": "stream",
     "text": [
      "S: -127.5\n",
      "Zero point: 0\n",
      "[-1.  0.  2.  3.  4.  5.]\n",
      "[-26   0  51  76 102 127]\n"
     ]
    }
   ],
   "source": [
    "float_value = np.array([-1.0, 0, 2.0, 3.0, 4.0, 5.0], dtype=np.float32)\n",
    "min_range = -5.0\n",
    "max_range = 5.0\n",
    "quantized_values = quantize(float_value, min_range, max_range, zero = 0)\n",
    "print(float_value)\n",
    "print(quantized_values)"
   ]
  },
  {
   "cell_type": "code",
   "execution_count": 796,
   "id": "eb5108c3",
   "metadata": {},
   "outputs": [],
   "source": [
    "def to_float(uint_values, min_range, max_range):\n",
    "    bits = 8\n",
    "    qmin = - (1 << (bits - 1))\n",
    "    qmax = (1 << (bits - 1)) - 1\n",
    "\n",
    "    S = (max_range - min_range) / (qmax - qmin)\n",
    "    zero_point = np.round(qmin - min_range / S).astype(np.int8)\n",
    "\n",
    "    F = S * (uint_values.astype(np.float32) - zero_point)\n",
    "    return F"
   ]
  },
  {
   "cell_type": "code",
   "execution_count": 784,
   "id": "1ee311a7",
   "metadata": {},
   "outputs": [
    {
     "name": "stdout",
     "output_type": "stream",
     "text": [
      "[-1.0196079  0.         2.         2.9803922  4.         4.9803925]\n"
     ]
    }
   ],
   "source": [
    "restored_float_values = to_float(quantized_values, min_range, max_range)\n",
    "print(restored_float_values)"
   ]
  },
  {
   "cell_type": "code",
   "execution_count": 785,
   "id": "974a2389",
   "metadata": {},
   "outputs": [],
   "source": [
    "def display_error_histogram(values, min, max):\n",
    "    quantized_values = quantize(values, min, max, zero = 0)\n",
    "    restored_values = to_float(quantized_values, min, max)\n",
    "    errors = values - restored_values\n",
    "    plt.hist(errors, bins=100, edgecolor='black')\n",
    "    plt.title(\"Quantization Error Histogram\")\n",
    "    plt.xlabel(\"Error\")\n",
    "    plt.ylabel(\"Frequency\")\n",
    "    plt.show()"
   ]
  },
  {
   "cell_type": "code",
   "execution_count": 786,
   "id": "f1556cf2",
   "metadata": {},
   "outputs": [],
   "source": [
    "def quantization_error_stats(values, min, max):\n",
    "    quantized_values = quantize(values, min, max, zero = 0)\n",
    "    restored_values = to_float(quantized_values, min, max)\n",
    "    errors = values - restored_values\n",
    "    print(f\"Mean error: {np.mean(errors)}\")\n",
    "    print(f\"Standard deviation : {np.std(errors)}\") "
   ]
  },
  {
   "cell_type": "code",
   "execution_count": 787,
   "id": "3a09aff4",
   "metadata": {},
   "outputs": [
    {
     "data": {
      "image/png": "[encoded data removed]",
      "text/plain": [
       "<Figure size 640x480 with 1 Axes>"
      ]
     },
     "metadata": {},
     "output_type": "display_data"
    },
    {
     "name": "stdout",
     "output_type": "stream",
     "text": [
      "Mean error: -1.5031545785859635e-08\n",
      "Standard deviation : 0.001132344827055931\n"
     ]
    }
   ],
   "source": [
    "# Situation 1\n",
    "array = np.linspace(0, 0.5, 1000, dtype=np.float32)\n",
    "min_range = 0\n",
    "max_range = 1\n",
    "display_error_histogram(array, min_range, max_range)\n",
    "quantization_error_stats(array, min_range, max_range)"
   ]
  },
  {
   "cell_type": "code",
   "execution_count": 788,
   "id": "4d717070",
   "metadata": {},
   "outputs": [
    {
     "data": {
      "image/png": "[encoded data removed]",
      "text/plain": [
       "<Figure size 640x480 with 1 Axes>"
      ]
     },
     "metadata": {},
     "output_type": "display_data"
    },
    {
     "name": "stdout",
     "output_type": "stream",
     "text": [
      "Mean error: -3.8479993236251175e-06\n",
      "Standard deviation : 0.0011439853115007281\n"
     ]
    }
   ],
   "source": [
    "# Situation 1bis\n",
    "array = np.random.uniform(0, 1, 1000).astype(np.float32)\n",
    "min_range = 0\n",
    "max_range = 1\n",
    "display_error_histogram(array, min_range, max_range)\n",
    "quantization_error_stats(array, min_range, max_range)"
   ]
  },
  {
   "cell_type": "code",
   "execution_count": 789,
   "id": "676c2d8a",
   "metadata": {},
   "outputs": [
    {
     "data": {
      "image/png": "[encoded data removed]",
      "text/plain": [
       "<Figure size 640x480 with 1 Axes>"
      ]
     },
     "metadata": {},
     "output_type": "display_data"
    },
    {
     "name": "stdout",
     "output_type": "stream",
     "text": [
      "Mean error: 0.5009568333625793\n",
      "Standard deviation : 0.5019811391830444\n"
     ]
    }
   ],
   "source": [
    "# Situation 2\n",
    "array = np.linspace(0, 2, 1000, dtype=np.float32)\n",
    "min_range = 0\n",
    "max_range = 1\n",
    "display_error_histogram(array, min_range, max_range)\n",
    "quantization_error_stats(array, min_range, max_range)"
   ]
  },
  {
   "cell_type": "code",
   "execution_count": 790,
   "id": "a5c3b1bf",
   "metadata": {},
   "outputs": [
    {
     "data": {
      "image/png": "[encoded data removed]",
      "text/plain": [
       "<Figure size 640x480 with 1 Axes>"
      ]
     },
     "metadata": {},
     "output_type": "display_data"
    },
    {
     "name": "stdout",
     "output_type": "stream",
     "text": [
      "Mean error: 0.030105333775281906\n",
      "Standard deviation : 1.4207834005355835\n"
     ]
    }
   ],
   "source": [
    "# Situation 3\n",
    "array = np.random.uniform(-2, 2, 1000).astype(np.float32)\n",
    "min_range = -1\n",
    "max_range = 1\n",
    "display_error_histogram(array, min_range, max_range)\n",
    "quantization_error_stats(array, min_range, max_range)"
   ]
  },
  {
   "cell_type": "code",
   "execution_count": 791,
   "id": "1d1ba903",
   "metadata": {},
   "outputs": [
    {
     "data": {
      "image/png": "[encoded data removed]",
      "text/plain": [
       "<Figure size 640x480 with 1 Axes>"
      ]
     },
     "metadata": {},
     "output_type": "display_data"
    },
    {
     "name": "stdout",
     "output_type": "stream",
     "text": [
      "Mean error: 0.012168971821665764\n",
      "Standard deviation : 0.43982189893722534\n"
     ]
    }
   ],
   "source": [
    "# Situation 4 :\n",
    "array = np.random.normal(0, 0.5, 1000).astype(np.float32)\n",
    "min_range = -1\n",
    "max_range = 1\n",
    "display_error_histogram(array, min_range, max_range)\n",
    "quantization_error_stats(array, min_range, max_range)"
   ]
  },
  {
   "cell_type": "markdown",
   "id": "7895769f",
   "metadata": {},
   "source": [
    "## Post training quantization from scratch"
   ]
  },
  {
   "cell_type": "code",
   "execution_count": 675,
   "id": "45e1aa08",
   "metadata": {},
   "outputs": [],
   "source": [
    "import copy\n",
    "\n",
    "def quantize_model_naive(model):\n",
    "    model_q = copy.deepcopy(model)\n",
    "    # find minumum value \n",
    "    for param in model_q.parameters():\n",
    "        param.data = torch.round(param.data).to(torch.int8).to(torch.float32)\n",
    "\n",
    "    return model_q\n"
   ]
  },
  {
   "cell_type": "code",
   "execution_count": 676,
   "id": "a67aea59",
   "metadata": {},
   "outputs": [
    {
     "name": "stdout",
     "output_type": "stream",
     "text": [
      "Original accuracy: 0.9764\n",
      "Quantized naive accuracy: 0.098\n"
     ]
    }
   ],
   "source": [
    "model_q = quantize_model_naive(model)\n",
    "print(\"Original accuracy:\", model.evaluate(test_loader))\n",
    "print(\"Quantized naive accuracy:\", model_q.evaluate(test_loader))\n"
   ]
  },
  {
   "cell_type": "markdown",
   "id": "a015ae6e",
   "metadata": {},
   "source": [
    "Cela ne fonctionne pas du tout, on a complementement casse le modele. "
   ]
  },
  {
   "cell_type": "code",
   "execution_count": 681,
   "id": "172085df",
   "metadata": {},
   "outputs": [
    {
     "name": "stdout",
     "output_type": "stream",
     "text": [
      "Original accuracy: 0.9764\n",
      "Quantized static accuracy: 0.9762\n"
     ]
    }
   ],
   "source": [
    "def quantize_model_static(model, train_loader):\n",
    "    model_q = copy.deepcopy(model)\n",
    "    min = float('inf')\n",
    "    max = float('-inf')\n",
    "\n",
    "    for name, param in model_q.named_parameters():\n",
    "        min_elem = torch.min(param.data).item()\n",
    "        max_elem = torch.max(param.data).item()\n",
    "        min = min_elem if min_elem < min else min\n",
    "        max = max_elem if max_elem > max else max\n",
    "\n",
    "    for param in model_q.parameters():\n",
    "        value = param.data.cpu().numpy()\n",
    "        quantized_param = quantize(value, min, max, zero = 0)\n",
    "        dequantized_param = to_float(quantized_param, min, max)\n",
    "        param.data = torch.from_numpy(dequantized_param).to(torch.float32)\n",
    "\n",
    "    return model_q\n",
    "\n",
    "model_q_static = quantize_model_static(model, train_loader)\n",
    "print(\"Original accuracy:\", model.evaluate(test_loader))\n",
    "print(\"Quantized static accuracy:\", model_q_static.evaluate(test_loader))"
   ]
  },
  {
   "cell_type": "code",
   "execution_count": 682,
   "id": "5808ea88",
   "metadata": {},
   "outputs": [
    {
     "name": "stdout",
     "output_type": "stream",
     "text": [
      "Original accuracy: 0.9764\n",
      "Quantized each layer accuracy: 0.9762\n"
     ]
    }
   ],
   "source": [
    "def quantize_model_each_layer(model, train_loader):\n",
    "    model_q = copy.deepcopy(model)\n",
    "\n",
    "    for name, param in model_q.named_parameters():\n",
    "        min_elem = torch.min(param.data).item()\n",
    "        max_elem = torch.max(param.data).item()\n",
    "\n",
    "        value = param.data.cpu().numpy()\n",
    "        quantized_param = quantize(value, min_elem, max_elem, zero = 0)\n",
    "        dequantized_param = to_float(quantized_param, min_elem, max_elem)\n",
    "        param.data = torch.from_numpy(dequantized_param).to(torch.float32)\n",
    "\n",
    "    return model_q\n",
    "model_q_each_layer = quantize_model_each_layer(model, train_loader)\n",
    "print(\"Original accuracy:\", model.evaluate(test_loader))\n",
    "print(\"Quantized each layer accuracy:\", model_q_each_layer.evaluate(test_loader))"
   ]
  },
  {
   "cell_type": "markdown",
   "id": "a80e7869",
   "metadata": {},
   "source": [
    "Cela marche -t-il ? Sinon que suggerez vous pour resoudre le probleme ?"
   ]
  },
  {
   "cell_type": "markdown",
   "id": "7da7f4cb",
   "metadata": {},
   "source": [
    "On n'est pas sur une mega reussite, mais c'est deja mieux que le modele quantifie naiveement.\n",
    "Pour ameliorer les choses, on pourrait essayer d'utiliser une quantification symetrique (centrer autour de 0).Malgré la quantization par couche, la précision reste inférieure au modèle original. Cela s’explique par la perte d’information due à la réduction de précision. Pour améliorer les résultats, il serait nécessaire d’introduire la quantization des activations ou d’utiliser la Quantization Aware Training (QAT) afin que le réseau apprenne à compenser les effets de la quantization."
   ]
  },
  {
   "cell_type": "markdown",
   "id": "ce484723",
   "metadata": {},
   "source": [
    "Que faudrait-il ajouter à l'approche précédente pour quantifier aussi les activations des couches ? \n",
    "\n",
    "Comment obtenir les bonnes plages de quantization à utiliser ? \n",
    "\n",
    "faire en sorte de  faire une quantization des weights et des activations de votre modèle"
   ]
  },
  {
   "cell_type": "code",
   "execution_count": 664,
   "id": "328a4461",
   "metadata": {},
   "outputs": [
    {
     "name": "stdout",
     "output_type": "stream",
     "text": [
      "Epoch 1/5, Loss: 0.3452\n",
      "Epoch 2/5, Loss: 0.1391\n",
      "Epoch 3/5, Loss: 0.0951\n",
      "Epoch 4/5, Loss: 0.0722\n",
      "Epoch 5/5, Loss: 0.0563\n"
     ]
    }
   ],
   "source": [
    "import torch\n",
    "import torch.nn as nn\n",
    "import torch.nn.functional as F\n",
    "import torch.optim as optim\n",
    "\n",
    "def quantize_tensor(x: torch.Tensor, min_val: float, S: float, qmin: float) -> torch.Tensor:\n",
    "    return torch.round((x - min_val) / S + qmin)\n",
    "\n",
    "def dequantize_tensor(Q: torch.Tensor, min_val: float, S: float, qmin: float) -> torch.Tensor:\n",
    "    return (Q - qmin) * S + min_val\n",
    "\n",
    "\n",
    "class QuantizeSTE(MLP):\n",
    "    def __init__(self, pretrained_state_dict=None, bits=8):\n",
    "        super().__init__()\n",
    "        if pretrained_state_dict is not None:\n",
    "            try:\n",
    "                self.load_state_dict(pretrained_state_dict)\n",
    "            except Exception as e:\n",
    "                print(\"Couldn't load pretrained_state_dict:\", e)\n",
    "\n",
    "        self.bits = bits\n",
    "        self.qmin = -(1 << (bits - 1))\n",
    "        self.qmax = (1 << (bits - 1)) - 1\n",
    "\n",
    "    \n",
    "    def quantize_activation(self, x: torch.Tensor) -> torch.Tensor:\n",
    "        min_val = x.min()\n",
    "        max_val = x.max() \n",
    "\n",
    "        S = (max_val - min_val) / (self.qmax - self.qmin)\n",
    "\n",
    "        # Quantization\n",
    "        Q = quantize_tensor(x, min_val, S, self.qmin)\n",
    "        # Dequantization\n",
    "        x_dequant = dequantize_tensor(Q, min_val, S, self.qmin)\n",
    "        # Straight-Through Estimator\n",
    "        x_q = (x_dequant - x).detach() + x # d/dx = 1 / and return value = x_dequant !!!!\n",
    "\n",
    "        return x_q\n",
    "\n",
    "    def forward(self, x):\n",
    "        x = x.view(-1, 28*28)\n",
    "\n",
    "        x = self.fc1(x)\n",
    "        x = self.quantize_activation(x)\n",
    "        x = self.relu1(x)\n",
    "\n",
    "        x = self.fc2(x)\n",
    "        x = self.quantize_activation(x)\n",
    "        x = self.relu2(x)\n",
    "\n",
    "        x = self.fc3(x)\n",
    "        x = self.quantize_activation(x)\n",
    "        return x\n",
    "    \n",
    "    def quantize_state_dict(self):\n",
    "        q_state_dict = {}\n",
    "        qparams = {}\n",
    "\n",
    "        for name, param in self.state_dict().items():\n",
    "            min_val = param.min().item()\n",
    "            max_val = param.max().item()\n",
    "            S = (max_val - min_val) / (self.qmax - self.qmin + 1e-8)\n",
    "\n",
    "            q = torch.round((param - min_val) / S + self.qmin).to(torch.int8)\n",
    "\n",
    "            q_state_dict[name] = q\n",
    "            qparams[name] = (S, min_val)\n",
    "\n",
    "        return q_state_dict, qparams\n",
    "\n",
    "\n",
    "    def quantize_model_STE(self):\n",
    "        model_q = copy.deepcopy(self)\n",
    "        model_q.qparams = {} \n",
    "\n",
    "        for name, param in model_q.named_parameters():\n",
    "            min_elem = torch.min(param.data).item()\n",
    "            max_elem = torch.max(param.data).item()\n",
    "            S = (max_elem - min_elem) / (model_q.qmax - model_q.qmin + 1e-8)\n",
    "\n",
    "            value = quantize_tensor(param.data, min_elem, S, model_q.qmin)\n",
    "            param.data = value\n",
    "\n",
    "            model_q.qparams[name] = (min_elem, S)\n",
    "\n",
    "        return model_q\n",
    "    \n",
    "    def dequantize_model_STE(self):\n",
    "        model_deq = copy.deepcopy(self)\n",
    "\n",
    "        for name, param in model_deq.named_parameters():\n",
    "            min_elem, S = model_deq.qparams[name]\n",
    "            value = dequantize_tensor(param.data, min_elem, S, self.qmin)\n",
    "            param.data = value\n",
    "\n",
    "        return model_deq\n",
    "    \n",
    "    def save_quantized_model(self, filename):\n",
    "        q_state_dict, qparams = self.quantize_state_dict()\n",
    "        torch.save({'q_state_dict': q_state_dict, 'qparams': qparams, 'bits': self.bits}, filename)\n",
    "\n",
    "    @staticmethod\n",
    "    def load_quantized_model(filename):\n",
    "        file = torch.load(filename)\n",
    "        q_state_dict = file['q_state_dict']\n",
    "        qparams = file['qparams']\n",
    "\n",
    "        model = QuantizeSTE(bits=file['bits'])\n",
    "        model.load_state_dict(q_state_dict)\n",
    "\n",
    "        model.qparams = qparams\n",
    "\n",
    "        return model\n",
    "\n",
    "model_ste = QuantizeSTE(pretrained_state_dict=None)\n",
    "optimizer_ste = optim.Adam(model_ste.parameters(), lr=1e-3)\n",
    "criterion_ste = nn.CrossEntropyLoss()\n",
    "model_ste.compile(optimizer_ste, criterion_ste)\n",
    "\n",
    "model_ste.fit(train_loader, epochs=5)"
   ]
  },
  {
   "cell_type": "code",
   "execution_count": 587,
   "id": "b88aeb16",
   "metadata": {},
   "outputs": [
    {
     "name": "stdout",
     "output_type": "stream",
     "text": [
      "Test accuracy: 0.9732\n"
     ]
    }
   ],
   "source": [
    "acc = model_ste.evaluate(test_loader)\n",
    "print(f\"Test accuracy: {acc}\")"
   ]
  },
  {
   "cell_type": "code",
   "execution_count": 598,
   "id": "121ea5f8",
   "metadata": {},
   "outputs": [
    {
     "name": "stdout",
     "output_type": "stream",
     "text": [
      "Original STE accuracy: 0.9732\n",
      "Quantized STE accuracy: 0.973\n"
     ]
    }
   ],
   "source": [
    "\n",
    "model_quantize = model_ste.quantize_model_STE()\n",
    "\n",
    "model_dequantize = dequantize_model_STE(model_quantize)\n",
    "print(\"Original STE accuracy:\", model_ste.evaluate(test_loader))\n",
    "print(\"Quantized STE accuracy:\", model_dequantize.evaluate(test_loader))"
   ]
  },
  {
   "cell_type": "markdown",
   "id": "17da0ecd",
   "metadata": {},
   "source": [
    "Et la ca fonctionne on a bien un model qui lorsqu'il est quantifier puis dequantifier retrouve des performances proches de l'original !!!\n",
    "\n",
    "On peut tenter de les sauvegarder pour voir la place que l'on gagne en theorie x4. Attention pour des raisons de tensorflow on a encore des float32 dans les fichiers."
   ]
  },
  {
   "cell_type": "code",
   "execution_count": 606,
   "id": "55e7c12c",
   "metadata": {},
   "outputs": [],
   "source": [
    "q_state_dict, qparams = model_ste.quantize_state_dict()"
   ]
  },
  {
   "cell_type": "code",
   "execution_count": 609,
   "id": "faf0e785",
   "metadata": {},
   "outputs": [
    {
     "name": "stdout",
     "output_type": "stream",
     "text": [
      "Size of quantized model: 109.97 KB\n",
      "Size of dequantized model: 430.37 KB\n"
     ]
    }
   ],
   "source": [
    "save_quantized_model(model_ste, \"quantized_model_ste.pth\")\n",
    "torch.save({'state_dict': model_ste.state_dict()}, \"dequantized_model_ste.pth\")\n",
    "\n",
    "import os\n",
    "size_quantized = os.path.getsize(\"quantized_model_ste.pth\")\n",
    "size_dequantized = os.path.getsize(\"dequantized_model_ste.pth\")\n",
    "print(f\"Size of quantized model: {size_quantized / 1024:.2f} KB\")\n",
    "print(f\"Size of dequantized model: {size_dequantized / 1024:.2f} KB\")"
   ]
  },
  {
   "cell_type": "code",
   "execution_count": 611,
   "id": "81700af3",
   "metadata": {},
   "outputs": [
    {
     "name": "stdout",
     "output_type": "stream",
     "text": [
      "Loaded quantized model accuracy: 0.973\n"
     ]
    }
   ],
   "source": [
    "model_loaded = load_quantized_model(\"quantized_model_ste.pth\", bits=8)\n",
    "dequantized_model = dequantize_model_STE(model_loaded) # not perfect \n",
    "print(\"Loaded quantized model accuracy:\", dequantized_model.evaluate(test_loader))"
   ]
  },
  {
   "cell_type": "markdown",
   "id": "a944581a",
   "metadata": {},
   "source": [
    "Normal que les performances ne soient pas mieux qu'avec le modele de base car le model fonctionne avec des float32 qui peuvent etre convertis en "
   ]
  },
  {
   "cell_type": "code",
   "execution_count": 667,
   "id": "5ba51ab9",
   "metadata": {},
   "outputs": [
    {
     "name": "stderr",
     "output_type": "stream",
     "text": [
      "/tmp/ipykernel_12252/1188474859.py:26: DeprecationWarning: torch.ao.quantization is deprecated and will be removed in 2.10. \n",
      "For migrations of users: \n",
      "1. Eager mode quantization (torch.ao.quantization.quantize, torch.ao.quantization.quantize_dynamic), please migrate to use torchao eager mode quantize_ API instead \n",
      "2. FX graph mode quantization (torch.ao.quantization.quantize_fx.prepare_fx,torch.ao.quantization.quantize_fx.convert_fx, please migrate to use torchao pt2e quantization API instead (prepare_pt2e, convert_pt2e) \n",
      "3. pt2e quantization has been migrated to torchao (https://github.com/pytorch/ao/tree/main/torchao/quantization/pt2e) \n",
      "see https://github.com/pytorch/ao/issues/2259 for more details\n",
      "  prepare_qat(qat_model, inplace=True)  # insère fake-quant / observers\n"
     ]
    },
    {
     "name": "stdout",
     "output_type": "stream",
     "text": [
      "Epoch 1/1, Loss: 1.0723\n",
      "Epoch 1/1, Loss: 0.3569\n",
      "Epoch 1/1, Loss: 0.2871\n",
      "Epoch 1/1, Loss: 0.2532\n",
      "Epoch 1/1, Loss: 0.2282\n",
      "Epoch 1/1, Loss: 0.2078\n",
      "Epoch 1/1, Loss: 0.1903\n",
      "Epoch 1/1, Loss: 0.1754\n",
      "Epoch 1/1, Loss: 0.1630\n",
      "Epoch 1/1, Loss: 0.1519\n"
     ]
    },
    {
     "name": "stderr",
     "output_type": "stream",
     "text": [
      "/tmp/ipykernel_12252/1188474859.py:41: DeprecationWarning: torch.ao.quantization is deprecated and will be removed in 2.10. \n",
      "For migrations of users: \n",
      "1. Eager mode quantization (torch.ao.quantization.quantize, torch.ao.quantization.quantize_dynamic), please migrate to use torchao eager mode quantize_ API instead \n",
      "2. FX graph mode quantization (torch.ao.quantization.quantize_fx.prepare_fx,torch.ao.quantization.quantize_fx.convert_fx, please migrate to use torchao pt2e quantization API instead (prepare_pt2e, convert_pt2e) \n",
      "3. pt2e quantization has been migrated to torchao (https://github.com/pytorch/ao/tree/main/torchao/quantization/pt2e) \n",
      "see https://github.com/pytorch/ao/issues/2259 for more details\n",
      "  quantized_model = convert(qat_model, inplace=False)  # retourne une copie quantized\n"
     ]
    },
    {
     "ename": "NotImplementedError",
     "evalue": "Could not run 'quantized::linear_relu' with arguments from the 'CPU' backend. This could be because the operator doesn't exist for this backend, or was omitted during the selective/custom build process (if using custom build). If you are a Facebook employee using PyTorch on mobile, please visit https://fburl.com/ptmfixes for possible resolutions. 'quantized::linear_relu' is only available for these backends: [Meta, QuantizedCPU, QuantizedCUDA, BackendSelect, Python, FuncTorchDynamicLayerBackMode, Functionalize, Named, Conjugate, Negative, ZeroTensor, ADInplaceOrView, AutogradOther, AutogradCPU, AutogradCUDA, AutogradXLA, AutogradMPS, AutogradXPU, AutogradHPU, AutogradLazy, AutogradMTIA, AutogradMAIA, AutogradMeta, Tracer, AutocastCPU, AutocastMTIA, AutocastMAIA, AutocastXPU, AutocastMPS, AutocastCUDA, FuncTorchBatched, BatchedNestedTensor, FuncTorchVmapMode, Batched, VmapMode, FuncTorchGradWrapper, PythonTLSSnapshot, FuncTorchDynamicLayerFrontMode, PreDispatch, PythonDispatcher].\n\nMeta: registered at /pytorch/aten/src/ATen/core/MetaFallbackKernel.cpp:23 [backend fallback]\nQuantizedCPU: registered at /pytorch/aten/src/ATen/native/quantized/cpu/qlinear.cpp:1603 [kernel]\nQuantizedCUDA: registered at /pytorch/aten/src/ATen/native/quantized/cudnn/Linear.cpp:359 [kernel]\nBackendSelect: fallthrough registered at /pytorch/aten/src/ATen/core/BackendSelectFallbackKernel.cpp:3 [backend fallback]\nPython: registered at /pytorch/aten/src/ATen/core/PythonFallbackKernel.cpp:194 [backend fallback]\nFuncTorchDynamicLayerBackMode: registered at /pytorch/aten/src/ATen/functorch/DynamicLayer.cpp:479 [backend fallback]\nFunctionalize: registered at /pytorch/aten/src/ATen/FunctionalizeFallbackKernel.cpp:387 [backend fallback]\nNamed: registered at /pytorch/aten/src/ATen/core/NamedRegistrations.cpp:7 [backend fallback]\nConjugate: registered at /pytorch/aten/src/ATen/ConjugateFallback.cpp:17 [backend fallback]\nNegative: registered at /pytorch/aten/src/ATen/native/NegateFallback.cpp:18 [backend fallback]\nZeroTensor: registered at /pytorch/aten/src/ATen/ZeroTensorFallback.cpp:115 [backend fallback]\nADInplaceOrView: fallthrough registered at /pytorch/aten/src/ATen/core/VariableFallbackKernel.cpp:104 [backend fallback]\nAutogradOther: registered at /pytorch/aten/src/ATen/core/VariableFallbackKernel.cpp:63 [backend fallback]\nAutogradCPU: registered at /pytorch/aten/src/ATen/core/VariableFallbackKernel.cpp:67 [backend fallback]\nAutogradCUDA: registered at /pytorch/aten/src/ATen/core/VariableFallbackKernel.cpp:75 [backend fallback]\nAutogradXLA: registered at /pytorch/aten/src/ATen/core/VariableFallbackKernel.cpp:87 [backend fallback]\nAutogradMPS: registered at /pytorch/aten/src/ATen/core/VariableFallbackKernel.cpp:95 [backend fallback]\nAutogradXPU: registered at /pytorch/aten/src/ATen/core/VariableFallbackKernel.cpp:71 [backend fallback]\nAutogradHPU: registered at /pytorch/aten/src/ATen/core/VariableFallbackKernel.cpp:108 [backend fallback]\nAutogradLazy: registered at /pytorch/aten/src/ATen/core/VariableFallbackKernel.cpp:91 [backend fallback]\nAutogradMTIA: registered at /pytorch/aten/src/ATen/core/VariableFallbackKernel.cpp:79 [backend fallback]\nAutogradMAIA: registered at /pytorch/aten/src/ATen/core/VariableFallbackKernel.cpp:83 [backend fallback]\nAutogradMeta: registered at /pytorch/aten/src/ATen/core/VariableFallbackKernel.cpp:99 [backend fallback]\nTracer: registered at /pytorch/torch/csrc/autograd/TraceTypeManual.cpp:294 [backend fallback]\nAutocastCPU: fallthrough registered at /pytorch/aten/src/ATen/autocast_mode.cpp:324 [backend fallback]\nAutocastMTIA: fallthrough registered at /pytorch/aten/src/ATen/autocast_mode.cpp:468 [backend fallback]\nAutocastMAIA: fallthrough registered at /pytorch/aten/src/ATen/autocast_mode.cpp:506 [backend fallback]\nAutocastXPU: fallthrough registered at /pytorch/aten/src/ATen/autocast_mode.cpp:544 [backend fallback]\nAutocastMPS: fallthrough registered at /pytorch/aten/src/ATen/autocast_mode.cpp:209 [backend fallback]\nAutocastCUDA: fallthrough registered at /pytorch/aten/src/ATen/autocast_mode.cpp:165 [backend fallback]\nFuncTorchBatched: registered at /pytorch/aten/src/ATen/functorch/LegacyBatchingRegistrations.cpp:731 [backend fallback]\nBatchedNestedTensor: registered at /pytorch/aten/src/ATen/functorch/LegacyBatchingRegistrations.cpp:758 [backend fallback]\nFuncTorchVmapMode: fallthrough registered at /pytorch/aten/src/ATen/functorch/VmapModeRegistrations.cpp:27 [backend fallback]\nBatched: registered at /pytorch/aten/src/ATen/LegacyBatchingRegistrations.cpp:1075 [backend fallback]\nVmapMode: fallthrough registered at /pytorch/aten/src/ATen/VmapModeRegistrations.cpp:33 [backend fallback]\nFuncTorchGradWrapper: registered at /pytorch/aten/src/ATen/functorch/TensorWrapper.cpp:210 [backend fallback]\nPythonTLSSnapshot: registered at /pytorch/aten/src/ATen/core/PythonFallbackKernel.cpp:202 [backend fallback]\nFuncTorchDynamicLayerFrontMode: registered at /pytorch/aten/src/ATen/functorch/DynamicLayer.cpp:475 [backend fallback]\nPreDispatch: registered at /pytorch/aten/src/ATen/core/PythonFallbackKernel.cpp:206 [backend fallback]\nPythonDispatcher: registered at /pytorch/aten/src/ATen/core/PythonFallbackKernel.cpp:198 [backend fallback]\n",
     "output_type": "error",
     "traceback": [
      "\u001b[31m---------------------------------------------------------------------------\u001b[39m",
      "\u001b[31mNotImplementedError\u001b[39m                       Traceback (most recent call last)",
      "\u001b[36mCell\u001b[39m\u001b[36m \u001b[39m\u001b[32mIn[667]\u001b[39m\u001b[32m, line 46\u001b[39m\n\u001b[32m     44\u001b[39m quantized_model.eval()\n\u001b[32m     45\u001b[39m \u001b[38;5;28;01mwith\u001b[39;00m torch.no_grad():\n\u001b[32m---> \u001b[39m\u001b[32m46\u001b[39m     acc_q = \u001b[43mquantized_model\u001b[49m\u001b[43m.\u001b[49m\u001b[43mevaluate\u001b[49m\u001b[43m(\u001b[49m\u001b[43mtest_loader\u001b[49m\u001b[43m)\u001b[49m\n\u001b[32m     47\u001b[39m     \u001b[38;5;28mprint\u001b[39m(\u001b[33m\"\u001b[39m\u001b[33mQuantized model accuracy:\u001b[39m\u001b[33m\"\u001b[39m, acc_q)\n\u001b[32m     49\u001b[39m \u001b[38;5;66;03m# Tu peux aussi mesurer la différence logits / outputs float vs quant pour debug\u001b[39;00m\n\u001b[32m     50\u001b[39m \u001b[38;5;66;03m# --- Export: TorchScript + optimize for mobile ---\u001b[39;00m\n",
      "\u001b[36mCell\u001b[39m\u001b[36m \u001b[39m\u001b[32mIn[663]\u001b[39m\u001b[32m, line 41\u001b[39m, in \u001b[36mSimpleMLP.evaluate\u001b[39m\u001b[34m(self, test_loader)\u001b[39m\n\u001b[32m     39\u001b[39m \u001b[38;5;28;01mwith\u001b[39;00m torch.no_grad():\n\u001b[32m     40\u001b[39m     \u001b[38;5;28;01mfor\u001b[39;00m data, target \u001b[38;5;129;01min\u001b[39;00m test_loader:\n\u001b[32m---> \u001b[39m\u001b[32m41\u001b[39m         output = \u001b[38;5;28;43mself\u001b[39;49m\u001b[43m(\u001b[49m\u001b[43mdata\u001b[49m\u001b[43m)\u001b[49m\n\u001b[32m     42\u001b[39m         _, predicted = torch.max(output.data, \u001b[32m1\u001b[39m)\n\u001b[32m     43\u001b[39m         correct += (predicted == target).sum().item()\n",
      "\u001b[36mFile \u001b[39m\u001b[32m~/Documents/mlops/introduction_a_la_quantization/.venv/lib/python3.12/site-packages/torch/nn/modules/module.py:1775\u001b[39m, in \u001b[36mModule._wrapped_call_impl\u001b[39m\u001b[34m(self, *args, **kwargs)\u001b[39m\n\u001b[32m   1773\u001b[39m     \u001b[38;5;28;01mreturn\u001b[39;00m \u001b[38;5;28mself\u001b[39m._compiled_call_impl(*args, **kwargs)  \u001b[38;5;66;03m# type: ignore[misc]\u001b[39;00m\n\u001b[32m   1774\u001b[39m \u001b[38;5;28;01melse\u001b[39;00m:\n\u001b[32m-> \u001b[39m\u001b[32m1775\u001b[39m     \u001b[38;5;28;01mreturn\u001b[39;00m \u001b[38;5;28;43mself\u001b[39;49m\u001b[43m.\u001b[49m\u001b[43m_call_impl\u001b[49m\u001b[43m(\u001b[49m\u001b[43m*\u001b[49m\u001b[43margs\u001b[49m\u001b[43m,\u001b[49m\u001b[43m \u001b[49m\u001b[43m*\u001b[49m\u001b[43m*\u001b[49m\u001b[43mkwargs\u001b[49m\u001b[43m)\u001b[49m\n",
      "\u001b[36mFile \u001b[39m\u001b[32m~/Documents/mlops/introduction_a_la_quantization/.venv/lib/python3.12/site-packages/torch/nn/modules/module.py:1786\u001b[39m, in \u001b[36mModule._call_impl\u001b[39m\u001b[34m(self, *args, **kwargs)\u001b[39m\n\u001b[32m   1781\u001b[39m \u001b[38;5;66;03m# If we don't have any hooks, we want to skip the rest of the logic in\u001b[39;00m\n\u001b[32m   1782\u001b[39m \u001b[38;5;66;03m# this function, and just call forward.\u001b[39;00m\n\u001b[32m   1783\u001b[39m \u001b[38;5;28;01mif\u001b[39;00m \u001b[38;5;129;01mnot\u001b[39;00m (\u001b[38;5;28mself\u001b[39m._backward_hooks \u001b[38;5;129;01mor\u001b[39;00m \u001b[38;5;28mself\u001b[39m._backward_pre_hooks \u001b[38;5;129;01mor\u001b[39;00m \u001b[38;5;28mself\u001b[39m._forward_hooks \u001b[38;5;129;01mor\u001b[39;00m \u001b[38;5;28mself\u001b[39m._forward_pre_hooks\n\u001b[32m   1784\u001b[39m         \u001b[38;5;129;01mor\u001b[39;00m _global_backward_pre_hooks \u001b[38;5;129;01mor\u001b[39;00m _global_backward_hooks\n\u001b[32m   1785\u001b[39m         \u001b[38;5;129;01mor\u001b[39;00m _global_forward_hooks \u001b[38;5;129;01mor\u001b[39;00m _global_forward_pre_hooks):\n\u001b[32m-> \u001b[39m\u001b[32m1786\u001b[39m     \u001b[38;5;28;01mreturn\u001b[39;00m \u001b[43mforward_call\u001b[49m\u001b[43m(\u001b[49m\u001b[43m*\u001b[49m\u001b[43margs\u001b[49m\u001b[43m,\u001b[49m\u001b[43m \u001b[49m\u001b[43m*\u001b[49m\u001b[43m*\u001b[49m\u001b[43mkwargs\u001b[49m\u001b[43m)\u001b[49m\n\u001b[32m   1788\u001b[39m result = \u001b[38;5;28;01mNone\u001b[39;00m\n\u001b[32m   1789\u001b[39m called_always_called_hooks = \u001b[38;5;28mset\u001b[39m()\n",
      "\u001b[36mCell\u001b[39m\u001b[36m \u001b[39m\u001b[32mIn[663]\u001b[39m\u001b[32m, line 12\u001b[39m, in \u001b[36mSimpleMLP.forward\u001b[39m\u001b[34m(self, x)\u001b[39m\n\u001b[32m     10\u001b[39m \u001b[38;5;28;01mdef\u001b[39;00m\u001b[38;5;250m \u001b[39m\u001b[34mforward\u001b[39m(\u001b[38;5;28mself\u001b[39m, x):\n\u001b[32m     11\u001b[39m     x = x.view(-\u001b[32m1\u001b[39m, \u001b[32m28\u001b[39m*\u001b[32m28\u001b[39m)\n\u001b[32m---> \u001b[39m\u001b[32m12\u001b[39m     x = \u001b[38;5;28mself\u001b[39m.relu1(\u001b[38;5;28;43mself\u001b[39;49m\u001b[43m.\u001b[49m\u001b[43mfc1\u001b[49m\u001b[43m(\u001b[49m\u001b[43mx\u001b[49m\u001b[43m)\u001b[49m)\n\u001b[32m     13\u001b[39m     x = \u001b[38;5;28mself\u001b[39m.relu2(\u001b[38;5;28mself\u001b[39m.fc2(x))\n\u001b[32m     14\u001b[39m     x = \u001b[38;5;28mself\u001b[39m.fc3(x)\n",
      "\u001b[36mFile \u001b[39m\u001b[32m~/Documents/mlops/introduction_a_la_quantization/.venv/lib/python3.12/site-packages/torch/nn/modules/module.py:1775\u001b[39m, in \u001b[36mModule._wrapped_call_impl\u001b[39m\u001b[34m(self, *args, **kwargs)\u001b[39m\n\u001b[32m   1773\u001b[39m     \u001b[38;5;28;01mreturn\u001b[39;00m \u001b[38;5;28mself\u001b[39m._compiled_call_impl(*args, **kwargs)  \u001b[38;5;66;03m# type: ignore[misc]\u001b[39;00m\n\u001b[32m   1774\u001b[39m \u001b[38;5;28;01melse\u001b[39;00m:\n\u001b[32m-> \u001b[39m\u001b[32m1775\u001b[39m     \u001b[38;5;28;01mreturn\u001b[39;00m \u001b[38;5;28;43mself\u001b[39;49m\u001b[43m.\u001b[49m\u001b[43m_call_impl\u001b[49m\u001b[43m(\u001b[49m\u001b[43m*\u001b[49m\u001b[43margs\u001b[49m\u001b[43m,\u001b[49m\u001b[43m \u001b[49m\u001b[43m*\u001b[49m\u001b[43m*\u001b[49m\u001b[43mkwargs\u001b[49m\u001b[43m)\u001b[49m\n",
      "\u001b[36mFile \u001b[39m\u001b[32m~/Documents/mlops/introduction_a_la_quantization/.venv/lib/python3.12/site-packages/torch/nn/modules/module.py:1786\u001b[39m, in \u001b[36mModule._call_impl\u001b[39m\u001b[34m(self, *args, **kwargs)\u001b[39m\n\u001b[32m   1781\u001b[39m \u001b[38;5;66;03m# If we don't have any hooks, we want to skip the rest of the logic in\u001b[39;00m\n\u001b[32m   1782\u001b[39m \u001b[38;5;66;03m# this function, and just call forward.\u001b[39;00m\n\u001b[32m   1783\u001b[39m \u001b[38;5;28;01mif\u001b[39;00m \u001b[38;5;129;01mnot\u001b[39;00m (\u001b[38;5;28mself\u001b[39m._backward_hooks \u001b[38;5;129;01mor\u001b[39;00m \u001b[38;5;28mself\u001b[39m._backward_pre_hooks \u001b[38;5;129;01mor\u001b[39;00m \u001b[38;5;28mself\u001b[39m._forward_hooks \u001b[38;5;129;01mor\u001b[39;00m \u001b[38;5;28mself\u001b[39m._forward_pre_hooks\n\u001b[32m   1784\u001b[39m         \u001b[38;5;129;01mor\u001b[39;00m _global_backward_pre_hooks \u001b[38;5;129;01mor\u001b[39;00m _global_backward_hooks\n\u001b[32m   1785\u001b[39m         \u001b[38;5;129;01mor\u001b[39;00m _global_forward_hooks \u001b[38;5;129;01mor\u001b[39;00m _global_forward_pre_hooks):\n\u001b[32m-> \u001b[39m\u001b[32m1786\u001b[39m     \u001b[38;5;28;01mreturn\u001b[39;00m \u001b[43mforward_call\u001b[49m\u001b[43m(\u001b[49m\u001b[43m*\u001b[49m\u001b[43margs\u001b[49m\u001b[43m,\u001b[49m\u001b[43m \u001b[49m\u001b[43m*\u001b[49m\u001b[43m*\u001b[49m\u001b[43mkwargs\u001b[49m\u001b[43m)\u001b[49m\n\u001b[32m   1788\u001b[39m result = \u001b[38;5;28;01mNone\u001b[39;00m\n\u001b[32m   1789\u001b[39m called_always_called_hooks = \u001b[38;5;28mset\u001b[39m()\n",
      "\u001b[36mFile \u001b[39m\u001b[32m~/Documents/mlops/introduction_a_la_quantization/.venv/lib/python3.12/site-packages/torch/ao/nn/intrinsic/quantized/modules/linear_relu.py:40\u001b[39m, in \u001b[36mLinearReLU.forward\u001b[39m\u001b[34m(self, x)\u001b[39m\n\u001b[32m     39\u001b[39m \u001b[38;5;28;01mdef\u001b[39;00m\u001b[38;5;250m \u001b[39m\u001b[34mforward\u001b[39m(\u001b[38;5;28mself\u001b[39m, x: torch.Tensor) -> torch.Tensor:\n\u001b[32m---> \u001b[39m\u001b[32m40\u001b[39m     \u001b[38;5;28;01mreturn\u001b[39;00m \u001b[43mtorch\u001b[49m\u001b[43m.\u001b[49m\u001b[43mops\u001b[49m\u001b[43m.\u001b[49m\u001b[43mquantized\u001b[49m\u001b[43m.\u001b[49m\u001b[43mlinear_relu\u001b[49m\u001b[43m(\u001b[49m\n\u001b[32m     41\u001b[39m \u001b[43m        \u001b[49m\u001b[43mx\u001b[49m\u001b[43m,\u001b[49m\u001b[43m \u001b[49m\u001b[38;5;28;43mself\u001b[39;49m\u001b[43m.\u001b[49m\u001b[43m_packed_params\u001b[49m\u001b[43m.\u001b[49m\u001b[43m_packed_params\u001b[49m\u001b[43m,\u001b[49m\u001b[43m \u001b[49m\u001b[38;5;28;43mself\u001b[39;49m\u001b[43m.\u001b[49m\u001b[43mscale\u001b[49m\u001b[43m,\u001b[49m\u001b[43m \u001b[49m\u001b[38;5;28;43mself\u001b[39;49m\u001b[43m.\u001b[49m\u001b[43mzero_point\u001b[49m\n\u001b[32m     42\u001b[39m \u001b[43m    \u001b[49m\u001b[43m)\u001b[49m\n",
      "\u001b[36mFile \u001b[39m\u001b[32m~/Documents/mlops/introduction_a_la_quantization/.venv/lib/python3.12/site-packages/torch/_ops.py:1255\u001b[39m, in \u001b[36mOpOverloadPacket.__call__\u001b[39m\u001b[34m(self, *args, **kwargs)\u001b[39m\n\u001b[32m   1253\u001b[39m \u001b[38;5;28;01mif\u001b[39;00m \u001b[38;5;28mself\u001b[39m._has_torchbind_op_overload \u001b[38;5;129;01mand\u001b[39;00m _must_dispatch_in_python(args, kwargs):\n\u001b[32m   1254\u001b[39m     \u001b[38;5;28;01mreturn\u001b[39;00m _call_overload_packet_from_python(\u001b[38;5;28mself\u001b[39m, *args, **kwargs)\n\u001b[32m-> \u001b[39m\u001b[32m1255\u001b[39m \u001b[38;5;28;01mreturn\u001b[39;00m \u001b[38;5;28;43mself\u001b[39;49m\u001b[43m.\u001b[49m\u001b[43m_op\u001b[49m\u001b[43m(\u001b[49m\u001b[43m*\u001b[49m\u001b[43margs\u001b[49m\u001b[43m,\u001b[49m\u001b[43m \u001b[49m\u001b[43m*\u001b[49m\u001b[43m*\u001b[49m\u001b[43mkwargs\u001b[49m\u001b[43m)\u001b[49m\n",
      "\u001b[31mNotImplementedError\u001b[39m: Could not run 'quantized::linear_relu' with arguments from the 'CPU' backend. This could be because the operator doesn't exist for this backend, or was omitted during the selective/custom build process (if using custom build). If you are a Facebook employee using PyTorch on mobile, please visit https://fburl.com/ptmfixes for possible resolutions. 'quantized::linear_relu' is only available for these backends: [Meta, QuantizedCPU, QuantizedCUDA, BackendSelect, Python, FuncTorchDynamicLayerBackMode, Functionalize, Named, Conjugate, Negative, ZeroTensor, ADInplaceOrView, AutogradOther, AutogradCPU, AutogradCUDA, AutogradXLA, AutogradMPS, AutogradXPU, AutogradHPU, AutogradLazy, AutogradMTIA, AutogradMAIA, AutogradMeta, Tracer, AutocastCPU, AutocastMTIA, AutocastMAIA, AutocastXPU, AutocastMPS, AutocastCUDA, FuncTorchBatched, BatchedNestedTensor, FuncTorchVmapMode, Batched, VmapMode, FuncTorchGradWrapper, PythonTLSSnapshot, FuncTorchDynamicLayerFrontMode, PreDispatch, PythonDispatcher].\n\nMeta: registered at /pytorch/aten/src/ATen/core/MetaFallbackKernel.cpp:23 [backend fallback]\nQuantizedCPU: registered at /pytorch/aten/src/ATen/native/quantized/cpu/qlinear.cpp:1603 [kernel]\nQuantizedCUDA: registered at /pytorch/aten/src/ATen/native/quantized/cudnn/Linear.cpp:359 [kernel]\nBackendSelect: fallthrough registered at /pytorch/aten/src/ATen/core/BackendSelectFallbackKernel.cpp:3 [backend fallback]\nPython: registered at /pytorch/aten/src/ATen/core/PythonFallbackKernel.cpp:194 [backend fallback]\nFuncTorchDynamicLayerBackMode: registered at /pytorch/aten/src/ATen/functorch/DynamicLayer.cpp:479 [backend fallback]\nFunctionalize: registered at /pytorch/aten/src/ATen/FunctionalizeFallbackKernel.cpp:387 [backend fallback]\nNamed: registered at /pytorch/aten/src/ATen/core/NamedRegistrations.cpp:7 [backend fallback]\nConjugate: registered at /pytorch/aten/src/ATen/ConjugateFallback.cpp:17 [backend fallback]\nNegative: registered at /pytorch/aten/src/ATen/native/NegateFallback.cpp:18 [backend fallback]\nZeroTensor: registered at /pytorch/aten/src/ATen/ZeroTensorFallback.cpp:115 [backend fallback]\nADInplaceOrView: fallthrough registered at /pytorch/aten/src/ATen/core/VariableFallbackKernel.cpp:104 [backend fallback]\nAutogradOther: registered at /pytorch/aten/src/ATen/core/VariableFallbackKernel.cpp:63 [backend fallback]\nAutogradCPU: registered at /pytorch/aten/src/ATen/core/VariableFallbackKernel.cpp:67 [backend fallback]\nAutogradCUDA: registered at /pytorch/aten/src/ATen/core/VariableFallbackKernel.cpp:75 [backend fallback]\nAutogradXLA: registered at /pytorch/aten/src/ATen/core/VariableFallbackKernel.cpp:87 [backend fallback]\nAutogradMPS: registered at /pytorch/aten/src/ATen/core/VariableFallbackKernel.cpp:95 [backend fallback]\nAutogradXPU: registered at /pytorch/aten/src/ATen/core/VariableFallbackKernel.cpp:71 [backend fallback]\nAutogradHPU: registered at /pytorch/aten/src/ATen/core/VariableFallbackKernel.cpp:108 [backend fallback]\nAutogradLazy: registered at /pytorch/aten/src/ATen/core/VariableFallbackKernel.cpp:91 [backend fallback]\nAutogradMTIA: registered at /pytorch/aten/src/ATen/core/VariableFallbackKernel.cpp:79 [backend fallback]\nAutogradMAIA: registered at /pytorch/aten/src/ATen/core/VariableFallbackKernel.cpp:83 [backend fallback]\nAutogradMeta: registered at /pytorch/aten/src/ATen/core/VariableFallbackKernel.cpp:99 [backend fallback]\nTracer: registered at /pytorch/torch/csrc/autograd/TraceTypeManual.cpp:294 [backend fallback]\nAutocastCPU: fallthrough registered at /pytorch/aten/src/ATen/autocast_mode.cpp:324 [backend fallback]\nAutocastMTIA: fallthrough registered at /pytorch/aten/src/ATen/autocast_mode.cpp:468 [backend fallback]\nAutocastMAIA: fallthrough registered at /pytorch/aten/src/ATen/autocast_mode.cpp:506 [backend fallback]\nAutocastXPU: fallthrough registered at /pytorch/aten/src/ATen/autocast_mode.cpp:544 [backend fallback]\nAutocastMPS: fallthrough registered at /pytorch/aten/src/ATen/autocast_mode.cpp:209 [backend fallback]\nAutocastCUDA: fallthrough registered at /pytorch/aten/src/ATen/autocast_mode.cpp:165 [backend fallback]\nFuncTorchBatched: registered at /pytorch/aten/src/ATen/functorch/LegacyBatchingRegistrations.cpp:731 [backend fallback]\nBatchedNestedTensor: registered at /pytorch/aten/src/ATen/functorch/LegacyBatchingRegistrations.cpp:758 [backend fallback]\nFuncTorchVmapMode: fallthrough registered at /pytorch/aten/src/ATen/functorch/VmapModeRegistrations.cpp:27 [backend fallback]\nBatched: registered at /pytorch/aten/src/ATen/LegacyBatchingRegistrations.cpp:1075 [backend fallback]\nVmapMode: fallthrough registered at /pytorch/aten/src/ATen/VmapModeRegistrations.cpp:33 [backend fallback]\nFuncTorchGradWrapper: registered at /pytorch/aten/src/ATen/functorch/TensorWrapper.cpp:210 [backend fallback]\nPythonTLSSnapshot: registered at /pytorch/aten/src/ATen/core/PythonFallbackKernel.cpp:202 [backend fallback]\nFuncTorchDynamicLayerFrontMode: registered at /pytorch/aten/src/ATen/functorch/DynamicLayer.cpp:475 [backend fallback]\nPreDispatch: registered at /pytorch/aten/src/ATen/core/PythonFallbackKernel.cpp:206 [backend fallback]\nPythonDispatcher: registered at /pytorch/aten/src/ATen/core/PythonFallbackKernel.cpp:198 [backend fallback]\n"
     ]
    }
   ],
   "source": [
    "from torch.ao.quantization import (get_default_qat_qconfig,\n",
    "                                  prepare_qat,\n",
    "                                  convert,\n",
    "                                  fuse_modules)\n",
    "\n",
    "\n",
    "# --- Setup ---\n",
    "device = torch.device(\"cpu\")  # QAT training done on CPU/GPU as usual; conversion for backend qnnpack is CPU runtime\n",
    "torch.backends.quantized.engine = \"qnnpack\"  # pour ARM; sur x86 => \"fbgemm\"\n",
    "\n",
    "model = MLP()\n",
    "optimizer = optim.Adam(model.parameters(), lr=1e-4)  # lr plus petit pour QAT fine-tuning\n",
    "criterion = nn.CrossEntropyLoss()\n",
    "model.compile(optimizer, criterion)\n",
    "\n",
    "# --- Fusion (facultatif mais recommandé) ---\n",
    "# On fuse Linear + ReLU si possible (nommes comme ci-dessus)\n",
    "# pour un MLP on fuse ['fc1','relu1'] et ['fc2','relu2'] si nécessaire\n",
    "# attention: fuse_modules attend que les modules existent au même niveau.\n",
    "fused_model = copy.deepcopy(model)\n",
    "fuse_modules(fused_model, [['fc1', 'relu1'], ['fc2', 'relu2']], inplace=True)\n",
    "\n",
    "# --- QAT preparation ---\n",
    "qat_model = fused_model\n",
    "qat_model.qconfig = get_default_qat_qconfig(\"qnnpack\")\n",
    "prepare_qat(qat_model, inplace=True)  # insère fake-quant / observers\n",
    "\n",
    "# --- QAT training / fine-tune ---\n",
    "# Important: pour QAT, lr réduit, momentum/weight decay adaptés. 5-20 epochs typiquement.\n",
    "n_epochs_qat = 10\n",
    "for epoch in range(n_epochs_qat):\n",
    "    avg_loss = qat_model.fit(train_loader)  # utilise la méthode fit_epoch définie\n",
    "    acc = qat_model.evaluate(test_loader)\n",
    "\n",
    "# Optionnel : \"freeze\" observers avant conversion (réduit variance)\n",
    "# torch.ao.quantization.disable_observer(qat_model)\n",
    "# torch.ao.quantization.freeze_bn_stats(qat_model)  # si batchnorm present\n",
    "\n",
    "# --- Convert to quantized model (int8 modules) ---\n",
    "qat_model.eval()\n",
    "quantized_model = convert(qat_model, inplace=False)  # retourne une copie quantized\n",
    "\n",
    "# --- Test / comparer performances (accuracy) ---\n",
    "quantized_model.eval()\n",
    "with torch.no_grad():\n",
    "    acc_q = quantized_model.evaluate(test_loader)\n",
    "    print(\"Quantized model accuracy:\", acc_q)\n",
    "\n",
    "# Tu peux aussi mesurer la différence logits / outputs float vs quant pour debug\n",
    "# --- Export: TorchScript + optimize for mobile ---\n",
    "scripted = torch.jit.script(quantized_model)\n",
    "# Optionnel: optimiser pour mobile\n",
    "try:\n",
    "    from torch.utils.mobile_optimizer import optimize_for_mobile\n",
    "    scripted_optimized = optimize_for_mobile(scripted)\n",
    "    scripted_optimized.save(\"mlp_qat_int8_mobile.pt\")\n",
    "    print(\"Saved optimized mobile scripted quantized model -> mlp_qat_int8_mobile.pt\")\n",
    "except Exception as e:\n",
    "    # si mobile optimizer non disponible, sauvegarde le scripted normal\n",
    "    scripted.save(\"mlp_qat_int8.pt\")\n",
    "    print(\"Saved scripted quantized model -> mlp_qat_int8.pt (optimize_for_mobile failed):\", e)\n"
   ]
  },
  {
   "cell_type": "code",
   "execution_count": null,
   "id": "d721b059",
   "metadata": {},
   "outputs": [],
   "source": []
  }
 ],
 "metadata": {
  "kernelspec": {
   "display_name": ".venv",
   "language": "python",
   "name": "python3"
  },
  "language_info": {
   "codemirror_mode": {
    "name": "ipython",
    "version": 3
   },
   "file_extension": ".py",
   "mimetype": "text/x-python",
   "name": "python",
   "nbconvert_exporter": "python",
   "pygments_lexer": "ipython3",
   "version": "3.12.3"
  }
 },
 "nbformat": 4,
 "nbformat_minor": 5
}
