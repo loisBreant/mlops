{
  "cells": [
    {
      "cell_type": "markdown",
      "metadata": {
        "id": "LA_QTG8vFs8E"
      },
      "source": [
        "## Modèle en production\n",
        "\n",
        "Laurent Cetinsoy - Datadidacte\n",
        "\n",
        "Une des supposition centrale pour qu'un modèle de machine learning marche est que la distribution des données ne diffère pas de celle des données d'entrainement.\n",
        "\n",
        "On ne peut garantir la généralisation d'un modèle que si la distribution des données est similaire à celle de la distribution $ X_{prod} \\tilde{} \\,  P_{train}$\n",
        "\n",
        "Ainsi, si les données que le modèle voient en production n'ont pas la même distribution (ne ressemblent pas) aux données de train, alors le modèle aura peu de chance de faire de bonne prédictions.\n",
        "\n",
        "Il est donc important de surveille les données vues par le modèle en production.\n",
        "\n",
        "Pour cela on va mesurer ce qu'on appelle le Data drift : on va mesurer à quel point les données s'écartent des données de train.\n",
        "\n",
        "Et on pourra ainsi lever une alerte si c'est le cas."
      ]
    },
    {
      "cell_type": "markdown",
      "metadata": {
        "id": "GEHFqy-yFs8K"
      },
      "source": [
        "## Utilisation Eurybia\n"
      ]
    },
    {
      "cell_type": "markdown",
      "metadata": {
        "id": "g7Cr8DVyFs8N"
      },
      "source": [
        "\n",
        "En consultant la documentation de Eurybia (https://eurybia.readthedocs.io/en/latest/overview.html), expliquer le principe de fonctionnement de Euribya :\n",
        "\n",
        "- A quoi sert le modèle de classification ?\n",
        "- A-t-on besoin d’avoir les labels issus de la production pour pouvoir utiliser cette approche ?\n",
        "- Quel est le critère pour déterminer qu’il y a un data-drift ?\n"
      ]
    },
    {
      "cell_type": "markdown",
      "metadata": {
        "id": "X2lpGujbFs8Q"
      },
      "source": [
        "- Ce modele de classification permet de predire si un element fait parti du dataset de training ou de production.\n",
        "- Non on a pas besoin des labels issus de la production\n",
        "- Si le modele fonctionne alors il y a un data-drift"
      ]
    },
    {
      "cell_type": "markdown",
      "metadata": {
        "id": "fAn3sAA7Fs8W"
      },
      "source": [
        "Installer eurybia"
      ]
    },
    {
      "cell_type": "markdown",
      "metadata": {
        "id": "S6qFJUvoFs8e"
      },
      "source": [
        "Utiliser eurybia pour monitorer la distribution des données. Dans un premier temps faire en sorte que les données de prod (df_current) soient de la même distribution que vos données d’entraînement. Pour cela vous pouvez split le dataset en deux et décider que l'un est X_train et l'autre est X_prod. Vérifier que Eurybia pense que le modèle ne drift pas. Attention à ne pas inclure le label (qui serait ici price)\n",
        "\n"
      ]
    },
    {
      "cell_type": "code",
      "execution_count": 82,
      "metadata": {
        "id": "_TjazQyrFs8i"
      },
      "outputs": [
        {
          "name": "stdout",
          "output_type": "stream",
          "text": [
            "INFO: Shap explainer type - <shap.explainers._tree.TreeExplainer object at 0x7e897060c850>\n"
          ]
        }
      ],
      "source": [
        "import pandas as pd\n",
        "from eurybia import SmartDrift\n",
        "from sklearn.model_selection import train_test_split\n",
        "df = pd.read_csv('houses.csv')\n",
        "X_train, X_prod = train_test_split(df, test_size=0.2, random_state=1)\n",
        "\n",
        "sd = SmartDrift(\n",
        "    df_current=X_train,\n",
        "    df_baseline=X_prod,\n",
        ")\n",
        "sd.compile()\n",
        "sd.generate_report(output_file=\"drift_report.html\")"
      ]
    },
    {
      "cell_type": "markdown",
      "metadata": {
        "id": "bpbUJGhzFs8m"
      },
      "source": [
        "Faire en sorte d'introduire un drift dans vos données. Par exemple (méthode assez bourine) ajouter +3 ou +4 à la colonne nb_rooms. Relancer eurybia et vérifier que la performance du modèle est bonne et qu'il y a donc un datadrift"
      ]
    },
    {
      "cell_type": "code",
      "execution_count": 83,
      "metadata": {
        "id": "6pyIJbu5Fs8n"
      },
      "outputs": [
        {
          "name": "stdout",
          "output_type": "stream",
          "text": [
            "INFO: Shap explainer type - <shap.explainers._tree.TreeExplainer object at 0x7e897060f1d0>\n"
          ]
        }
      ],
      "source": [
        "X_train_drifted = X_train.copy()\n",
        "X_train_drifted['nb_rooms'] = X_train_drifted['nb_rooms'] + 3\n",
        "sd = SmartDrift(\n",
        "    df_current=X_train_drifted,\n",
        "    df_baseline=X_prod,\n",
        ")\n",
        "sd.compile()\n",
        "sd.generate_report(output_file=\"drift_report.html\")"
      ]
    },
    {
      "cell_type": "markdown",
      "metadata": {
        "id": "Jjw1gk8D2BeS"
      },
      "source": [
        "Faire en sorte de faire un drift plus subtile mais remarquable. Est-il détectable avec Eurybia ?"
      ]
    },
    {
      "cell_type": "code",
      "execution_count": 84,
      "metadata": {
        "id": "Mpl-Zc4Y2BOj"
      },
      "outputs": [
        {
          "name": "stdout",
          "output_type": "stream",
          "text": [
            "INFO: Shap explainer type - <shap.explainers._tree.TreeExplainer object at 0x7e89ee46b0d0>\n"
          ]
        }
      ],
      "source": [
        "X_train_drifted_subtil = X_train.copy()\n",
        "X_train_drifted_subtil['size'] = X_train_drifted_subtil['size'] * 1.1\n",
        "sd = SmartDrift(\n",
        "    df_current=X_train_drifted_subtil,\n",
        "    df_baseline=X_prod,\n",
        ")\n",
        "sd.compile()\n",
        "sd.generate_report(output_file=\"drift_report.html\")"
      ]
    },
    {
      "cell_type": "markdown",
      "metadata": {},
      "source": [
        "Non il n'est pas detectable"
      ]
    },
    {
      "cell_type": "markdown",
      "metadata": {
        "id": "NYnareE4Fs8o"
      },
      "source": [
        "## Alibaba detect\n",
        "\n",
        "Dans cette partie on va utiliser la librairie https://github.com/SeldonIO/alibi-detect pour faire la détection de problèmes\n",
        "Installer la librairie avec pip"
      ]
    },
    {
      "cell_type": "markdown",
      "metadata": {
        "id": "bJvFD2xrFs8r"
      },
      "source": [
        "Charger le jeu de donnée cifar10 avec keras et récupérer le train et le test puis,\n",
        "\n",
        "Normaliser les données de train en faisant un MinMaxScaling (diviser par 255)"
      ]
    },
    {
      "cell_type": "code",
      "execution_count": 85,
      "metadata": {
        "id": "X90oWx5AFs8v"
      },
      "outputs": [],
      "source": [
        "import torch\n",
        "from torchvision import datasets, transforms\n",
        "\n",
        "cifar10_train = datasets.CIFAR10(root=\"./data/\", train=True, download=True)\n",
        "cifar10_test = datasets.CIFAR10(root=\"./data/\", train=False, download=True)"
      ]
    },
    {
      "cell_type": "markdown",
      "metadata": {
        "id": "45x7yftfFs8w"
      },
      "source": [
        "Dans le sous package alibbi_detect.datasets importer les  fonction fetch_cifar10c et corruption_types_cifar10c"
      ]
    },
    {
      "cell_type": "code",
      "execution_count": 86,
      "metadata": {
        "id": "6u6Pp8x9Fs80"
      },
      "outputs": [],
      "source": [
        "from alibi_detect.datasets import fetch_cifar10c,  corruption_types_cifar10c"
      ]
    },
    {
      "cell_type": "markdown",
      "metadata": {
        "id": "KH81nEs_Fs82"
      },
      "source": [
        "Afficher les types de corruption de données disponible avec la fonction corruption_types_cifar10c"
      ]
    },
    {
      "cell_type": "code",
      "execution_count": 87,
      "metadata": {
        "id": "OH0zp3fbFs84"
      },
      "outputs": [
        {
          "data": {
            "text/plain": [
              "['brightness',\n",
              " 'contrast',\n",
              " 'defocus_blur',\n",
              " 'elastic_transform',\n",
              " 'fog',\n",
              " 'frost',\n",
              " 'gaussian_blur',\n",
              " 'gaussian_noise',\n",
              " 'glass_blur',\n",
              " 'impulse_noise',\n",
              " 'jpeg_compression',\n",
              " 'motion_blur',\n",
              " 'pixelate',\n",
              " 'saturate',\n",
              " 'shot_noise',\n",
              " 'snow',\n",
              " 'spatter',\n",
              " 'speckle_noise',\n",
              " 'zoom_blur']"
            ]
          },
          "execution_count": 87,
          "metadata": {},
          "output_type": "execute_result"
        }
      ],
      "source": [
        "corruption_types_cifar10c()"
      ]
    },
    {
      "cell_type": "markdown",
      "metadata": {
        "id": "HDTT-67yFs86"
      },
      "source": [
        "Avec la fonction fetch_cifar10c récupérer des exemples corrompus de donnée ressemblant à cifar 10 et les stocker dans des variable X_corrupted et y_corrupted.\n",
        "\n",
        "Vous choisirez 1 ou 2 corruptions parmis les suivantes : ['gaussian_noise', 'motion_blur', 'brightness', 'pixelate']\n",
        "\n",
        "Vous spécifirez les argument severity=5 et return_X_y=True\n",
        "attention le dataset peut être lourd si vous utilisez bcp de corruptions"
      ]
    },
    {
      "cell_type": "code",
      "execution_count": 88,
      "metadata": {
        "id": "o8SL8z_TFs8-"
      },
      "outputs": [],
      "source": [
        "corruption = ['gaussian_noise', 'motion_blur']\n",
        "X_corrupted, y = fetch_cifar10c(corruption=corruption, severity=5, return_X_y=True)"
      ]
    },
    {
      "cell_type": "markdown",
      "metadata": {
        "id": "Ilj7rn6aFs8_"
      },
      "source": [
        "Normaliser les images corrompues"
      ]
    },
    {
      "cell_type": "code",
      "execution_count": 89,
      "metadata": {},
      "outputs": [],
      "source": [
        "X_corrupted_normalized = X_corrupted / 255.0"
      ]
    },
    {
      "cell_type": "markdown",
      "metadata": {
        "id": "h_mTwk7yFs9B"
      },
      "source": [
        "Afficher plusieurs des images corrompues."
      ]
    },
    {
      "cell_type": "code",
      "execution_count": 90,
      "metadata": {
        "id": "yHmjeAywFs9C"
      },
      "outputs": [
        {
          "data": {
            "image/png": "[encoded data removed]",
            "text/plain": [
              "<Figure size 640x480 with 4 Axes>"
            ]
          },
          "metadata": {},
          "output_type": "display_data"
        }
      ],
      "source": [
        "import matplotlib.pyplot as plt\n",
        "\n",
        "fig, ax = plt.subplots(2, 2)\n",
        "ax[0, 0].imshow(cifar10_test.data[0])\n",
        "ax[0, 0].set_title(\"Original Image\")\n",
        "ax[0, 1].imshow(X_corrupted_normalized[0])\n",
        "ax[0, 1].set_title(\"Corrupted Image\")\n",
        "ax[1, 0].imshow(cifar10_test.data[1])\n",
        "ax[1, 0].set_title(\"Original Image\")\n",
        "ax[1, 1].imshow(X_corrupted_normalized[1])\n",
        "ax[1, 1].set_title(\"Corrupted Image\")\n",
        "plt.show()"
      ]
    },
    {
      "cell_type": "markdown",
      "metadata": {
        "id": "Bev6XyQZFs9D"
      },
      "source": [
        "On va maintenant prendre un modèle entraîné sur cifar10 pour voir l'impact des performances sur le modèle.\n",
        "\n",
        "Avec la fonction  fetch_tf_model du module alibi_detect.utils.fetching, charger le modèle préentraîné resnet32 sur cifar10\n"
      ]
    },
    {
      "cell_type": "code",
      "execution_count": 91,
      "metadata": {
        "id": "WOkVyhy2Fs9G"
      },
      "outputs": [],
      "source": [
        "from alibi_detect.utils.fetching import fetch_tf_model, fetch_detector\n",
        "dataset = 'cifar10'\n",
        "model_name = 'resnet32'\n",
        "model = fetch_tf_model(dataset, model_name)"
      ]
    },
    {
      "cell_type": "markdown",
      "metadata": {
        "id": "PSVWdspmFs9K"
      },
      "source": [
        "Calculer la performance du model sur le jeu de train et de test"
      ]
    },
    {
      "cell_type": "code",
      "execution_count": 92,
      "metadata": {
        "id": "IyBxvmGaFs9M"
      },
      "outputs": [
        {
          "name": "stdout",
          "output_type": "stream",
          "text": [
            "1563/1563 [==============================] - 38s 24ms/step\n",
            "313/313 [==============================] - 7s 22ms/step\n"
          ]
        }
      ],
      "source": [
        "import tensorflow as tf\n",
        "\n",
        "X_train = cifar10_train.data / 255.0\n",
        "X_train_tf = tf.convert_to_tensor(X_train)\n",
        "X_test = cifar10_test.data / 255.0\n",
        "X_test_tf = tf.convert_to_tensor(X_test)\n",
        "\n",
        "y_train_tf = model.predict(X_train_tf)\n",
        "y_test_tf = model.predict(X_test_tf)"
      ]
    },
    {
      "cell_type": "code",
      "execution_count": 93,
      "metadata": {},
      "outputs": [
        {
          "name": "stdout",
          "output_type": "stream",
          "text": [
            "Training accuracy: 0.6162999868392944\n",
            "Test accuracy: 0.604200005531311\n"
          ]
        }
      ],
      "source": [
        "y_pred_class = y_train_tf.argmax(axis=1)\n",
        "print(f\"Training accuracy: {tf.keras.metrics.Accuracy()(y_pred_class, tf.convert_to_tensor(cifar10_train.targets)).numpy()}\")\n",
        "y_pred_class = y_test_tf.argmax(axis=1)\n",
        "print(f\"Test accuracy: {tf.keras.metrics.Accuracy()(y_pred_class, tf.convert_to_tensor(cifar10_test.targets)).numpy()}\")"
      ]
    },
    {
      "cell_type": "markdown",
      "metadata": {
        "id": "7SG82jqxFs9N"
      },
      "source": [
        "Calculer la performance du modèle sur le jeu de donnée corrompu. Vous devriez observer qu'il chute significativement"
      ]
    },
    {
      "cell_type": "code",
      "execution_count": 94,
      "metadata": {
        "id": "KWux1w8EFs9P"
      },
      "outputs": [
        {
          "name": "stdout",
          "output_type": "stream",
          "text": [
            "625/625 [==============================] - 12s 19ms/step\n"
          ]
        }
      ],
      "source": [
        "y_corrupted = model.predict(X_corrupted_normalized)"
      ]
    },
    {
      "cell_type": "code",
      "execution_count": 95,
      "metadata": {},
      "outputs": [
        {
          "name": "stdout",
          "output_type": "stream",
          "text": [
            "Corrupted test accuracy: 0.15845000743865967\n"
          ]
        }
      ],
      "source": [
        "y_pred_class_corrupted = y_corrupted.argmax(axis=1)\n",
        "print(f\"Corrupted test accuracy: {tf.keras.metrics.Accuracy()(y_pred_class_corrupted, tf.convert_to_tensor(y)).numpy()}\")"
      ]
    },
    {
      "cell_type": "markdown",
      "metadata": {
        "id": "RT9bns5tFs9Q"
      },
      "source": [
        "On va maintenant voir comment détecter les changement de distributions de données.\n",
        "\n",
        "Pour les données non tabulaire ou à haute dimension on procéde généralement en deux étapes :\n",
        "\n",
        "1. Faire une réduction de dimension\n",
        "2. Faire un test permettant de voir si les données projetées ont changé de distribution ou pas\n",
        "\n",
        "Il existe plusieurs manières de faire de la réduction de dimension. La plus classique est la PCA.\n",
        "\n",
        "Il est possible également d'utiliser des Auto-encoder\n",
        "\n",
        "Le code suivant permet de créer la première partie (l'encoder) d'un auto-encoder simple qui nous servira à réduire les dimension des données."
      ]
    },
    {
      "cell_type": "code",
      "execution_count": 96,
      "metadata": {
        "id": "ZBJao1RXFs9R"
      },
      "outputs": [],
      "source": [
        "from functools import partial\n",
        "from tensorflow.keras.layers import Conv2D, Dense, Flatten, InputLayer, Reshape\n",
        "from alibi_detect.cd.tensorflow import preprocess_drift\n",
        "\n",
        "tf.random.set_seed(0)\n",
        "\n",
        "# define encoder\n",
        "encoding_dim = 32\n",
        "encoder_net = tf.keras.Sequential(\n",
        "  [\n",
        "      InputLayer(input_shape=(32, 32, 3)),\n",
        "      Conv2D(64, 4, strides=2, padding='same', activation=tf.nn.relu),\n",
        "      Conv2D(128, 4, strides=2, padding='same', activation=tf.nn.relu),\n",
        "      Conv2D(512, 4, strides=2, padding='same', activation=tf.nn.relu),\n",
        "      Flatten(),\n",
        "      Dense(encoding_dim,)\n",
        "  ]\n",
        ")"
      ]
    },
    {
      "cell_type": "markdown",
      "metadata": {
        "id": "mH4ZehyHFs9S"
      },
      "source": [
        "Le drift detector a besoin d'une donnée de référence afin d'effectuer la comparaison avec les données à monitorer.\n",
        "Créer une variable X_ref avec un échantillon aléatoire des données de test"
      ]
    },
    {
      "cell_type": "code",
      "execution_count": 97,
      "metadata": {
        "id": "Kk6euJipFs9T"
      },
      "outputs": [],
      "source": [
        "import numpy as np\n",
        "\n",
        "idx_ref = np.random.choice(len(X_train), size=len(X_train)//10, replace=False)\n",
        "X_ref = X_train[idx_ref]"
      ]
    },
    {
      "cell_type": "markdown",
      "metadata": {
        "id": "2ZrtwSr4Fs9Z"
      },
      "source": [
        "A quoi sert le test statistique kolmogorov smirnoff ?"
      ]
    },
    {
      "cell_type": "markdown",
      "metadata": {
        "id": "3XsIOHxBFs9d"
      },
      "source": [
        "Il permet de comparer deux distributions et de savoir si elles sont statistiquement différentes ou pas."
      ]
    },
    {
      "cell_type": "markdown",
      "metadata": {
        "id": "pXatEJZOFs9f"
      },
      "source": [
        "Instancier la classe KSDrift dans une variable nommée **detector**\n",
        "\n",
        "Il faut lui passer le dataset de reference, une p value (prendre 0.05) et une fonction permettant de faire le preprocessing. On a créé la fonction pour vous\n"
      ]
    },
    {
      "cell_type": "code",
      "execution_count": 98,
      "metadata": {
        "id": "epmDLfAfFs9i"
      },
      "outputs": [],
      "source": [
        "from alibi_detect.cd.tensorflow import preprocess_drift\n",
        "preprocess_function = partial(preprocess_drift, model=encoder_net, batch_size=32)\n",
        "from alibi_detect.cd import KSDrift\n",
        "detector: KSDrift = KSDrift(\n",
        "    X_ref,\n",
        "    preprocess_fn=preprocess_function,\n",
        "    p_val=0.05,\n",
        ")"
      ]
    },
    {
      "cell_type": "markdown",
      "metadata": {
        "id": "zUSKpqulFs9k"
      },
      "source": [
        "A laide du Drift detector et la méthode predict faire des prediction sur les données de test et sur les données corrompue pour voir si il détecte un changement de distribution"
      ]
    },
    {
      "cell_type": "code",
      "execution_count": 99,
      "metadata": {
        "id": "yfaYUukjFs9o"
      },
      "outputs": [
        {
          "data": {
            "text/plain": [
              "{'data': {'is_drift': 0,\n",
              "  'distance': array([0.0137, 0.0171, 0.0107, 0.0195, 0.0192, 0.0139, 0.0147, 0.0147,\n",
              "         0.0153, 0.0136, 0.0177, 0.0207, 0.011 , 0.0114, 0.0106, 0.0229,\n",
              "         0.0198, 0.0119, 0.0191, 0.0109, 0.0097, 0.0154, 0.0236, 0.0133,\n",
              "         0.015 , 0.0098, 0.0159, 0.0293, 0.0115, 0.0166, 0.0143, 0.0136],\n",
              "        dtype=float32),\n",
              "  'p_val': array([0.5542654 , 0.28076285, 0.83590186, 0.15643357, 0.16903503,\n",
              "         0.5354707 , 0.46299198, 0.46299198, 0.41209894, 0.5637441 ,\n",
              "         0.24441569, 0.11335489, 0.8104732 , 0.7747722 , 0.8440764 ,\n",
              "         0.05972292, 0.14459428, 0.7280201 , 0.17340982, 0.81909186,\n",
              "         0.9093294 , 0.40394238, 0.04805017, 0.59245425, 0.43713686,\n",
              "         0.9029034 , 0.36463714, 0.00641064, 0.76558286, 0.3138917 ,\n",
              "         0.49863914, 0.5637441 ], dtype=float32),\n",
              "  'threshold': 0.0015625},\n",
              " 'meta': {'name': 'KSDrift',\n",
              "  'online': False,\n",
              "  'data_type': None,\n",
              "  'version': '0.12.0',\n",
              "  'detector_type': 'drift'}}"
            ]
          },
          "execution_count": 99,
          "metadata": {},
          "output_type": "execute_result"
        }
      ],
      "source": [
        "detector.predict(X_test)"
      ]
    },
    {
      "cell_type": "code",
      "execution_count": 100,
      "metadata": {},
      "outputs": [
        {
          "data": {
            "text/plain": [
              "{'data': {'is_drift': 1,\n",
              "  'distance': array([0.01085, 0.0152 , 0.0114 , 0.0158 , 0.01895, 0.01695, 0.0106 ,\n",
              "         0.0236 , 0.0169 , 0.01365, 0.0249 , 0.01125, 0.01885, 0.01945,\n",
              "         0.01055, 0.018  , 0.025  , 0.0114 , 0.0117 , 0.0091 , 0.01415,\n",
              "         0.01485, 0.0382 , 0.0117 , 0.01725, 0.0082 , 0.0119 , 0.0252 ,\n",
              "         0.0308 , 0.0109 , 0.01235, 0.01755], dtype=float32),\n",
              "  'p_val': array([7.29744136e-01, 3.10648859e-01, 6.71648622e-01, 2.67956942e-01,\n",
              "         1.11631677e-01, 1.98380128e-01, 7.55557358e-01, 2.28552949e-02,\n",
              "         2.01083183e-01, 4.41454083e-01, 1.37881795e-02, 6.87606514e-01,\n",
              "         1.15065105e-01, 9.57096368e-02, 7.60653496e-01, 1.47887945e-01,\n",
              "         1.32475970e-02, 6.71648622e-01, 6.39652669e-01, 8.91834855e-01,\n",
              "         3.96123201e-01, 3.37628037e-01, 1.65456040e-05, 6.39652669e-01,\n",
              "         1.82748869e-01, 9.48731959e-01, 6.18353784e-01, 1.22233089e-02,\n",
              "         9.90113826e-04, 7.24524260e-01, 5.70873737e-01, 1.68099493e-01],\n",
              "        dtype=float32),\n",
              "  'threshold': 0.0015625},\n",
              " 'meta': {'name': 'KSDrift',\n",
              "  'online': False,\n",
              "  'data_type': None,\n",
              "  'version': '0.12.0',\n",
              "  'detector_type': 'drift'}}"
            ]
          },
          "execution_count": 100,
          "metadata": {},
          "output_type": "execute_result"
        }
      ],
      "source": [
        "detector.predict(X_corrupted_normalized)"
      ]
    },
    {
      "cell_type": "markdown",
      "metadata": {},
      "source": [
        "Dans ce cas la nous avons reussi a faire en sorte que le detecte un drift pour le dataset corrompu mais pas pour le dataset de test normal.\n",
        "Je pense qu'il est quand meme important de noter que cette approche est assez sensible aux hyperparamètres (taille de l'echantillon de reference, p value, architecture de l'auto-encoder etc..)\n",
        "Ici en prenant 1/10eme des données de train comme reference on a reussi a detecter le drift sur le dataset corrompu."
      ]
    },
    {
      "cell_type": "code",
      "execution_count": null,
      "metadata": {},
      "outputs": [],
      "source": []
    }
  ],
  "metadata": {
    "colab": {
      "provenance": []
    },
    "kernelspec": {
      "display_name": ".venv",
      "language": "python",
      "name": "python3"
    },
    "language_info": {
      "codemirror_mode": {
        "name": "ipython",
        "version": 3
      },
      "file_extension": ".py",
      "mimetype": "text/x-python",
      "name": "python",
      "nbconvert_exporter": "python",
      "pygments_lexer": "ipython3",
      "version": "3.12.3"
    }
  },
  "nbformat": 4,
  "nbformat_minor": 0
}
